{
 "cells": [
  {
   "cell_type": "code",
   "execution_count": 1,
   "id": "c9831112-fd07-472f-82a3-a05af91acba7",
   "metadata": {},
   "outputs": [],
   "source": [
    "#imports\n",
    "import numpy as np\n",
    "import pandas as pd\n",
    "import matplotlib.pyplot as plt\n",
    "import seaborn as sns\n",
    "from sklearn.preprocessing import LabelEncoder\n",
    "from sklearn.linear_model import LogisticRegression\n",
    "from sklearn.naive_bayes import GaussianNB\n",
    "from sklearn.tree import DecisionTreeClassifier\n",
    "from sklearn.linear_model import Perceptron\n",
    "from sklearn.neural_network import MLPClassifier\n",
    "from sklearn.metrics import accuracy_score\n",
    "from sklearn.model_selection import train_test_split\n",
    "from sklearn.model_selection import GridSearchCV\n",
    "from sklearn.metrics import classification_report"
   ]
  },
  {
   "cell_type": "code",
   "execution_count": 2,
   "id": "1a24ea75-41c3-4e24-ba73-5b3d9b79c263",
   "metadata": {},
   "outputs": [],
   "source": [
    "data = pd.read_csv(\"prosperLoanData.csv\") # the full dataset"
   ]
  },
  {
   "cell_type": "markdown",
   "id": "dab87f32-1d4d-431d-9101-16253ddf3d3d",
   "metadata": {
    "tags": []
   },
   "source": [
    "### Dropped column names"
   ]
  },
  {
   "cell_type": "code",
   "execution_count": 3,
   "id": "61c7c067-961f-4e83-a855-9691c2b36c36",
   "metadata": {},
   "outputs": [],
   "source": [
    "dropped = ['ListingNumber', 'LoanNumber', 'GroupKey', 'LoanKey', 'MemberKey', 'ListingKey']"
   ]
  },
  {
   "cell_type": "code",
   "execution_count": 4,
   "id": "ad3f0388-1ed9-44ce-b505-3375339da17b",
   "metadata": {},
   "outputs": [],
   "source": [
    "for col in data.columns :\n",
    "    if (data[col].isnull().sum() > 0) and col not in dropped:\n",
    "        sum_null = data[col].isnull().sum()\n",
    "        percent_null = (sum_null/data.shape[0]) * 100\n",
    "        if percent_null > 70 :\n",
    "            dropped.append(col)"
   ]
  },
  {
   "cell_type": "markdown",
   "id": "1e61dc39-1697-4c2e-ade8-569c8bba7227",
   "metadata": {},
   "source": [
    "## Data Preprocessing"
   ]
  },
  {
   "cell_type": "markdown",
   "id": "0fcce564-b84b-41bb-9e75-3b5cecd597ec",
   "metadata": {},
   "source": [
    "### Imputing `CreditGrade` & `ProsperRating (Alpha)` "
   ]
  },
  {
   "cell_type": "code",
   "execution_count": 5,
   "id": "93eb00ef-402a-4452-a13a-9b9057aaeb5d",
   "metadata": {},
   "outputs": [],
   "source": [
    "data['CreditGrade'].fillna(data['ProsperRating (Alpha)'],inplace=True)"
   ]
  },
  {
   "cell_type": "code",
   "execution_count": 6,
   "id": "c06446e5-b790-493a-84dc-5375cab53bcd",
   "metadata": {},
   "outputs": [],
   "source": [
    "dropped.extend(['ProsperRating (Alpha)','ProsperRating (numeric)'])\n",
    "dropped.remove('CreditGrade')"
   ]
  },
  {
   "cell_type": "code",
   "execution_count": 7,
   "id": "0fc41cde-2cb9-4143-b21d-a65c058fdd56",
   "metadata": {},
   "outputs": [],
   "source": [
    "data.drop(dropped,axis=1,inplace=True)"
   ]
  },
  {
   "cell_type": "markdown",
   "id": "52ef46d2-27c2-47be-9a2f-116ad4180c9d",
   "metadata": {},
   "source": [
    "### Filling missing values"
   ]
  },
  {
   "cell_type": "code",
   "execution_count": 8,
   "id": "f94eb0b2-4e91-4bfc-a0f3-897c1d75c0f3",
   "metadata": {},
   "outputs": [
    {
     "data": {
      "text/plain": [
       "ClosedDate                 58848\n",
       "EstimatedReturn            29084\n",
       "ProsperScore               29084\n",
       "EstimatedEffectiveYield    29084\n",
       "EstimatedLoss              29084\n",
       "                           ...  \n",
       "LenderYield                    0\n",
       "BorrowerRate                   0\n",
       "LoanStatus                     0\n",
       "Term                           0\n",
       "Investors                      0\n",
       "Length: 64, dtype: int64"
      ]
     },
     "execution_count": 8,
     "metadata": {},
     "output_type": "execute_result"
    }
   ],
   "source": [
    "data.isnull().sum().sort_values(ascending=False)"
   ]
  },
  {
   "cell_type": "code",
   "execution_count": 9,
   "id": "b89e86b9-9907-4a0a-9b69-9d0c592b8559",
   "metadata": {},
   "outputs": [
    {
     "data": {
      "text/plain": [
       "0"
      ]
     },
     "execution_count": 9,
     "metadata": {},
     "output_type": "execute_result"
    }
   ],
   "source": [
    "for col in data.select_dtypes('float64').columns:\n",
    "    if data[col].isnull().sum() > 0: \n",
    "        data[col].fillna(data[col].median(),inplace=True)\n",
    "data.select_dtypes('float64').isnull().sum().sum()"
   ]
  },
  {
   "cell_type": "code",
   "execution_count": 10,
   "id": "492dc3cc-abcf-4f79-899c-c827a21b93eb",
   "metadata": {},
   "outputs": [
    {
     "data": {
      "text/plain": [
       "0"
      ]
     },
     "execution_count": 10,
     "metadata": {},
     "output_type": "execute_result"
    }
   ],
   "source": [
    "for col in data.select_dtypes('int64').columns: \n",
    "    if data[col].nunique() > 100:\n",
    "        data[col].fillna(data[col].median(), inplace=True)\n",
    "    else:\n",
    "        data[col].fillna(data[col].mode(), inplace=True)\n",
    "data.select_dtypes('int64').isnull().sum().sum()"
   ]
  },
  {
   "cell_type": "code",
   "execution_count": 11,
   "id": "802e41e8-afb1-493a-946e-ac53343b13f6",
   "metadata": {},
   "outputs": [
    {
     "data": {
      "text/plain": [
       "0"
      ]
     },
     "execution_count": 11,
     "metadata": {},
     "output_type": "execute_result"
    }
   ],
   "source": [
    "for col in data.columns :\n",
    "    if data[col].isnull().sum() > 0 :\n",
    "        data[col].fillna(data[col].mode()[0],inplace=True)\n",
    "data.isnull().sum().sum()"
   ]
  },
  {
   "cell_type": "markdown",
   "id": "5e631224-0e62-4e16-8b86-bdff6cd172de",
   "metadata": {},
   "source": [
    "### Imputing Dates"
   ]
  },
  {
   "cell_type": "code",
   "execution_count": 12,
   "id": "712a6227-e397-4a4b-954d-88d1f7a9a591",
   "metadata": {},
   "outputs": [],
   "source": [
    "date =['FirstRecordedCreditLine','DateCreditPulled','ListingCreationDate','ClosedDate','LoanOriginationDate']\n",
    "# convert date columns from object to datetime \n",
    "for i in date:\n",
    "    #to get ride of time convert data to datetime\n",
    "    data[i]=pd.to_datetime(data[i])\n",
    "    data[i]=data[i].dt.date  # datatype=object\n",
    "    # split each coloumn to year month day then delet it \n",
    "    data[f'{i}_year']= pd.DatetimeIndex(data[f'{i}']).year\n",
    "    data[f'{i}_month']= pd.DatetimeIndex(data[f'{i}']).month\n",
    "    data[f'{i}_day']= pd.DatetimeIndex(data[f'{i}']).day\n",
    "    del(data[f'{i}'])"
   ]
  },
  {
   "cell_type": "markdown",
   "id": "4b002f25-ca3c-4063-8e08-bf9060ae8ec3",
   "metadata": {},
   "source": [
    "### Detecting Outliers"
   ]
  },
  {
   "cell_type": "code",
   "execution_count": 13,
   "id": "64235248-e9d4-4574-addb-c2e4e7d327db",
   "metadata": {},
   "outputs": [
    {
     "name": "stderr",
     "output_type": "stream",
     "text": [
      "c:\\users\\alaa_\\appdata\\local\\programs\\python\\python39\\lib\\site-packages\\pandas\\core\\indexing.py:1732: SettingWithCopyWarning: \n",
      "A value is trying to be set on a copy of a slice from a DataFrame\n",
      "\n",
      "See the caveats in the documentation: https://pandas.pydata.org/pandas-docs/stable/user_guide/indexing.html#returning-a-view-versus-a-copy\n",
      "  self._setitem_single_block(indexer, value, name)\n"
     ]
    }
   ],
   "source": [
    "for col in data.columns:\n",
    "        if (((data[col].dtype)=='float64') | ((data[col].dtype)=='int64')):\n",
    "            percentiles = data[col].quantile([0.25,0.75]).values\n",
    "            iqr = percentiles[1] - percentiles[0]\n",
    "            lower_bound = percentiles[0] -(1.5 * iqr) \n",
    "            upper_bound = percentiles[1] +(1.5 * iqr)\n",
    "            data[col].loc[data[col] < lower_bound] = lower_bound\n",
    "            data[col].loc[data[col] > upper_bound] = upper_bound\n",
    "        else:\n",
    "            data[col]=data[col]"
   ]
  },
  {
   "cell_type": "markdown",
   "id": "c7a0a17e-c202-40ff-ae06-f5a989fb3af4",
   "metadata": {},
   "source": [
    "### Imputing Target Value"
   ]
  },
  {
   "cell_type": "code",
   "execution_count": 14,
   "id": "f22f276b-dd18-48b1-a4df-43e9afb1eef0",
   "metadata": {},
   "outputs": [],
   "source": [
    "def target_handling(row): \n",
    "    if row in ['Completed','Cancelled']:\n",
    "        return 1\n",
    "    else:\n",
    "        return 0\n",
    "\n",
    "data['Status'] = data['LoanStatus'].apply(target_handling)\n",
    "data.drop('LoanStatus',axis=1,inplace=True)"
   ]
  },
  {
   "cell_type": "markdown",
   "id": "45b27745-d72a-4514-9b5b-8f434d1381f7",
   "metadata": {},
   "source": [
    "### Encoding "
   ]
  },
  {
   "cell_type": "code",
   "execution_count": 15,
   "id": "1b403017-8181-433a-9fca-5783cc406c86",
   "metadata": {},
   "outputs": [
    {
     "data": {
      "text/plain": [
       "CreditGrade                8\n",
       "BorrowerState             51\n",
       "Occupation                67\n",
       "EmploymentStatus           8\n",
       "IncomeRange                8\n",
       "LoanOriginationQuarter    33\n",
       "dtype: int64"
      ]
     },
     "execution_count": 15,
     "metadata": {},
     "output_type": "execute_result"
    }
   ],
   "source": [
    "obj = data.select_dtypes('object')\n",
    "obj.nunique()"
   ]
  },
  {
   "cell_type": "code",
   "execution_count": 16,
   "id": "aa4af10d-d5d7-4061-9df4-0e6a7439f52b",
   "metadata": {},
   "outputs": [],
   "source": [
    "### one hot encoding\n",
    "dummies = pd.get_dummies(data[['CreditGrade', 'EmploymentStatus', 'IncomeRange','LoanOriginationQuarter']], drop_first=True)"
   ]
  },
  {
   "cell_type": "code",
   "execution_count": 17,
   "id": "3e1dc896-eaba-46e8-bd0a-7b301eeb8889",
   "metadata": {},
   "outputs": [],
   "source": [
    "## label enc\n",
    "le = LabelEncoder()\n",
    "data[['BorrowerState','Occupation']] = data[['BorrowerState','Occupation']].apply(le.fit_transform)"
   ]
  },
  {
   "cell_type": "code",
   "execution_count": 18,
   "id": "3dba07d5-a904-48ad-bfc6-1d3d1678f6b0",
   "metadata": {},
   "outputs": [],
   "source": [
    "data = pd.concat([data.drop(obj,axis=1),dummies],axis=1)"
   ]
  },
  {
   "cell_type": "code",
   "execution_count": 19,
   "id": "32d8928f-4971-490d-92a7-3302543ee37f",
   "metadata": {},
   "outputs": [
    {
     "data": {
      "text/html": [
       "<div>\n",
       "<style scoped>\n",
       "    .dataframe tbody tr th:only-of-type {\n",
       "        vertical-align: middle;\n",
       "    }\n",
       "\n",
       "    .dataframe tbody tr th {\n",
       "        vertical-align: top;\n",
       "    }\n",
       "\n",
       "    .dataframe thead th {\n",
       "        text-align: right;\n",
       "    }\n",
       "</style>\n",
       "<table border=\"1\" class=\"dataframe\">\n",
       "  <thead>\n",
       "    <tr style=\"text-align: right;\">\n",
       "      <th></th>\n",
       "    </tr>\n",
       "  </thead>\n",
       "  <tbody>\n",
       "    <tr>\n",
       "      <th>0</th>\n",
       "    </tr>\n",
       "    <tr>\n",
       "      <th>1</th>\n",
       "    </tr>\n",
       "    <tr>\n",
       "      <th>2</th>\n",
       "    </tr>\n",
       "    <tr>\n",
       "      <th>3</th>\n",
       "    </tr>\n",
       "    <tr>\n",
       "      <th>4</th>\n",
       "    </tr>\n",
       "    <tr>\n",
       "      <th>...</th>\n",
       "    </tr>\n",
       "    <tr>\n",
       "      <th>113932</th>\n",
       "    </tr>\n",
       "    <tr>\n",
       "      <th>113933</th>\n",
       "    </tr>\n",
       "    <tr>\n",
       "      <th>113934</th>\n",
       "    </tr>\n",
       "    <tr>\n",
       "      <th>113935</th>\n",
       "    </tr>\n",
       "    <tr>\n",
       "      <th>113936</th>\n",
       "    </tr>\n",
       "  </tbody>\n",
       "</table>\n",
       "<p>113937 rows × 0 columns</p>\n",
       "</div>"
      ],
      "text/plain": [
       "Empty DataFrame\n",
       "Columns: []\n",
       "Index: [0, 1, 2, 3, 4, 5, 6, 7, 8, 9, 10, 11, 12, 13, 14, 15, 16, 17, 18, 19, 20, 21, 22, 23, 24, 25, 26, 27, 28, 29, 30, 31, 32, 33, 34, 35, 36, 37, 38, 39, 40, 41, 42, 43, 44, 45, 46, 47, 48, 49, 50, 51, 52, 53, 54, 55, 56, 57, 58, 59, 60, 61, 62, 63, 64, 65, 66, 67, 68, 69, 70, 71, 72, 73, 74, 75, 76, 77, 78, 79, 80, 81, 82, 83, 84, 85, 86, 87, 88, 89, 90, 91, 92, 93, 94, 95, 96, 97, 98, 99, ...]\n",
       "\n",
       "[113937 rows x 0 columns]"
      ]
     },
     "execution_count": 19,
     "metadata": {},
     "output_type": "execute_result"
    }
   ],
   "source": [
    "data.select_dtypes('object')"
   ]
  },
  {
   "cell_type": "code",
   "execution_count": 20,
   "id": "04b0cd8f-3352-4d55-856f-0fa306e65f87",
   "metadata": {},
   "outputs": [
    {
     "data": {
      "text/html": [
       "<div>\n",
       "<style scoped>\n",
       "    .dataframe tbody tr th:only-of-type {\n",
       "        vertical-align: middle;\n",
       "    }\n",
       "\n",
       "    .dataframe tbody tr th {\n",
       "        vertical-align: top;\n",
       "    }\n",
       "\n",
       "    .dataframe thead th {\n",
       "        text-align: right;\n",
       "    }\n",
       "</style>\n",
       "<table border=\"1\" class=\"dataframe\">\n",
       "  <thead>\n",
       "    <tr style=\"text-align: right;\">\n",
       "      <th></th>\n",
       "      <th>Term</th>\n",
       "      <th>BorrowerAPR</th>\n",
       "      <th>BorrowerRate</th>\n",
       "      <th>LenderYield</th>\n",
       "      <th>EstimatedEffectiveYield</th>\n",
       "      <th>EstimatedLoss</th>\n",
       "      <th>EstimatedReturn</th>\n",
       "      <th>ProsperScore</th>\n",
       "      <th>ListingCategory (numeric)</th>\n",
       "      <th>EmploymentStatusDuration</th>\n",
       "      <th>...</th>\n",
       "      <th>LoanOriginationQuarter_Q3 2013</th>\n",
       "      <th>LoanOriginationQuarter_Q4 2005</th>\n",
       "      <th>LoanOriginationQuarter_Q4 2006</th>\n",
       "      <th>LoanOriginationQuarter_Q4 2007</th>\n",
       "      <th>LoanOriginationQuarter_Q4 2008</th>\n",
       "      <th>LoanOriginationQuarter_Q4 2009</th>\n",
       "      <th>LoanOriginationQuarter_Q4 2010</th>\n",
       "      <th>LoanOriginationQuarter_Q4 2011</th>\n",
       "      <th>LoanOriginationQuarter_Q4 2012</th>\n",
       "      <th>LoanOriginationQuarter_Q4 2013</th>\n",
       "    </tr>\n",
       "  </thead>\n",
       "  <tbody>\n",
       "    <tr>\n",
       "      <th>0</th>\n",
       "      <td>36</td>\n",
       "      <td>0.16516</td>\n",
       "      <td>0.1580</td>\n",
       "      <td>0.1380</td>\n",
       "      <td>0.16150</td>\n",
       "      <td>0.0724</td>\n",
       "      <td>0.09170</td>\n",
       "      <td>6.0</td>\n",
       "      <td>0</td>\n",
       "      <td>2.0</td>\n",
       "      <td>...</td>\n",
       "      <td>0</td>\n",
       "      <td>0</td>\n",
       "      <td>0</td>\n",
       "      <td>0</td>\n",
       "      <td>0</td>\n",
       "      <td>0</td>\n",
       "      <td>0</td>\n",
       "      <td>0</td>\n",
       "      <td>0</td>\n",
       "      <td>0</td>\n",
       "    </tr>\n",
       "    <tr>\n",
       "      <th>1</th>\n",
       "      <td>36</td>\n",
       "      <td>0.12016</td>\n",
       "      <td>0.0920</td>\n",
       "      <td>0.0820</td>\n",
       "      <td>0.07960</td>\n",
       "      <td>0.0249</td>\n",
       "      <td>0.05470</td>\n",
       "      <td>7.0</td>\n",
       "      <td>2</td>\n",
       "      <td>44.0</td>\n",
       "      <td>...</td>\n",
       "      <td>0</td>\n",
       "      <td>0</td>\n",
       "      <td>0</td>\n",
       "      <td>0</td>\n",
       "      <td>0</td>\n",
       "      <td>0</td>\n",
       "      <td>0</td>\n",
       "      <td>0</td>\n",
       "      <td>0</td>\n",
       "      <td>0</td>\n",
       "    </tr>\n",
       "    <tr>\n",
       "      <th>2</th>\n",
       "      <td>36</td>\n",
       "      <td>0.28269</td>\n",
       "      <td>0.2750</td>\n",
       "      <td>0.2400</td>\n",
       "      <td>0.16150</td>\n",
       "      <td>0.0724</td>\n",
       "      <td>0.09170</td>\n",
       "      <td>6.0</td>\n",
       "      <td>0</td>\n",
       "      <td>67.0</td>\n",
       "      <td>...</td>\n",
       "      <td>0</td>\n",
       "      <td>0</td>\n",
       "      <td>0</td>\n",
       "      <td>0</td>\n",
       "      <td>0</td>\n",
       "      <td>0</td>\n",
       "      <td>0</td>\n",
       "      <td>0</td>\n",
       "      <td>0</td>\n",
       "      <td>0</td>\n",
       "    </tr>\n",
       "    <tr>\n",
       "      <th>3</th>\n",
       "      <td>36</td>\n",
       "      <td>0.12528</td>\n",
       "      <td>0.0974</td>\n",
       "      <td>0.0874</td>\n",
       "      <td>0.08490</td>\n",
       "      <td>0.0249</td>\n",
       "      <td>0.06000</td>\n",
       "      <td>9.0</td>\n",
       "      <td>6</td>\n",
       "      <td>113.0</td>\n",
       "      <td>...</td>\n",
       "      <td>0</td>\n",
       "      <td>0</td>\n",
       "      <td>0</td>\n",
       "      <td>0</td>\n",
       "      <td>0</td>\n",
       "      <td>0</td>\n",
       "      <td>0</td>\n",
       "      <td>0</td>\n",
       "      <td>1</td>\n",
       "      <td>0</td>\n",
       "    </tr>\n",
       "    <tr>\n",
       "      <th>4</th>\n",
       "      <td>36</td>\n",
       "      <td>0.24614</td>\n",
       "      <td>0.2085</td>\n",
       "      <td>0.1985</td>\n",
       "      <td>0.18316</td>\n",
       "      <td>0.0925</td>\n",
       "      <td>0.09066</td>\n",
       "      <td>4.0</td>\n",
       "      <td>2</td>\n",
       "      <td>44.0</td>\n",
       "      <td>...</td>\n",
       "      <td>1</td>\n",
       "      <td>0</td>\n",
       "      <td>0</td>\n",
       "      <td>0</td>\n",
       "      <td>0</td>\n",
       "      <td>0</td>\n",
       "      <td>0</td>\n",
       "      <td>0</td>\n",
       "      <td>0</td>\n",
       "      <td>0</td>\n",
       "    </tr>\n",
       "    <tr>\n",
       "      <th>...</th>\n",
       "      <td>...</td>\n",
       "      <td>...</td>\n",
       "      <td>...</td>\n",
       "      <td>...</td>\n",
       "      <td>...</td>\n",
       "      <td>...</td>\n",
       "      <td>...</td>\n",
       "      <td>...</td>\n",
       "      <td>...</td>\n",
       "      <td>...</td>\n",
       "      <td>...</td>\n",
       "      <td>...</td>\n",
       "      <td>...</td>\n",
       "      <td>...</td>\n",
       "      <td>...</td>\n",
       "      <td>...</td>\n",
       "      <td>...</td>\n",
       "      <td>...</td>\n",
       "      <td>...</td>\n",
       "      <td>...</td>\n",
       "      <td>...</td>\n",
       "    </tr>\n",
       "    <tr>\n",
       "      <th>113932</th>\n",
       "      <td>36</td>\n",
       "      <td>0.22354</td>\n",
       "      <td>0.1864</td>\n",
       "      <td>0.1764</td>\n",
       "      <td>0.16490</td>\n",
       "      <td>0.0699</td>\n",
       "      <td>0.09500</td>\n",
       "      <td>5.0</td>\n",
       "      <td>1</td>\n",
       "      <td>246.0</td>\n",
       "      <td>...</td>\n",
       "      <td>0</td>\n",
       "      <td>0</td>\n",
       "      <td>0</td>\n",
       "      <td>0</td>\n",
       "      <td>0</td>\n",
       "      <td>0</td>\n",
       "      <td>0</td>\n",
       "      <td>0</td>\n",
       "      <td>0</td>\n",
       "      <td>0</td>\n",
       "    </tr>\n",
       "    <tr>\n",
       "      <th>113933</th>\n",
       "      <td>36</td>\n",
       "      <td>0.13220</td>\n",
       "      <td>0.1110</td>\n",
       "      <td>0.1010</td>\n",
       "      <td>0.10070</td>\n",
       "      <td>0.0200</td>\n",
       "      <td>0.08070</td>\n",
       "      <td>8.0</td>\n",
       "      <td>6</td>\n",
       "      <td>21.0</td>\n",
       "      <td>...</td>\n",
       "      <td>0</td>\n",
       "      <td>0</td>\n",
       "      <td>0</td>\n",
       "      <td>0</td>\n",
       "      <td>0</td>\n",
       "      <td>0</td>\n",
       "      <td>0</td>\n",
       "      <td>1</td>\n",
       "      <td>0</td>\n",
       "      <td>0</td>\n",
       "    </tr>\n",
       "    <tr>\n",
       "      <th>113934</th>\n",
       "      <td>36</td>\n",
       "      <td>0.23984</td>\n",
       "      <td>0.2150</td>\n",
       "      <td>0.2050</td>\n",
       "      <td>0.18828</td>\n",
       "      <td>0.1025</td>\n",
       "      <td>0.08578</td>\n",
       "      <td>3.0</td>\n",
       "      <td>1</td>\n",
       "      <td>84.0</td>\n",
       "      <td>...</td>\n",
       "      <td>0</td>\n",
       "      <td>0</td>\n",
       "      <td>0</td>\n",
       "      <td>0</td>\n",
       "      <td>0</td>\n",
       "      <td>0</td>\n",
       "      <td>0</td>\n",
       "      <td>0</td>\n",
       "      <td>0</td>\n",
       "      <td>1</td>\n",
       "    </tr>\n",
       "    <tr>\n",
       "      <th>113935</th>\n",
       "      <td>36</td>\n",
       "      <td>0.28408</td>\n",
       "      <td>0.2605</td>\n",
       "      <td>0.2505</td>\n",
       "      <td>0.24450</td>\n",
       "      <td>0.0850</td>\n",
       "      <td>0.15142</td>\n",
       "      <td>5.0</td>\n",
       "      <td>2</td>\n",
       "      <td>94.0</td>\n",
       "      <td>...</td>\n",
       "      <td>0</td>\n",
       "      <td>0</td>\n",
       "      <td>0</td>\n",
       "      <td>0</td>\n",
       "      <td>0</td>\n",
       "      <td>0</td>\n",
       "      <td>0</td>\n",
       "      <td>1</td>\n",
       "      <td>0</td>\n",
       "      <td>0</td>\n",
       "    </tr>\n",
       "    <tr>\n",
       "      <th>113936</th>\n",
       "      <td>36</td>\n",
       "      <td>0.13189</td>\n",
       "      <td>0.1039</td>\n",
       "      <td>0.0939</td>\n",
       "      <td>0.09071</td>\n",
       "      <td>0.0299</td>\n",
       "      <td>0.06081</td>\n",
       "      <td>7.0</td>\n",
       "      <td>1</td>\n",
       "      <td>244.0</td>\n",
       "      <td>...</td>\n",
       "      <td>0</td>\n",
       "      <td>0</td>\n",
       "      <td>0</td>\n",
       "      <td>0</td>\n",
       "      <td>0</td>\n",
       "      <td>0</td>\n",
       "      <td>0</td>\n",
       "      <td>0</td>\n",
       "      <td>0</td>\n",
       "      <td>0</td>\n",
       "    </tr>\n",
       "  </tbody>\n",
       "</table>\n",
       "<p>113937 rows × 121 columns</p>\n",
       "</div>"
      ],
      "text/plain": [
       "        Term  BorrowerAPR  BorrowerRate  LenderYield  EstimatedEffectiveYield  \\\n",
       "0         36      0.16516        0.1580       0.1380                  0.16150   \n",
       "1         36      0.12016        0.0920       0.0820                  0.07960   \n",
       "2         36      0.28269        0.2750       0.2400                  0.16150   \n",
       "3         36      0.12528        0.0974       0.0874                  0.08490   \n",
       "4         36      0.24614        0.2085       0.1985                  0.18316   \n",
       "...      ...          ...           ...          ...                      ...   \n",
       "113932    36      0.22354        0.1864       0.1764                  0.16490   \n",
       "113933    36      0.13220        0.1110       0.1010                  0.10070   \n",
       "113934    36      0.23984        0.2150       0.2050                  0.18828   \n",
       "113935    36      0.28408        0.2605       0.2505                  0.24450   \n",
       "113936    36      0.13189        0.1039       0.0939                  0.09071   \n",
       "\n",
       "        EstimatedLoss  EstimatedReturn  ProsperScore  \\\n",
       "0              0.0724          0.09170           6.0   \n",
       "1              0.0249          0.05470           7.0   \n",
       "2              0.0724          0.09170           6.0   \n",
       "3              0.0249          0.06000           9.0   \n",
       "4              0.0925          0.09066           4.0   \n",
       "...               ...              ...           ...   \n",
       "113932         0.0699          0.09500           5.0   \n",
       "113933         0.0200          0.08070           8.0   \n",
       "113934         0.1025          0.08578           3.0   \n",
       "113935         0.0850          0.15142           5.0   \n",
       "113936         0.0299          0.06081           7.0   \n",
       "\n",
       "        ListingCategory (numeric)  EmploymentStatusDuration  ...  \\\n",
       "0                               0                       2.0  ...   \n",
       "1                               2                      44.0  ...   \n",
       "2                               0                      67.0  ...   \n",
       "3                               6                     113.0  ...   \n",
       "4                               2                      44.0  ...   \n",
       "...                           ...                       ...  ...   \n",
       "113932                          1                     246.0  ...   \n",
       "113933                          6                      21.0  ...   \n",
       "113934                          1                      84.0  ...   \n",
       "113935                          2                      94.0  ...   \n",
       "113936                          1                     244.0  ...   \n",
       "\n",
       "        LoanOriginationQuarter_Q3 2013  LoanOriginationQuarter_Q4 2005  \\\n",
       "0                                    0                               0   \n",
       "1                                    0                               0   \n",
       "2                                    0                               0   \n",
       "3                                    0                               0   \n",
       "4                                    1                               0   \n",
       "...                                ...                             ...   \n",
       "113932                               0                               0   \n",
       "113933                               0                               0   \n",
       "113934                               0                               0   \n",
       "113935                               0                               0   \n",
       "113936                               0                               0   \n",
       "\n",
       "        LoanOriginationQuarter_Q4 2006  LoanOriginationQuarter_Q4 2007  \\\n",
       "0                                    0                               0   \n",
       "1                                    0                               0   \n",
       "2                                    0                               0   \n",
       "3                                    0                               0   \n",
       "4                                    0                               0   \n",
       "...                                ...                             ...   \n",
       "113932                               0                               0   \n",
       "113933                               0                               0   \n",
       "113934                               0                               0   \n",
       "113935                               0                               0   \n",
       "113936                               0                               0   \n",
       "\n",
       "        LoanOriginationQuarter_Q4 2008  LoanOriginationQuarter_Q4 2009  \\\n",
       "0                                    0                               0   \n",
       "1                                    0                               0   \n",
       "2                                    0                               0   \n",
       "3                                    0                               0   \n",
       "4                                    0                               0   \n",
       "...                                ...                             ...   \n",
       "113932                               0                               0   \n",
       "113933                               0                               0   \n",
       "113934                               0                               0   \n",
       "113935                               0                               0   \n",
       "113936                               0                               0   \n",
       "\n",
       "        LoanOriginationQuarter_Q4 2010  LoanOriginationQuarter_Q4 2011  \\\n",
       "0                                    0                               0   \n",
       "1                                    0                               0   \n",
       "2                                    0                               0   \n",
       "3                                    0                               0   \n",
       "4                                    0                               0   \n",
       "...                                ...                             ...   \n",
       "113932                               0                               0   \n",
       "113933                               0                               1   \n",
       "113934                               0                               0   \n",
       "113935                               0                               1   \n",
       "113936                               0                               0   \n",
       "\n",
       "        LoanOriginationQuarter_Q4 2012  LoanOriginationQuarter_Q4 2013  \n",
       "0                                    0                               0  \n",
       "1                                    0                               0  \n",
       "2                                    0                               0  \n",
       "3                                    1                               0  \n",
       "4                                    0                               0  \n",
       "...                                ...                             ...  \n",
       "113932                               0                               0  \n",
       "113933                               0                               0  \n",
       "113934                               0                               1  \n",
       "113935                               0                               0  \n",
       "113936                               0                               0  \n",
       "\n",
       "[113937 rows x 121 columns]"
      ]
     },
     "execution_count": 20,
     "metadata": {},
     "output_type": "execute_result"
    }
   ],
   "source": [
    "data"
   ]
  },
  {
   "cell_type": "markdown",
   "id": "6e055145-4bef-4868-b763-cbe94c560714",
   "metadata": {},
   "source": [
    "# Feature Engineering"
   ]
  },
  {
   "cell_type": "markdown",
   "id": "4cd0e8fb-71ba-49cb-b5c6-767fce9c4422",
   "metadata": {},
   "source": [
    "#### Feature selection\n",
    "\n",
    "Correlation Matrix"
   ]
  },
  {
   "cell_type": "code",
   "execution_count": 21,
   "id": "eb7003a2-7edd-4305-bdf8-71047887fe1e",
   "metadata": {},
   "outputs": [],
   "source": [
    "corrlation = data.corrwith(data['Status']).sort_values(ascending = False)\n",
    "sel_col = corrlation[(corrlation > 0.2) | (corrlation < -0.2)]\n",
    "sel_col.drop('Status',inplace=True)"
   ]
  },
  {
   "cell_type": "code",
   "execution_count": 22,
   "id": "9a6f9b9c-89e6-4d0d-abf9-51bdcc4aad78",
   "metadata": {},
   "outputs": [
    {
     "data": {
      "text/plain": [
       "LP_CustomerPrincipalPayments      0.598873\n",
       "LoanMonthsSinceOrigination        0.511009\n",
       "LP_CustomerPayments               0.495524\n",
       "ClosedDate_day                    0.490463\n",
       "ClosedDate_month                  0.402980\n",
       "EmploymentStatus_Full-time        0.379026\n",
       "Investors                         0.209751\n",
       "MonthlyLoanPayment               -0.212010\n",
       "LoanOriginationQuarter_Q1 2014   -0.240876\n",
       "LoanOriginalAmount               -0.246930\n",
       "LoanOriginationQuarter_Q4 2013   -0.248212\n",
       "ClosedDate_year                  -0.465542\n",
       "DateCreditPulled_year            -0.507473\n",
       "LoanOriginationDate_year         -0.508288\n",
       "ListingCreationDate_year         -0.508800\n",
       "dtype: float64"
      ]
     },
     "execution_count": 22,
     "metadata": {},
     "output_type": "execute_result"
    }
   ],
   "source": [
    "sel_col"
   ]
  },
  {
   "cell_type": "code",
   "execution_count": 23,
   "id": "92acaa0e-ea49-4f50-be64-857d27b801a1",
   "metadata": {},
   "outputs": [],
   "source": [
    "data_copy = data.drop(sel_col.index,axis=1)"
   ]
  },
  {
   "cell_type": "markdown",
   "id": "8609e042-7e3b-412c-a3b6-6587a514dc14",
   "metadata": {},
   "source": [
    "#### Feature Extraction\n",
    "\n",
    "Normalization and PCA"
   ]
  },
  {
   "cell_type": "code",
   "execution_count": 24,
   "id": "9b9af64b-af80-4e5d-acb2-6a4830187f87",
   "metadata": {},
   "outputs": [],
   "source": [
    "from sklearn.preprocessing import Normalizer\n",
    "scaler = Normalizer()\n",
    "data_copy = scaler.fit_transform(data_copy)"
   ]
  },
  {
   "cell_type": "code",
   "execution_count": 25,
   "id": "13c192fe-18b0-4371-bc29-747bd5f4e119",
   "metadata": {},
   "outputs": [],
   "source": [
    "from sklearn.decomposition import PCA\n",
    "pca = PCA(n_components=5)\n",
    "data_copy_out = pca.fit_transform(data_copy)"
   ]
  },
  {
   "cell_type": "code",
   "execution_count": 26,
   "id": "26066f0e-3469-4cfa-a139-a399f1613944",
   "metadata": {},
   "outputs": [
    {
     "data": {
      "text/plain": [
       "(113937, 5)"
      ]
     },
     "execution_count": 26,
     "metadata": {},
     "output_type": "execute_result"
    }
   ],
   "source": [
    "data_copy_out.shape"
   ]
  },
  {
   "cell_type": "code",
   "execution_count": 27,
   "id": "00d8c767-c9de-45dd-b56d-65cca39d0747",
   "metadata": {},
   "outputs": [
    {
     "data": {
      "text/plain": [
       "array([0.46135327, 0.42102229, 0.06439477, 0.0267006 , 0.02568215])"
      ]
     },
     "execution_count": 27,
     "metadata": {},
     "output_type": "execute_result"
    }
   ],
   "source": [
    "pca.explained_variance_ratio_"
   ]
  },
  {
   "cell_type": "code",
   "execution_count": 28,
   "id": "e2884ffc-1bb5-4467-858b-179cf382e6f8",
   "metadata": {},
   "outputs": [],
   "source": [
    "pca_data = pd.DataFrame(data=data_copy_out,columns=['col1','col2','col3','col4','col5'])"
   ]
  },
  {
   "cell_type": "code",
   "execution_count": 29,
   "id": "3d285b9a-75c7-4405-97ee-b7be96c311eb",
   "metadata": {},
   "outputs": [],
   "source": [
    "new_data = pd.concat([data[sel_col.index],pca_data],axis=1)"
   ]
  },
  {
   "cell_type": "code",
   "execution_count": 30,
   "id": "62333b54-8f81-40ee-860a-2cd29f31e50d",
   "metadata": {},
   "outputs": [
    {
     "data": {
      "text/html": [
       "<div>\n",
       "<style scoped>\n",
       "    .dataframe tbody tr th:only-of-type {\n",
       "        vertical-align: middle;\n",
       "    }\n",
       "\n",
       "    .dataframe tbody tr th {\n",
       "        vertical-align: top;\n",
       "    }\n",
       "\n",
       "    .dataframe thead th {\n",
       "        text-align: right;\n",
       "    }\n",
       "</style>\n",
       "<table border=\"1\" class=\"dataframe\">\n",
       "  <thead>\n",
       "    <tr style=\"text-align: right;\">\n",
       "      <th></th>\n",
       "      <th>LP_CustomerPrincipalPayments</th>\n",
       "      <th>LoanMonthsSinceOrigination</th>\n",
       "      <th>LP_CustomerPayments</th>\n",
       "      <th>ClosedDate_day</th>\n",
       "      <th>ClosedDate_month</th>\n",
       "      <th>EmploymentStatus_Full-time</th>\n",
       "      <th>Investors</th>\n",
       "      <th>MonthlyLoanPayment</th>\n",
       "      <th>LoanOriginationQuarter_Q1 2014</th>\n",
       "      <th>LoanOriginalAmount</th>\n",
       "      <th>LoanOriginationQuarter_Q4 2013</th>\n",
       "      <th>ClosedDate_year</th>\n",
       "      <th>DateCreditPulled_year</th>\n",
       "      <th>LoanOriginationDate_year</th>\n",
       "      <th>ListingCreationDate_year</th>\n",
       "      <th>col1</th>\n",
       "      <th>col2</th>\n",
       "      <th>col3</th>\n",
       "      <th>col4</th>\n",
       "      <th>col5</th>\n",
       "    </tr>\n",
       "  </thead>\n",
       "  <tbody>\n",
       "    <tr>\n",
       "      <th>0</th>\n",
       "      <td>9248.665</td>\n",
       "      <td>78.0</td>\n",
       "      <td>11396.1400</td>\n",
       "      <td>14</td>\n",
       "      <td>8.0</td>\n",
       "      <td>0</td>\n",
       "      <td>258.0</td>\n",
       "      <td>330.43</td>\n",
       "      <td>0</td>\n",
       "      <td>9425</td>\n",
       "      <td>0</td>\n",
       "      <td>2009.0</td>\n",
       "      <td>2007.0</td>\n",
       "      <td>2007.0</td>\n",
       "      <td>2007.0</td>\n",
       "      <td>0.709912</td>\n",
       "      <td>-0.278916</td>\n",
       "      <td>0.192722</td>\n",
       "      <td>-0.121120</td>\n",
       "      <td>0.160290</td>\n",
       "    </tr>\n",
       "    <tr>\n",
       "      <th>1</th>\n",
       "      <td>0.000</td>\n",
       "      <td>0.0</td>\n",
       "      <td>0.0000</td>\n",
       "      <td>4</td>\n",
       "      <td>3.0</td>\n",
       "      <td>0</td>\n",
       "      <td>1.0</td>\n",
       "      <td>318.93</td>\n",
       "      <td>1</td>\n",
       "      <td>10000</td>\n",
       "      <td>0</td>\n",
       "      <td>2014.0</td>\n",
       "      <td>2014.0</td>\n",
       "      <td>2014.0</td>\n",
       "      <td>2014.0</td>\n",
       "      <td>0.388572</td>\n",
       "      <td>0.329822</td>\n",
       "      <td>-0.133688</td>\n",
       "      <td>-0.002813</td>\n",
       "      <td>-0.070494</td>\n",
       "    </tr>\n",
       "    <tr>\n",
       "      <th>2</th>\n",
       "      <td>3001.000</td>\n",
       "      <td>86.0</td>\n",
       "      <td>4186.6300</td>\n",
       "      <td>17</td>\n",
       "      <td>10.5</td>\n",
       "      <td>0</td>\n",
       "      <td>41.0</td>\n",
       "      <td>123.32</td>\n",
       "      <td>0</td>\n",
       "      <td>3001</td>\n",
       "      <td>0</td>\n",
       "      <td>2009.0</td>\n",
       "      <td>2007.0</td>\n",
       "      <td>2007.0</td>\n",
       "      <td>2007.0</td>\n",
       "      <td>-0.261381</td>\n",
       "      <td>0.099155</td>\n",
       "      <td>0.093808</td>\n",
       "      <td>-0.082823</td>\n",
       "      <td>-0.024337</td>\n",
       "    </tr>\n",
       "    <tr>\n",
       "      <th>3</th>\n",
       "      <td>4091.090</td>\n",
       "      <td>16.0</td>\n",
       "      <td>5143.2000</td>\n",
       "      <td>4</td>\n",
       "      <td>3.0</td>\n",
       "      <td>0</td>\n",
       "      <td>158.0</td>\n",
       "      <td>321.45</td>\n",
       "      <td>0</td>\n",
       "      <td>10000</td>\n",
       "      <td>0</td>\n",
       "      <td>2014.0</td>\n",
       "      <td>2012.0</td>\n",
       "      <td>2012.0</td>\n",
       "      <td>2012.0</td>\n",
       "      <td>0.500570</td>\n",
       "      <td>0.700750</td>\n",
       "      <td>0.092471</td>\n",
       "      <td>0.166378</td>\n",
       "      <td>0.098338</td>\n",
       "    </tr>\n",
       "    <tr>\n",
       "      <th>4</th>\n",
       "      <td>1563.220</td>\n",
       "      <td>6.0</td>\n",
       "      <td>2819.8500</td>\n",
       "      <td>4</td>\n",
       "      <td>3.0</td>\n",
       "      <td>0</td>\n",
       "      <td>20.0</td>\n",
       "      <td>563.97</td>\n",
       "      <td>0</td>\n",
       "      <td>15000</td>\n",
       "      <td>0</td>\n",
       "      <td>2014.0</td>\n",
       "      <td>2013.0</td>\n",
       "      <td>2013.0</td>\n",
       "      <td>2013.0</td>\n",
       "      <td>0.138780</td>\n",
       "      <td>-0.470254</td>\n",
       "      <td>-0.225306</td>\n",
       "      <td>0.012392</td>\n",
       "      <td>0.048599</td>\n",
       "    </tr>\n",
       "    <tr>\n",
       "      <th>...</th>\n",
       "      <td>...</td>\n",
       "      <td>...</td>\n",
       "      <td>...</td>\n",
       "      <td>...</td>\n",
       "      <td>...</td>\n",
       "      <td>...</td>\n",
       "      <td>...</td>\n",
       "      <td>...</td>\n",
       "      <td>...</td>\n",
       "      <td>...</td>\n",
       "      <td>...</td>\n",
       "      <td>...</td>\n",
       "      <td>...</td>\n",
       "      <td>...</td>\n",
       "      <td>...</td>\n",
       "      <td>...</td>\n",
       "      <td>...</td>\n",
       "      <td>...</td>\n",
       "      <td>...</td>\n",
       "      <td>...</td>\n",
       "    </tr>\n",
       "    <tr>\n",
       "      <th>113932</th>\n",
       "      <td>2238.380</td>\n",
       "      <td>11.0</td>\n",
       "      <td>3647.4000</td>\n",
       "      <td>4</td>\n",
       "      <td>3.0</td>\n",
       "      <td>0</td>\n",
       "      <td>1.0</td>\n",
       "      <td>364.74</td>\n",
       "      <td>0</td>\n",
       "      <td>10000</td>\n",
       "      <td>0</td>\n",
       "      <td>2014.0</td>\n",
       "      <td>2013.0</td>\n",
       "      <td>2013.0</td>\n",
       "      <td>2013.0</td>\n",
       "      <td>-0.187160</td>\n",
       "      <td>-0.204899</td>\n",
       "      <td>-0.012440</td>\n",
       "      <td>-0.094262</td>\n",
       "      <td>-0.002076</td>\n",
       "    </tr>\n",
       "    <tr>\n",
       "      <th>113933</th>\n",
       "      <td>1997.160</td>\n",
       "      <td>28.0</td>\n",
       "      <td>2330.5500</td>\n",
       "      <td>4</td>\n",
       "      <td>3.0</td>\n",
       "      <td>0</td>\n",
       "      <td>22.0</td>\n",
       "      <td>65.57</td>\n",
       "      <td>0</td>\n",
       "      <td>2000</td>\n",
       "      <td>0</td>\n",
       "      <td>2014.0</td>\n",
       "      <td>2011.0</td>\n",
       "      <td>2011.0</td>\n",
       "      <td>2011.0</td>\n",
       "      <td>-0.207164</td>\n",
       "      <td>-0.016918</td>\n",
       "      <td>-0.129987</td>\n",
       "      <td>-0.024550</td>\n",
       "      <td>-0.039392</td>\n",
       "    </tr>\n",
       "    <tr>\n",
       "      <th>113934</th>\n",
       "      <td>183.150</td>\n",
       "      <td>3.0</td>\n",
       "      <td>546.7000</td>\n",
       "      <td>4</td>\n",
       "      <td>3.0</td>\n",
       "      <td>0</td>\n",
       "      <td>119.0</td>\n",
       "      <td>273.35</td>\n",
       "      <td>0</td>\n",
       "      <td>10000</td>\n",
       "      <td>1</td>\n",
       "      <td>2014.0</td>\n",
       "      <td>2013.0</td>\n",
       "      <td>2013.0</td>\n",
       "      <td>2013.0</td>\n",
       "      <td>-0.420789</td>\n",
       "      <td>0.118902</td>\n",
       "      <td>0.048847</td>\n",
       "      <td>0.046669</td>\n",
       "      <td>0.000266</td>\n",
       "    </tr>\n",
       "    <tr>\n",
       "      <th>113935</th>\n",
       "      <td>9248.665</td>\n",
       "      <td>28.0</td>\n",
       "      <td>12362.3600</td>\n",
       "      <td>13</td>\n",
       "      <td>8.0</td>\n",
       "      <td>1</td>\n",
       "      <td>274.0</td>\n",
       "      <td>449.55</td>\n",
       "      <td>0</td>\n",
       "      <td>15000</td>\n",
       "      <td>0</td>\n",
       "      <td>2013.0</td>\n",
       "      <td>2011.0</td>\n",
       "      <td>2011.0</td>\n",
       "      <td>2011.0</td>\n",
       "      <td>-0.276763</td>\n",
       "      <td>-0.026114</td>\n",
       "      <td>0.064938</td>\n",
       "      <td>-0.131403</td>\n",
       "      <td>0.097606</td>\n",
       "    </tr>\n",
       "    <tr>\n",
       "      <th>113936</th>\n",
       "      <td>47.250</td>\n",
       "      <td>2.0</td>\n",
       "      <td>64.3307</td>\n",
       "      <td>4</td>\n",
       "      <td>3.0</td>\n",
       "      <td>0</td>\n",
       "      <td>1.0</td>\n",
       "      <td>64.90</td>\n",
       "      <td>1</td>\n",
       "      <td>2000</td>\n",
       "      <td>0</td>\n",
       "      <td>2014.0</td>\n",
       "      <td>2014.0</td>\n",
       "      <td>2014.0</td>\n",
       "      <td>2014.0</td>\n",
       "      <td>-0.140889</td>\n",
       "      <td>-0.346435</td>\n",
       "      <td>-0.081703</td>\n",
       "      <td>0.025287</td>\n",
       "      <td>-0.103754</td>\n",
       "    </tr>\n",
       "  </tbody>\n",
       "</table>\n",
       "<p>113937 rows × 20 columns</p>\n",
       "</div>"
      ],
      "text/plain": [
       "        LP_CustomerPrincipalPayments  LoanMonthsSinceOrigination  \\\n",
       "0                           9248.665                        78.0   \n",
       "1                              0.000                         0.0   \n",
       "2                           3001.000                        86.0   \n",
       "3                           4091.090                        16.0   \n",
       "4                           1563.220                         6.0   \n",
       "...                              ...                         ...   \n",
       "113932                      2238.380                        11.0   \n",
       "113933                      1997.160                        28.0   \n",
       "113934                       183.150                         3.0   \n",
       "113935                      9248.665                        28.0   \n",
       "113936                        47.250                         2.0   \n",
       "\n",
       "        LP_CustomerPayments  ClosedDate_day  ClosedDate_month  \\\n",
       "0                11396.1400              14               8.0   \n",
       "1                    0.0000               4               3.0   \n",
       "2                 4186.6300              17              10.5   \n",
       "3                 5143.2000               4               3.0   \n",
       "4                 2819.8500               4               3.0   \n",
       "...                     ...             ...               ...   \n",
       "113932            3647.4000               4               3.0   \n",
       "113933            2330.5500               4               3.0   \n",
       "113934             546.7000               4               3.0   \n",
       "113935           12362.3600              13               8.0   \n",
       "113936              64.3307               4               3.0   \n",
       "\n",
       "        EmploymentStatus_Full-time  Investors  MonthlyLoanPayment  \\\n",
       "0                                0      258.0              330.43   \n",
       "1                                0        1.0              318.93   \n",
       "2                                0       41.0              123.32   \n",
       "3                                0      158.0              321.45   \n",
       "4                                0       20.0              563.97   \n",
       "...                            ...        ...                 ...   \n",
       "113932                           0        1.0              364.74   \n",
       "113933                           0       22.0               65.57   \n",
       "113934                           0      119.0              273.35   \n",
       "113935                           1      274.0              449.55   \n",
       "113936                           0        1.0               64.90   \n",
       "\n",
       "        LoanOriginationQuarter_Q1 2014  LoanOriginalAmount  \\\n",
       "0                                    0                9425   \n",
       "1                                    1               10000   \n",
       "2                                    0                3001   \n",
       "3                                    0               10000   \n",
       "4                                    0               15000   \n",
       "...                                ...                 ...   \n",
       "113932                               0               10000   \n",
       "113933                               0                2000   \n",
       "113934                               0               10000   \n",
       "113935                               0               15000   \n",
       "113936                               1                2000   \n",
       "\n",
       "        LoanOriginationQuarter_Q4 2013  ClosedDate_year  \\\n",
       "0                                    0           2009.0   \n",
       "1                                    0           2014.0   \n",
       "2                                    0           2009.0   \n",
       "3                                    0           2014.0   \n",
       "4                                    0           2014.0   \n",
       "...                                ...              ...   \n",
       "113932                               0           2014.0   \n",
       "113933                               0           2014.0   \n",
       "113934                               1           2014.0   \n",
       "113935                               0           2013.0   \n",
       "113936                               0           2014.0   \n",
       "\n",
       "        DateCreditPulled_year  LoanOriginationDate_year  \\\n",
       "0                      2007.0                    2007.0   \n",
       "1                      2014.0                    2014.0   \n",
       "2                      2007.0                    2007.0   \n",
       "3                      2012.0                    2012.0   \n",
       "4                      2013.0                    2013.0   \n",
       "...                       ...                       ...   \n",
       "113932                 2013.0                    2013.0   \n",
       "113933                 2011.0                    2011.0   \n",
       "113934                 2013.0                    2013.0   \n",
       "113935                 2011.0                    2011.0   \n",
       "113936                 2014.0                    2014.0   \n",
       "\n",
       "        ListingCreationDate_year      col1      col2      col3      col4  \\\n",
       "0                         2007.0  0.709912 -0.278916  0.192722 -0.121120   \n",
       "1                         2014.0  0.388572  0.329822 -0.133688 -0.002813   \n",
       "2                         2007.0 -0.261381  0.099155  0.093808 -0.082823   \n",
       "3                         2012.0  0.500570  0.700750  0.092471  0.166378   \n",
       "4                         2013.0  0.138780 -0.470254 -0.225306  0.012392   \n",
       "...                          ...       ...       ...       ...       ...   \n",
       "113932                    2013.0 -0.187160 -0.204899 -0.012440 -0.094262   \n",
       "113933                    2011.0 -0.207164 -0.016918 -0.129987 -0.024550   \n",
       "113934                    2013.0 -0.420789  0.118902  0.048847  0.046669   \n",
       "113935                    2011.0 -0.276763 -0.026114  0.064938 -0.131403   \n",
       "113936                    2014.0 -0.140889 -0.346435 -0.081703  0.025287   \n",
       "\n",
       "            col5  \n",
       "0       0.160290  \n",
       "1      -0.070494  \n",
       "2      -0.024337  \n",
       "3       0.098338  \n",
       "4       0.048599  \n",
       "...          ...  \n",
       "113932 -0.002076  \n",
       "113933 -0.039392  \n",
       "113934  0.000266  \n",
       "113935  0.097606  \n",
       "113936 -0.103754  \n",
       "\n",
       "[113937 rows x 20 columns]"
      ]
     },
     "execution_count": 30,
     "metadata": {},
     "output_type": "execute_result"
    }
   ],
   "source": [
    "new_data"
   ]
  },
  {
   "cell_type": "markdown",
   "id": "28215a15-7b31-47e6-8316-5ac3bd073ae4",
   "metadata": {},
   "source": [
    "# Modeling"
   ]
  },
  {
   "cell_type": "code",
   "execution_count": 31,
   "id": "c6913c70-f709-4fef-a8f6-c42fdc7d2021",
   "metadata": {},
   "outputs": [],
   "source": [
    "X = new_data\n",
    "y= data['Status']"
   ]
  },
  {
   "cell_type": "markdown",
   "id": "177e3f12-1477-4f8c-8fc8-65b4a61600a3",
   "metadata": {},
   "source": [
    "#### Over Sampling the Dataset"
   ]
  },
  {
   "cell_type": "code",
   "execution_count": 32,
   "id": "cb672000-bff1-4db8-8c9e-f315565fbd5b",
   "metadata": {},
   "outputs": [],
   "source": [
    "from imblearn.over_sampling import SMOTE\n",
    "smote = SMOTE(sampling_strategy='minority')\n",
    "X_smot,y_smot = smote.fit_resample(X,y)"
   ]
  },
  {
   "cell_type": "code",
   "execution_count": 33,
   "id": "097fcd88-d0af-4f7e-8a92-96682209f1f5",
   "metadata": {},
   "outputs": [],
   "source": [
    "X_train, X_test, y_train, y_test = train_test_split(X_smot, y_smot, test_size=0.33, random_state=42)"
   ]
  },
  {
   "cell_type": "code",
   "execution_count": 34,
   "id": "390ce191-9460-4d83-8115-5e5ee2c793a9",
   "metadata": {
    "jupyter": {
     "source_hidden": true
    },
    "tags": []
   },
   "outputs": [],
   "source": [
    "# from sklearn.tree import DecisionTreeClassifier\n",
    "# parms = {\n",
    "#     'max_depth':[2, 3, 4, 5],\n",
    "#     'max_features': ['auto', 'sqrt'],     \n",
    "# }\n",
    "# per = DecisionTreeClassifier() \n",
    "# clf = GridSearchCV(per, parms)\n",
    "# clf.fit(X_train,y_train)"
   ]
  },
  {
   "cell_type": "code",
   "execution_count": 35,
   "id": "c235d723-8bcb-49fa-9483-28bd5ab49291",
   "metadata": {
    "jupyter": {
     "source_hidden": true
    },
    "tags": []
   },
   "outputs": [],
   "source": [
    "# clf.best_params_"
   ]
  },
  {
   "cell_type": "code",
   "execution_count": 36,
   "id": "c28a2248-5ca1-43a8-854b-bdaa07a8e8c6",
   "metadata": {
    "jupyter": {
     "source_hidden": true
    },
    "tags": []
   },
   "outputs": [],
   "source": [
    "# from sklearn.linear_model import Perceptron\n",
    "# parms = {\n",
    "#     'alpha':[.1, 0.01, 0.001, .0001],\n",
    "#     'max_iter': [100, 200,500,1000],     \n",
    "# }\n",
    "# per = Perceptron() \n",
    "# clf = GridSearchCV(per, parms)\n",
    "# clf.fit(X_train,y_train)"
   ]
  },
  {
   "cell_type": "code",
   "execution_count": 37,
   "id": "de3cf719-8d0d-49a9-b63d-418001cacb54",
   "metadata": {
    "jupyter": {
     "source_hidden": true
    },
    "tags": []
   },
   "outputs": [],
   "source": [
    "# clf.best_params_"
   ]
  },
  {
   "cell_type": "markdown",
   "id": "69d15719-364e-46fe-a41a-46a34319af8c",
   "metadata": {},
   "source": [
    "### Models definition"
   ]
  },
  {
   "cell_type": "code",
   "execution_count": 38,
   "id": "78ff5496-dd91-44ef-9e48-29afe3702b4f",
   "metadata": {},
   "outputs": [],
   "source": [
    "def naive_bayes (X_train, X_test, y_train, y_test):\n",
    "    clf = GaussianNB().fit(X_train, y_train)\n",
    "    pred_bayes = clf.predict(X_test)\n",
    "    train_score = clf.score(X_train,y_train)\n",
    "    score = accuracy_score(y_test,pred_bayes)\n",
    "    class_rep = classification_report(y_test,pred_bayes)\n",
    "    return score,train_score,class_rep"
   ]
  },
  {
   "cell_type": "code",
   "execution_count": 39,
   "id": "d0935ccb-f263-465d-9079-a08d774ddbcc",
   "metadata": {},
   "outputs": [],
   "source": [
    "def dt_classifier (X_train, X_test, y_train, y_test):\n",
    "    DT = DecisionTreeClassifier(max_depth=5,max_features='sqrt').fit(X_train,y_train)\n",
    "    pred_dt = DT.predict(X_test)\n",
    "    train_score = DT.score(X_train,y_train)\n",
    "    score = accuracy_score(y_test,pred_dt)\n",
    "    class_rep = classification_report(y_test,pred_dt)\n",
    "    return score,train_score,class_rep"
   ]
  },
  {
   "cell_type": "code",
   "execution_count": 40,
   "id": "b81ee238-f4d2-48ed-ba84-401480b1f03a",
   "metadata": {},
   "outputs": [],
   "source": [
    "def log_reg (X_train, X_test, y_train, y_test):\n",
    "    clf = LogisticRegression(random_state=0,C=.01,solver='sag').fit(X_train, y_train)\n",
    "    pred_log = clf.predict(X_test)\n",
    "    train_score = clf.score(X_train,y_train)\n",
    "    score = accuracy_score(y_test,pred_log)\n",
    "    class_rep = classification_report(y_test,pred_log)\n",
    "    return score,train_score,class_rep"
   ]
  },
  {
   "cell_type": "code",
   "execution_count": 41,
   "id": "31b792bb-6eea-4cdf-9738-ae82df6cb965",
   "metadata": {},
   "outputs": [],
   "source": [
    "def perceptron (X_train, X_test, y_train, y_test):\n",
    "    percp = Perceptron(alpha=.1,max_iter=100).fit(X_train,y_train)\n",
    "    pred = percp.predict(X_test)\n",
    "    train_score = percp.score(X_train,y_train)\n",
    "    score = accuracy_score(y_test,pred)\n",
    "    class_rep = classification_report(y_test,pred)\n",
    "    return score,train_score,class_rep"
   ]
  },
  {
   "cell_type": "code",
   "execution_count": 42,
   "id": "99b50db8-84ac-4e6f-b059-7b24446f60cf",
   "metadata": {},
   "outputs": [],
   "source": [
    "def mlpclassifier (X_train, X_test, y_train, y_test):\n",
    "    percp = MLPClassifier(hidden_layer_sizes=2,solver='adam').fit(X_train,y_train)\n",
    "    pred = percp.predict(X_test)\n",
    "    train_score = percp.score(X_train,y_train)\n",
    "    score = accuracy_score(y_test,pred)\n",
    "    class_rep = classification_report(y_test,pred)\n",
    "    return score,train_score,class_rep"
   ]
  },
  {
   "cell_type": "markdown",
   "id": "817ebdcb-f15f-4f9b-a0de-b0a3b5c3182c",
   "metadata": {},
   "source": [
    "### Calling Models"
   ]
  },
  {
   "cell_type": "code",
   "execution_count": 43,
   "id": "a3374068-72d6-4da6-8093-ffdbb44d7c22",
   "metadata": {},
   "outputs": [
    {
     "name": "stderr",
     "output_type": "stream",
     "text": [
      "c:\\users\\alaa_\\appdata\\local\\programs\\python\\python39\\lib\\site-packages\\sklearn\\linear_model\\_sag.py:350: ConvergenceWarning: The max_iter was reached which means the coef_ did not converge\n",
      "  warnings.warn(\n"
     ]
    }
   ],
   "source": [
    "nb_score,nb_train_score,nb_class = naive_bayes(X_train, X_test, y_train, y_test)\n",
    "dt_score,dt_train_score,dt_class = dt_classifier(X_train, X_test, y_train, y_test)\n",
    "logreg_score,logreg_train_score,logreg_class = log_reg(X_train, X_test, y_train, y_test)\n",
    "percep_score,percep_train_score,percep_class = perceptron(X_train, X_test, y_train, y_test)\n",
    "mlp_score,mlp_train_score,mlp_class = mlpclassifier(X_train, X_test, y_train, y_test)\n"
   ]
  },
  {
   "cell_type": "markdown",
   "id": "f71bfc69-20ed-4d1a-89b7-24933bfcad79",
   "metadata": {
    "tags": []
   },
   "source": [
    "### Models Evaluation"
   ]
  },
  {
   "cell_type": "code",
   "execution_count": 44,
   "id": "4970cd82-9a52-4972-ba10-2d4e007aa7de",
   "metadata": {},
   "outputs": [
    {
     "name": "stdout",
     "output_type": "stream",
     "text": [
      "Multi layer perceptron\n",
      "Train score = 0.9434032799142146 Test Score =0.9421375357021591\n",
      "Classfication Report\n",
      "              precision    recall  f1-score   support\n",
      "\n",
      "           0       0.94      0.94      0.94     25019\n",
      "           1       0.94      0.94      0.94     25048\n",
      "\n",
      "    accuracy                           0.94     50067\n",
      "   macro avg       0.94      0.94      0.94     50067\n",
      "weighted avg       0.94      0.94      0.94     50067\n",
      "\n"
     ]
    }
   ],
   "source": [
    "print('Multi layer perceptron')\n",
    "print(f'Train score = {mlp_train_score} Test Score ={mlp_score}')\n",
    "print('Classfication Report')\n",
    "print(mlp_class)"
   ]
  },
  {
   "cell_type": "code",
   "execution_count": 45,
   "id": "b6b4ce26-58b1-4012-a421-571521043150",
   "metadata": {},
   "outputs": [
    {
     "name": "stdout",
     "output_type": "stream",
     "text": [
      "perceptron\n",
      "Train score = 0.9385040679199992 Test Score =0.9367447620188947\n",
      "Classfication Report\n",
      "              precision    recall  f1-score   support\n",
      "\n",
      "           0       0.96      0.91      0.93     25019\n",
      "           1       0.91      0.97      0.94     25048\n",
      "\n",
      "    accuracy                           0.94     50067\n",
      "   macro avg       0.94      0.94      0.94     50067\n",
      "weighted avg       0.94      0.94      0.94     50067\n",
      "\n"
     ]
    }
   ],
   "source": [
    "print('perceptron')\n",
    "print(f'Train score = {percep_train_score} Test Score ={percep_score}')\n",
    "print('Classfication Report')\n",
    "print(percep_class)"
   ]
  },
  {
   "cell_type": "code",
   "execution_count": 46,
   "id": "ce7fd6f9-68bb-48d9-bc4f-f416fee95272",
   "metadata": {},
   "outputs": [
    {
     "name": "stdout",
     "output_type": "stream",
     "text": [
      "Logistic Regression\n",
      "Train score = 0.9503979380023414 Test Score =0.9489683823676274\n",
      "Classfication Report\n",
      "              precision    recall  f1-score   support\n",
      "\n",
      "           0       0.97      0.93      0.95     25019\n",
      "           1       0.93      0.97      0.95     25048\n",
      "\n",
      "    accuracy                           0.95     50067\n",
      "   macro avg       0.95      0.95      0.95     50067\n",
      "weighted avg       0.95      0.95      0.95     50067\n",
      "\n"
     ]
    }
   ],
   "source": [
    "print('Logistic Regression')\n",
    "print(f'Train score = {logreg_train_score} Test Score ={logreg_score}')\n",
    "print('Classfication Report')\n",
    "print(logreg_class)"
   ]
  },
  {
   "cell_type": "code",
   "execution_count": 47,
   "id": "8699b513-d8aa-4227-beb6-b85faa24c24e",
   "metadata": {},
   "outputs": [
    {
     "name": "stdout",
     "output_type": "stream",
     "text": [
      "Gaussian Naive Bayes\n",
      "Train score = 0.8441598048185422 Test Score =0.8452473685261749\n",
      "Classfication Report\n",
      "              precision    recall  f1-score   support\n",
      "\n",
      "           0       0.89      0.78      0.84     25019\n",
      "           1       0.81      0.91      0.85     25048\n",
      "\n",
      "    accuracy                           0.85     50067\n",
      "   macro avg       0.85      0.85      0.84     50067\n",
      "weighted avg       0.85      0.85      0.84     50067\n",
      "\n"
     ]
    }
   ],
   "source": [
    "print('Gaussian Naive Bayes')\n",
    "print(f'Train score = {nb_train_score} Test Score ={nb_score}')\n",
    "print('Classfication Report')\n",
    "print(nb_class)"
   ]
  },
  {
   "cell_type": "code",
   "execution_count": 48,
   "id": "3992c4d8-37b1-4e9c-a3b7-8296afbdffe8",
   "metadata": {},
   "outputs": [
    {
     "name": "stdout",
     "output_type": "stream",
     "text": [
      "Decision Tree Classifier\n",
      "Train score = 0.9487550295625141 Test Score =0.950126830047736\n",
      "Classfication Report\n",
      "              precision    recall  f1-score   support\n",
      "\n",
      "           0       0.99      0.91      0.95     25019\n",
      "           1       0.92      0.99      0.95     25048\n",
      "\n",
      "    accuracy                           0.95     50067\n",
      "   macro avg       0.95      0.95      0.95     50067\n",
      "weighted avg       0.95      0.95      0.95     50067\n",
      "\n"
     ]
    }
   ],
   "source": [
    "print('Decision Tree Classifier')\n",
    "print(f'Train score = {dt_train_score} Test Score ={dt_score}')\n",
    "print('Classfication Report')\n",
    "print(dt_class)"
   ]
  }
 ],
 "metadata": {
  "kernelspec": {
   "display_name": "Python 3 (ipykernel)",
   "language": "python",
   "name": "python3"
  },
  "language_info": {
   "codemirror_mode": {
    "name": "ipython",
    "version": 3
   },
   "file_extension": ".py",
   "mimetype": "text/x-python",
   "name": "python",
   "nbconvert_exporter": "python",
   "pygments_lexer": "ipython3",
   "version": "3.9.6"
  }
 },
 "nbformat": 4,
 "nbformat_minor": 5
}
