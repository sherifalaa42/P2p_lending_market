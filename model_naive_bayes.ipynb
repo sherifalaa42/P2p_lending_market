{
 "cells": [
  {
   "cell_type": "code",
   "execution_count": 1,
   "id": "c9831112-fd07-472f-82a3-a05af91acba7",
   "metadata": {},
   "outputs": [],
   "source": [
    "#imports\n",
    "import numpy as np\n",
    "import pandas as pd\n",
    "import matplotlib.pyplot as plt\n",
    "import seaborn as sns\n",
    "from sklearn.preprocessing import LabelEncoder\n",
    "from sklearn.linear_model import LogisticRegression\n",
    "from sklearn.metrics import accuracy_score\n",
    "from sklearn.model_selection import train_test_split\n",
    "from sklearn.model_selection import GridSearchCV\n",
    "from sklearn.metrics import classification_report"
   ]
  },
  {
   "cell_type": "code",
   "execution_count": 2,
   "id": "1a24ea75-41c3-4e24-ba73-5b3d9b79c263",
   "metadata": {},
   "outputs": [],
   "source": [
    "data = pd.read_csv(\"/Users/simonmech/Documents/Technocolabs work/prosperLoanData (1).csv\") # the full dataset"
   ]
  },
  {
   "cell_type": "markdown",
   "id": "dab87f32-1d4d-431d-9101-16253ddf3d3d",
   "metadata": {
    "tags": []
   },
   "source": [
    "### Dropped column names"
   ]
  },
  {
   "cell_type": "code",
   "execution_count": 3,
   "id": "61c7c067-961f-4e83-a855-9691c2b36c36",
   "metadata": {},
   "outputs": [],
   "source": [
    "dropped = ['ListingNumber', 'LoanNumber', 'GroupKey', 'LoanKey', 'MemberKey', 'ListingKey']"
   ]
  },
  {
   "cell_type": "code",
   "execution_count": 4,
   "id": "ad3f0388-1ed9-44ce-b505-3375339da17b",
   "metadata": {},
   "outputs": [],
   "source": [
    "for col in data.columns :\n",
    "    if (data[col].isnull().sum() > 0) and col not in dropped:\n",
    "        sum_null = data[col].isnull().sum()\n",
    "        percent_null = (sum_null/data.shape[0]) * 100\n",
    "        if percent_null > 70 :\n",
    "            dropped.append(col)"
   ]
  },
  {
   "cell_type": "markdown",
   "id": "1e61dc39-1697-4c2e-ade8-569c8bba7227",
   "metadata": {},
   "source": [
    "## Data Preprocessing"
   ]
  },
  {
   "cell_type": "markdown",
   "id": "0fcce564-b84b-41bb-9e75-3b5cecd597ec",
   "metadata": {},
   "source": [
    "### Imputing `CreditGrade` & `ProsperRating (Alpha)` "
   ]
  },
  {
   "cell_type": "code",
   "execution_count": 5,
   "id": "93eb00ef-402a-4452-a13a-9b9057aaeb5d",
   "metadata": {},
   "outputs": [],
   "source": [
    "data['CreditGrade'].fillna(data['ProsperRating (Alpha)'],inplace=True)"
   ]
  },
  {
   "cell_type": "code",
   "execution_count": 6,
   "id": "c06446e5-b790-493a-84dc-5375cab53bcd",
   "metadata": {},
   "outputs": [],
   "source": [
    "dropped.extend(['ProsperRating (Alpha)','ProsperRating (numeric)'])\n",
    "dropped.remove('CreditGrade')"
   ]
  },
  {
   "cell_type": "code",
   "execution_count": 7,
   "id": "0fc41cde-2cb9-4143-b21d-a65c058fdd56",
   "metadata": {},
   "outputs": [],
   "source": [
    "data.drop(dropped,axis=1,inplace=True)"
   ]
  },
  {
   "cell_type": "markdown",
   "id": "52ef46d2-27c2-47be-9a2f-116ad4180c9d",
   "metadata": {},
   "source": [
    "### Filling missing values"
   ]
  },
  {
   "cell_type": "code",
   "execution_count": 8,
   "id": "f94eb0b2-4e91-4bfc-a0f3-897c1d75c0f3",
   "metadata": {},
   "outputs": [
    {
     "data": {
      "text/plain": [
       "ClosedDate                 58848\n",
       "EstimatedReturn            29084\n",
       "ProsperScore               29084\n",
       "EstimatedEffectiveYield    29084\n",
       "EstimatedLoss              29084\n",
       "                           ...  \n",
       "LenderYield                    0\n",
       "BorrowerRate                   0\n",
       "LoanStatus                     0\n",
       "Term                           0\n",
       "Investors                      0\n",
       "Length: 64, dtype: int64"
      ]
     },
     "execution_count": 8,
     "metadata": {},
     "output_type": "execute_result"
    }
   ],
   "source": [
    "data.isnull().sum().sort_values(ascending=False)"
   ]
  },
  {
   "cell_type": "code",
   "execution_count": 9,
   "id": "b89e86b9-9907-4a0a-9b69-9d0c592b8559",
   "metadata": {},
   "outputs": [
    {
     "data": {
      "text/plain": [
       "0"
      ]
     },
     "execution_count": 9,
     "metadata": {},
     "output_type": "execute_result"
    }
   ],
   "source": [
    "for col in data.select_dtypes('float64').columns:\n",
    "    if data[col].isnull().sum() > 0: \n",
    "        data[col].fillna(data[col].median(),inplace=True)\n",
    "data.select_dtypes('float64').isnull().sum().sum()"
   ]
  },
  {
   "cell_type": "code",
   "execution_count": 10,
   "id": "492dc3cc-abcf-4f79-899c-c827a21b93eb",
   "metadata": {},
   "outputs": [
    {
     "data": {
      "text/plain": [
       "0"
      ]
     },
     "execution_count": 10,
     "metadata": {},
     "output_type": "execute_result"
    }
   ],
   "source": [
    "for col in data.select_dtypes('int64').columns: \n",
    "    if data[col].nunique() > 100:\n",
    "        data[col].fillna(data[col].median(), inplace=True)\n",
    "    else:\n",
    "        data[col].fillna(data[col].mode(), inplace=True)\n",
    "data.select_dtypes('int64').isnull().sum().sum()"
   ]
  },
  {
   "cell_type": "code",
   "execution_count": 11,
   "id": "802e41e8-afb1-493a-946e-ac53343b13f6",
   "metadata": {},
   "outputs": [
    {
     "data": {
      "text/plain": [
       "0"
      ]
     },
     "execution_count": 11,
     "metadata": {},
     "output_type": "execute_result"
    }
   ],
   "source": [
    "for col in data.columns :\n",
    "    if data[col].isnull().sum() > 0 :\n",
    "        data[col].fillna(data[col].mode()[0],inplace=True)\n",
    "data.isnull().sum().sum()"
   ]
  },
  {
   "cell_type": "markdown",
   "id": "5e631224-0e62-4e16-8b86-bdff6cd172de",
   "metadata": {},
   "source": [
    "### Imputing Dates"
   ]
  },
  {
   "cell_type": "code",
   "execution_count": 12,
   "id": "712a6227-e397-4a4b-954d-88d1f7a9a591",
   "metadata": {},
   "outputs": [],
   "source": [
    "date =['FirstRecordedCreditLine','DateCreditPulled','ListingCreationDate','ClosedDate','LoanOriginationDate']\n",
    "# convert date columns from object to datetime \n",
    "for i in date:\n",
    "    #to get ride of time convert data to datetime\n",
    "    data[i]=pd.to_datetime(data[i])\n",
    "    data[i]=data[i].dt.date  # datatype=object\n",
    "    # split each coloumn to year month day then delet it \n",
    "    data[f'{i}_year']= pd.DatetimeIndex(data[f'{i}']).year\n",
    "    data[f'{i}_month']= pd.DatetimeIndex(data[f'{i}']).month\n",
    "    data[f'{i}_day']= pd.DatetimeIndex(data[f'{i}']).day\n",
    "    del(data[f'{i}'])"
   ]
  },
  {
   "cell_type": "markdown",
   "id": "4b002f25-ca3c-4063-8e08-bf9060ae8ec3",
   "metadata": {},
   "source": [
    "### Detecting Outliers"
   ]
  },
  {
   "cell_type": "code",
   "execution_count": 13,
   "id": "64235248-e9d4-4574-addb-c2e4e7d327db",
   "metadata": {},
   "outputs": [
    {
     "name": "stderr",
     "output_type": "stream",
     "text": [
      "/var/folders/t0/0gjbrhd51tq6k8dbyrvtgx4w0000gn/T/ipykernel_2088/109602084.py:7: SettingWithCopyWarning: \n",
      "A value is trying to be set on a copy of a slice from a DataFrame\n",
      "\n",
      "See the caveats in the documentation: https://pandas.pydata.org/pandas-docs/stable/user_guide/indexing.html#returning-a-view-versus-a-copy\n",
      "  data[col].loc[data[col] < lower_bound] = lower_bound\n",
      "/var/folders/t0/0gjbrhd51tq6k8dbyrvtgx4w0000gn/T/ipykernel_2088/109602084.py:8: SettingWithCopyWarning: \n",
      "A value is trying to be set on a copy of a slice from a DataFrame\n",
      "\n",
      "See the caveats in the documentation: https://pandas.pydata.org/pandas-docs/stable/user_guide/indexing.html#returning-a-view-versus-a-copy\n",
      "  data[col].loc[data[col] > upper_bound] = upper_bound\n"
     ]
    }
   ],
   "source": [
    "for col in data.columns:\n",
    "        if (((data[col].dtype)=='float64') | ((data[col].dtype)=='int64')):\n",
    "            percentiles = data[col].quantile([0.25,0.75]).values\n",
    "            iqr = percentiles[1] - percentiles[0]\n",
    "            lower_bound = percentiles[0] -(1.5 * iqr) \n",
    "            upper_bound = percentiles[1] +(1.5 * iqr)\n",
    "            data[col].loc[data[col] < lower_bound] = lower_bound\n",
    "            data[col].loc[data[col] > upper_bound] = upper_bound\n",
    "        else:\n",
    "            data[col]=data[col]"
   ]
  },
  {
   "cell_type": "markdown",
   "id": "c7a0a17e-c202-40ff-ae06-f5a989fb3af4",
   "metadata": {},
   "source": [
    "### Imputing Target Value"
   ]
  },
  {
   "cell_type": "code",
   "execution_count": 14,
   "id": "f22f276b-dd18-48b1-a4df-43e9afb1eef0",
   "metadata": {},
   "outputs": [],
   "source": [
    "def target_handling(row): \n",
    "    if row == 'Completed':\n",
    "        return 1\n",
    "    else:\n",
    "        return 0\n",
    "\n",
    "data['Status'] = data['LoanStatus'].apply(target_handling)\n",
    "data.drop('LoanStatus',axis=1,inplace=True)"
   ]
  },
  {
   "cell_type": "markdown",
   "id": "45b27745-d72a-4514-9b5b-8f434d1381f7",
   "metadata": {},
   "source": [
    "### Encoding "
   ]
  },
  {
   "cell_type": "code",
   "execution_count": 15,
   "id": "1b403017-8181-433a-9fca-5783cc406c86",
   "metadata": {},
   "outputs": [
    {
     "data": {
      "text/plain": [
       "CreditGrade                8\n",
       "BorrowerState             51\n",
       "Occupation                67\n",
       "EmploymentStatus           8\n",
       "IncomeRange                8\n",
       "LoanOriginationQuarter    33\n",
       "dtype: int64"
      ]
     },
     "execution_count": 15,
     "metadata": {},
     "output_type": "execute_result"
    }
   ],
   "source": [
    "obj = data.select_dtypes('object')\n",
    "obj.nunique()"
   ]
  },
  {
   "cell_type": "code",
   "execution_count": 16,
   "id": "aa4af10d-d5d7-4061-9df4-0e6a7439f52b",
   "metadata": {},
   "outputs": [],
   "source": [
    "### one hot encoding\n",
    "dummies = pd.get_dummies(data[['CreditGrade', 'EmploymentStatus', 'IncomeRange','LoanOriginationQuarter']], drop_first=True)"
   ]
  },
  {
   "cell_type": "code",
   "execution_count": 17,
   "id": "3e1dc896-eaba-46e8-bd0a-7b301eeb8889",
   "metadata": {},
   "outputs": [],
   "source": [
    "## label enc\n",
    "le = LabelEncoder()\n",
    "data[['BorrowerState','Occupation']] = data[['BorrowerState','Occupation']].apply(le.fit_transform)"
   ]
  },
  {
   "cell_type": "code",
   "execution_count": 18,
   "id": "3dba07d5-a904-48ad-bfc6-1d3d1678f6b0",
   "metadata": {},
   "outputs": [],
   "source": [
    "data = pd.concat([data.drop(obj,axis=1),dummies],axis=1)"
   ]
  },
  {
   "cell_type": "code",
   "execution_count": 19,
   "id": "32d8928f-4971-490d-92a7-3302543ee37f",
   "metadata": {},
   "outputs": [
    {
     "data": {
      "text/html": [
       "<div>\n",
       "<style scoped>\n",
       "    .dataframe tbody tr th:only-of-type {\n",
       "        vertical-align: middle;\n",
       "    }\n",
       "\n",
       "    .dataframe tbody tr th {\n",
       "        vertical-align: top;\n",
       "    }\n",
       "\n",
       "    .dataframe thead th {\n",
       "        text-align: right;\n",
       "    }\n",
       "</style>\n",
       "<table border=\"1\" class=\"dataframe\">\n",
       "  <thead>\n",
       "    <tr style=\"text-align: right;\">\n",
       "      <th></th>\n",
       "    </tr>\n",
       "  </thead>\n",
       "  <tbody>\n",
       "    <tr>\n",
       "      <th>0</th>\n",
       "    </tr>\n",
       "    <tr>\n",
       "      <th>1</th>\n",
       "    </tr>\n",
       "    <tr>\n",
       "      <th>2</th>\n",
       "    </tr>\n",
       "    <tr>\n",
       "      <th>3</th>\n",
       "    </tr>\n",
       "    <tr>\n",
       "      <th>4</th>\n",
       "    </tr>\n",
       "    <tr>\n",
       "      <th>...</th>\n",
       "    </tr>\n",
       "    <tr>\n",
       "      <th>113932</th>\n",
       "    </tr>\n",
       "    <tr>\n",
       "      <th>113933</th>\n",
       "    </tr>\n",
       "    <tr>\n",
       "      <th>113934</th>\n",
       "    </tr>\n",
       "    <tr>\n",
       "      <th>113935</th>\n",
       "    </tr>\n",
       "    <tr>\n",
       "      <th>113936</th>\n",
       "    </tr>\n",
       "  </tbody>\n",
       "</table>\n",
       "<p>113937 rows × 0 columns</p>\n",
       "</div>"
      ],
      "text/plain": [
       "Empty DataFrame\n",
       "Columns: []\n",
       "Index: [0, 1, 2, 3, 4, 5, 6, 7, 8, 9, 10, 11, 12, 13, 14, 15, 16, 17, 18, 19, 20, 21, 22, 23, 24, 25, 26, 27, 28, 29, 30, 31, 32, 33, 34, 35, 36, 37, 38, 39, 40, 41, 42, 43, 44, 45, 46, 47, 48, 49, 50, 51, 52, 53, 54, 55, 56, 57, 58, 59, 60, 61, 62, 63, 64, 65, 66, 67, 68, 69, 70, 71, 72, 73, 74, 75, 76, 77, 78, 79, 80, 81, 82, 83, 84, 85, 86, 87, 88, 89, 90, 91, 92, 93, 94, 95, 96, 97, 98, 99, ...]\n",
       "\n",
       "[113937 rows x 0 columns]"
      ]
     },
     "execution_count": 19,
     "metadata": {},
     "output_type": "execute_result"
    }
   ],
   "source": [
    "data.select_dtypes('object')"
   ]
  },
  {
   "cell_type": "code",
   "execution_count": 20,
   "id": "04b0cd8f-3352-4d55-856f-0fa306e65f87",
   "metadata": {},
   "outputs": [
    {
     "data": {
      "text/html": [
       "<div>\n",
       "<style scoped>\n",
       "    .dataframe tbody tr th:only-of-type {\n",
       "        vertical-align: middle;\n",
       "    }\n",
       "\n",
       "    .dataframe tbody tr th {\n",
       "        vertical-align: top;\n",
       "    }\n",
       "\n",
       "    .dataframe thead th {\n",
       "        text-align: right;\n",
       "    }\n",
       "</style>\n",
       "<table border=\"1\" class=\"dataframe\">\n",
       "  <thead>\n",
       "    <tr style=\"text-align: right;\">\n",
       "      <th></th>\n",
       "      <th>Term</th>\n",
       "      <th>BorrowerAPR</th>\n",
       "      <th>BorrowerRate</th>\n",
       "      <th>LenderYield</th>\n",
       "      <th>EstimatedEffectiveYield</th>\n",
       "      <th>EstimatedLoss</th>\n",
       "      <th>EstimatedReturn</th>\n",
       "      <th>ProsperScore</th>\n",
       "      <th>ListingCategory (numeric)</th>\n",
       "      <th>EmploymentStatusDuration</th>\n",
       "      <th>...</th>\n",
       "      <th>LoanOriginationQuarter_Q3 2013</th>\n",
       "      <th>LoanOriginationQuarter_Q4 2005</th>\n",
       "      <th>LoanOriginationQuarter_Q4 2006</th>\n",
       "      <th>LoanOriginationQuarter_Q4 2007</th>\n",
       "      <th>LoanOriginationQuarter_Q4 2008</th>\n",
       "      <th>LoanOriginationQuarter_Q4 2009</th>\n",
       "      <th>LoanOriginationQuarter_Q4 2010</th>\n",
       "      <th>LoanOriginationQuarter_Q4 2011</th>\n",
       "      <th>LoanOriginationQuarter_Q4 2012</th>\n",
       "      <th>LoanOriginationQuarter_Q4 2013</th>\n",
       "    </tr>\n",
       "  </thead>\n",
       "  <tbody>\n",
       "    <tr>\n",
       "      <th>0</th>\n",
       "      <td>36</td>\n",
       "      <td>0.16516</td>\n",
       "      <td>0.1580</td>\n",
       "      <td>0.1380</td>\n",
       "      <td>0.16150</td>\n",
       "      <td>0.0724</td>\n",
       "      <td>0.09170</td>\n",
       "      <td>6.0</td>\n",
       "      <td>0</td>\n",
       "      <td>2.0</td>\n",
       "      <td>...</td>\n",
       "      <td>0</td>\n",
       "      <td>0</td>\n",
       "      <td>0</td>\n",
       "      <td>0</td>\n",
       "      <td>0</td>\n",
       "      <td>0</td>\n",
       "      <td>0</td>\n",
       "      <td>0</td>\n",
       "      <td>0</td>\n",
       "      <td>0</td>\n",
       "    </tr>\n",
       "    <tr>\n",
       "      <th>1</th>\n",
       "      <td>36</td>\n",
       "      <td>0.12016</td>\n",
       "      <td>0.0920</td>\n",
       "      <td>0.0820</td>\n",
       "      <td>0.07960</td>\n",
       "      <td>0.0249</td>\n",
       "      <td>0.05470</td>\n",
       "      <td>7.0</td>\n",
       "      <td>2</td>\n",
       "      <td>44.0</td>\n",
       "      <td>...</td>\n",
       "      <td>0</td>\n",
       "      <td>0</td>\n",
       "      <td>0</td>\n",
       "      <td>0</td>\n",
       "      <td>0</td>\n",
       "      <td>0</td>\n",
       "      <td>0</td>\n",
       "      <td>0</td>\n",
       "      <td>0</td>\n",
       "      <td>0</td>\n",
       "    </tr>\n",
       "    <tr>\n",
       "      <th>2</th>\n",
       "      <td>36</td>\n",
       "      <td>0.28269</td>\n",
       "      <td>0.2750</td>\n",
       "      <td>0.2400</td>\n",
       "      <td>0.16150</td>\n",
       "      <td>0.0724</td>\n",
       "      <td>0.09170</td>\n",
       "      <td>6.0</td>\n",
       "      <td>0</td>\n",
       "      <td>67.0</td>\n",
       "      <td>...</td>\n",
       "      <td>0</td>\n",
       "      <td>0</td>\n",
       "      <td>0</td>\n",
       "      <td>0</td>\n",
       "      <td>0</td>\n",
       "      <td>0</td>\n",
       "      <td>0</td>\n",
       "      <td>0</td>\n",
       "      <td>0</td>\n",
       "      <td>0</td>\n",
       "    </tr>\n",
       "    <tr>\n",
       "      <th>3</th>\n",
       "      <td>36</td>\n",
       "      <td>0.12528</td>\n",
       "      <td>0.0974</td>\n",
       "      <td>0.0874</td>\n",
       "      <td>0.08490</td>\n",
       "      <td>0.0249</td>\n",
       "      <td>0.06000</td>\n",
       "      <td>9.0</td>\n",
       "      <td>6</td>\n",
       "      <td>113.0</td>\n",
       "      <td>...</td>\n",
       "      <td>0</td>\n",
       "      <td>0</td>\n",
       "      <td>0</td>\n",
       "      <td>0</td>\n",
       "      <td>0</td>\n",
       "      <td>0</td>\n",
       "      <td>0</td>\n",
       "      <td>0</td>\n",
       "      <td>1</td>\n",
       "      <td>0</td>\n",
       "    </tr>\n",
       "    <tr>\n",
       "      <th>4</th>\n",
       "      <td>36</td>\n",
       "      <td>0.24614</td>\n",
       "      <td>0.2085</td>\n",
       "      <td>0.1985</td>\n",
       "      <td>0.18316</td>\n",
       "      <td>0.0925</td>\n",
       "      <td>0.09066</td>\n",
       "      <td>4.0</td>\n",
       "      <td>2</td>\n",
       "      <td>44.0</td>\n",
       "      <td>...</td>\n",
       "      <td>1</td>\n",
       "      <td>0</td>\n",
       "      <td>0</td>\n",
       "      <td>0</td>\n",
       "      <td>0</td>\n",
       "      <td>0</td>\n",
       "      <td>0</td>\n",
       "      <td>0</td>\n",
       "      <td>0</td>\n",
       "      <td>0</td>\n",
       "    </tr>\n",
       "    <tr>\n",
       "      <th>...</th>\n",
       "      <td>...</td>\n",
       "      <td>...</td>\n",
       "      <td>...</td>\n",
       "      <td>...</td>\n",
       "      <td>...</td>\n",
       "      <td>...</td>\n",
       "      <td>...</td>\n",
       "      <td>...</td>\n",
       "      <td>...</td>\n",
       "      <td>...</td>\n",
       "      <td>...</td>\n",
       "      <td>...</td>\n",
       "      <td>...</td>\n",
       "      <td>...</td>\n",
       "      <td>...</td>\n",
       "      <td>...</td>\n",
       "      <td>...</td>\n",
       "      <td>...</td>\n",
       "      <td>...</td>\n",
       "      <td>...</td>\n",
       "      <td>...</td>\n",
       "    </tr>\n",
       "    <tr>\n",
       "      <th>113932</th>\n",
       "      <td>36</td>\n",
       "      <td>0.22354</td>\n",
       "      <td>0.1864</td>\n",
       "      <td>0.1764</td>\n",
       "      <td>0.16490</td>\n",
       "      <td>0.0699</td>\n",
       "      <td>0.09500</td>\n",
       "      <td>5.0</td>\n",
       "      <td>1</td>\n",
       "      <td>246.0</td>\n",
       "      <td>...</td>\n",
       "      <td>0</td>\n",
       "      <td>0</td>\n",
       "      <td>0</td>\n",
       "      <td>0</td>\n",
       "      <td>0</td>\n",
       "      <td>0</td>\n",
       "      <td>0</td>\n",
       "      <td>0</td>\n",
       "      <td>0</td>\n",
       "      <td>0</td>\n",
       "    </tr>\n",
       "    <tr>\n",
       "      <th>113933</th>\n",
       "      <td>36</td>\n",
       "      <td>0.13220</td>\n",
       "      <td>0.1110</td>\n",
       "      <td>0.1010</td>\n",
       "      <td>0.10070</td>\n",
       "      <td>0.0200</td>\n",
       "      <td>0.08070</td>\n",
       "      <td>8.0</td>\n",
       "      <td>6</td>\n",
       "      <td>21.0</td>\n",
       "      <td>...</td>\n",
       "      <td>0</td>\n",
       "      <td>0</td>\n",
       "      <td>0</td>\n",
       "      <td>0</td>\n",
       "      <td>0</td>\n",
       "      <td>0</td>\n",
       "      <td>0</td>\n",
       "      <td>1</td>\n",
       "      <td>0</td>\n",
       "      <td>0</td>\n",
       "    </tr>\n",
       "    <tr>\n",
       "      <th>113934</th>\n",
       "      <td>36</td>\n",
       "      <td>0.23984</td>\n",
       "      <td>0.2150</td>\n",
       "      <td>0.2050</td>\n",
       "      <td>0.18828</td>\n",
       "      <td>0.1025</td>\n",
       "      <td>0.08578</td>\n",
       "      <td>3.0</td>\n",
       "      <td>1</td>\n",
       "      <td>84.0</td>\n",
       "      <td>...</td>\n",
       "      <td>0</td>\n",
       "      <td>0</td>\n",
       "      <td>0</td>\n",
       "      <td>0</td>\n",
       "      <td>0</td>\n",
       "      <td>0</td>\n",
       "      <td>0</td>\n",
       "      <td>0</td>\n",
       "      <td>0</td>\n",
       "      <td>1</td>\n",
       "    </tr>\n",
       "    <tr>\n",
       "      <th>113935</th>\n",
       "      <td>36</td>\n",
       "      <td>0.28408</td>\n",
       "      <td>0.2605</td>\n",
       "      <td>0.2505</td>\n",
       "      <td>0.24450</td>\n",
       "      <td>0.0850</td>\n",
       "      <td>0.15142</td>\n",
       "      <td>5.0</td>\n",
       "      <td>2</td>\n",
       "      <td>94.0</td>\n",
       "      <td>...</td>\n",
       "      <td>0</td>\n",
       "      <td>0</td>\n",
       "      <td>0</td>\n",
       "      <td>0</td>\n",
       "      <td>0</td>\n",
       "      <td>0</td>\n",
       "      <td>0</td>\n",
       "      <td>1</td>\n",
       "      <td>0</td>\n",
       "      <td>0</td>\n",
       "    </tr>\n",
       "    <tr>\n",
       "      <th>113936</th>\n",
       "      <td>36</td>\n",
       "      <td>0.13189</td>\n",
       "      <td>0.1039</td>\n",
       "      <td>0.0939</td>\n",
       "      <td>0.09071</td>\n",
       "      <td>0.0299</td>\n",
       "      <td>0.06081</td>\n",
       "      <td>7.0</td>\n",
       "      <td>1</td>\n",
       "      <td>244.0</td>\n",
       "      <td>...</td>\n",
       "      <td>0</td>\n",
       "      <td>0</td>\n",
       "      <td>0</td>\n",
       "      <td>0</td>\n",
       "      <td>0</td>\n",
       "      <td>0</td>\n",
       "      <td>0</td>\n",
       "      <td>0</td>\n",
       "      <td>0</td>\n",
       "      <td>0</td>\n",
       "    </tr>\n",
       "  </tbody>\n",
       "</table>\n",
       "<p>113937 rows × 121 columns</p>\n",
       "</div>"
      ],
      "text/plain": [
       "        Term  BorrowerAPR  BorrowerRate  LenderYield  EstimatedEffectiveYield  \\\n",
       "0         36      0.16516        0.1580       0.1380                  0.16150   \n",
       "1         36      0.12016        0.0920       0.0820                  0.07960   \n",
       "2         36      0.28269        0.2750       0.2400                  0.16150   \n",
       "3         36      0.12528        0.0974       0.0874                  0.08490   \n",
       "4         36      0.24614        0.2085       0.1985                  0.18316   \n",
       "...      ...          ...           ...          ...                      ...   \n",
       "113932    36      0.22354        0.1864       0.1764                  0.16490   \n",
       "113933    36      0.13220        0.1110       0.1010                  0.10070   \n",
       "113934    36      0.23984        0.2150       0.2050                  0.18828   \n",
       "113935    36      0.28408        0.2605       0.2505                  0.24450   \n",
       "113936    36      0.13189        0.1039       0.0939                  0.09071   \n",
       "\n",
       "        EstimatedLoss  EstimatedReturn  ProsperScore  \\\n",
       "0              0.0724          0.09170           6.0   \n",
       "1              0.0249          0.05470           7.0   \n",
       "2              0.0724          0.09170           6.0   \n",
       "3              0.0249          0.06000           9.0   \n",
       "4              0.0925          0.09066           4.0   \n",
       "...               ...              ...           ...   \n",
       "113932         0.0699          0.09500           5.0   \n",
       "113933         0.0200          0.08070           8.0   \n",
       "113934         0.1025          0.08578           3.0   \n",
       "113935         0.0850          0.15142           5.0   \n",
       "113936         0.0299          0.06081           7.0   \n",
       "\n",
       "        ListingCategory (numeric)  EmploymentStatusDuration  ...  \\\n",
       "0                               0                       2.0  ...   \n",
       "1                               2                      44.0  ...   \n",
       "2                               0                      67.0  ...   \n",
       "3                               6                     113.0  ...   \n",
       "4                               2                      44.0  ...   \n",
       "...                           ...                       ...  ...   \n",
       "113932                          1                     246.0  ...   \n",
       "113933                          6                      21.0  ...   \n",
       "113934                          1                      84.0  ...   \n",
       "113935                          2                      94.0  ...   \n",
       "113936                          1                     244.0  ...   \n",
       "\n",
       "        LoanOriginationQuarter_Q3 2013  LoanOriginationQuarter_Q4 2005  \\\n",
       "0                                    0                               0   \n",
       "1                                    0                               0   \n",
       "2                                    0                               0   \n",
       "3                                    0                               0   \n",
       "4                                    1                               0   \n",
       "...                                ...                             ...   \n",
       "113932                               0                               0   \n",
       "113933                               0                               0   \n",
       "113934                               0                               0   \n",
       "113935                               0                               0   \n",
       "113936                               0                               0   \n",
       "\n",
       "        LoanOriginationQuarter_Q4 2006  LoanOriginationQuarter_Q4 2007  \\\n",
       "0                                    0                               0   \n",
       "1                                    0                               0   \n",
       "2                                    0                               0   \n",
       "3                                    0                               0   \n",
       "4                                    0                               0   \n",
       "...                                ...                             ...   \n",
       "113932                               0                               0   \n",
       "113933                               0                               0   \n",
       "113934                               0                               0   \n",
       "113935                               0                               0   \n",
       "113936                               0                               0   \n",
       "\n",
       "        LoanOriginationQuarter_Q4 2008  LoanOriginationQuarter_Q4 2009  \\\n",
       "0                                    0                               0   \n",
       "1                                    0                               0   \n",
       "2                                    0                               0   \n",
       "3                                    0                               0   \n",
       "4                                    0                               0   \n",
       "...                                ...                             ...   \n",
       "113932                               0                               0   \n",
       "113933                               0                               0   \n",
       "113934                               0                               0   \n",
       "113935                               0                               0   \n",
       "113936                               0                               0   \n",
       "\n",
       "        LoanOriginationQuarter_Q4 2010  LoanOriginationQuarter_Q4 2011  \\\n",
       "0                                    0                               0   \n",
       "1                                    0                               0   \n",
       "2                                    0                               0   \n",
       "3                                    0                               0   \n",
       "4                                    0                               0   \n",
       "...                                ...                             ...   \n",
       "113932                               0                               0   \n",
       "113933                               0                               1   \n",
       "113934                               0                               0   \n",
       "113935                               0                               1   \n",
       "113936                               0                               0   \n",
       "\n",
       "        LoanOriginationQuarter_Q4 2012  LoanOriginationQuarter_Q4 2013  \n",
       "0                                    0                               0  \n",
       "1                                    0                               0  \n",
       "2                                    0                               0  \n",
       "3                                    1                               0  \n",
       "4                                    0                               0  \n",
       "...                                ...                             ...  \n",
       "113932                               0                               0  \n",
       "113933                               0                               0  \n",
       "113934                               0                               1  \n",
       "113935                               0                               0  \n",
       "113936                               0                               0  \n",
       "\n",
       "[113937 rows x 121 columns]"
      ]
     },
     "execution_count": 20,
     "metadata": {},
     "output_type": "execute_result"
    }
   ],
   "source": [
    "data"
   ]
  },
  {
   "cell_type": "markdown",
   "id": "6e055145-4bef-4868-b763-cbe94c560714",
   "metadata": {},
   "source": [
    "### Feature Selection"
   ]
  },
  {
   "cell_type": "code",
   "execution_count": 21,
   "id": "eb7003a2-7edd-4305-bdf8-71047887fe1e",
   "metadata": {},
   "outputs": [],
   "source": [
    "corrlation = data.corrwith(data['Status']).sort_values(ascending = False)\n",
    "sel_col = corrlation[(corrlation > 0.2) | (corrlation < -0.2)]\n",
    "sel_col.drop('Status',inplace=True)"
   ]
  },
  {
   "cell_type": "code",
   "execution_count": 22,
   "id": "9a6f9b9c-89e6-4d0d-abf9-51bdcc4aad78",
   "metadata": {},
   "outputs": [
    {
     "data": {
      "text/plain": [
       "LP_CustomerPrincipalPayments      0.598982\n",
       "LoanMonthsSinceOrigination        0.510850\n",
       "LP_CustomerPayments               0.495638\n",
       "ClosedDate_day                    0.490288\n",
       "ClosedDate_month                  0.402958\n",
       "EmploymentStatus_Full-time        0.379045\n",
       "Investors                         0.209813\n",
       "MonthlyLoanPayment               -0.211909\n",
       "LoanOriginationQuarter_Q1 2014   -0.240852\n",
       "LoanOriginalAmount               -0.246836\n",
       "LoanOriginationQuarter_Q4 2013   -0.248185\n",
       "ClosedDate_year                  -0.465317\n",
       "DateCreditPulled_year            -0.507319\n",
       "LoanOriginationDate_year         -0.508132\n",
       "ListingCreationDate_year         -0.508645\n",
       "dtype: float64"
      ]
     },
     "execution_count": 22,
     "metadata": {},
     "output_type": "execute_result"
    }
   ],
   "source": [
    "sel_col"
   ]
  },
  {
   "cell_type": "markdown",
   "id": "464e9074",
   "metadata": {},
   "source": [
    "## Model training "
   ]
  },
  {
   "cell_type": "code",
   "execution_count": 43,
   "id": "840e17ac-ad05-4bfe-9f38-0f7969834fd9",
   "metadata": {},
   "outputs": [],
   "source": [
    "X = data[sel_col.index]\n",
    "y= data['Status']"
   ]
  },
  {
   "cell_type": "code",
   "execution_count": 44,
   "id": "097fcd88-d0af-4f7e-8a92-96682209f1f5",
   "metadata": {},
   "outputs": [],
   "source": [
    "X_train, X_test, y_train, y_test = train_test_split(X, y, test_size=0.33, random_state=42)"
   ]
  },
  {
   "cell_type": "code",
   "execution_count": 45,
   "id": "b81ee238-f4d2-48ed-ba84-401480b1f03a",
   "metadata": {},
   "outputs": [
    {
     "data": {
      "text/plain": [
       "GaussianNB()"
      ]
     },
     "execution_count": 45,
     "metadata": {},
     "output_type": "execute_result"
    }
   ],
   "source": [
    "# train a Gaussian Naive Bayes classifier on the training set\n",
    "from sklearn.naive_bayes import GaussianNB\n",
    "\n",
    "\n",
    "# instantiate the model\n",
    "gnb = GaussianNB()\n",
    "\n",
    "\n",
    "# fit the model\n",
    "gnb.fit(X_train, y_train)"
   ]
  },
  {
   "cell_type": "markdown",
   "id": "a3d6df2e",
   "metadata": {},
   "source": [
    "Predict the results"
   ]
  },
  {
   "cell_type": "code",
   "execution_count": 46,
   "id": "99fd9e36-614b-4331-8803-ccf0b9c0abd1",
   "metadata": {},
   "outputs": [
    {
     "data": {
      "text/plain": [
       "array([0, 1, 0, ..., 0, 0, 1])"
      ]
     },
     "execution_count": 46,
     "metadata": {},
     "output_type": "execute_result"
    }
   ],
   "source": [
    "y_pred = gnb.predict(X_test)\n",
    "\n",
    "y_pred"
   ]
  },
  {
   "cell_type": "markdown",
   "id": "c1d59673",
   "metadata": {},
   "source": [
    "Check accuracy score "
   ]
  },
  {
   "cell_type": "code",
   "execution_count": 47,
   "id": "52c600be-5723-4e5c-afe4-8dd5cca4fbbe",
   "metadata": {
    "scrolled": true
   },
   "outputs": [
    {
     "name": "stdout",
     "output_type": "stream",
     "text": [
      "Model accuracy score: 0.8268\n"
     ]
    }
   ],
   "source": [
    "from sklearn.metrics import accuracy_score\n",
    "\n",
    "print('Model accuracy score: {0:0.4f}'. format(accuracy_score(y_test, y_pred)))"
   ]
  },
  {
   "cell_type": "markdown",
   "id": "5a3701a9",
   "metadata": {},
   "source": [
    "Here, y_test are the true class labels and y_pred are the predicted class labels in the test-set."
   ]
  },
  {
   "cell_type": "markdown",
   "id": "8cdeb4c8",
   "metadata": {},
   "source": [
    "### Compare the train-set and test-set accuracy\n",
    "\n"
   ]
  },
  {
   "cell_type": "markdown",
   "id": "9221182d",
   "metadata": {},
   "source": [
    "Now, I will compare the train-set and test-set accuracy to check for overfitting.\n"
   ]
  },
  {
   "cell_type": "code",
   "execution_count": 54,
   "id": "8eda6df0-9be7-442e-9bc2-8d79b1ae40d3",
   "metadata": {},
   "outputs": [
    {
     "data": {
      "text/plain": [
       "array([0, 1, 0, ..., 0, 0, 1])"
      ]
     },
     "execution_count": 54,
     "metadata": {},
     "output_type": "execute_result"
    }
   ],
   "source": [
    "y_pred_train = gnb.predict(X_train)\n",
    "\n",
    "y_pred_train"
   ]
  },
  {
   "cell_type": "code",
   "execution_count": 55,
   "id": "75fce4d9",
   "metadata": {
    "scrolled": true
   },
   "outputs": [
    {
     "name": "stdout",
     "output_type": "stream",
     "text": [
      "Training-set accuracy score: 0.8244\n"
     ]
    }
   ],
   "source": [
    "print('Training-set accuracy score: {0:0.4f}'. format(accuracy_score(y_train, y_pred_train)))\n"
   ]
  },
  {
   "cell_type": "markdown",
   "id": "d0be4acd",
   "metadata": {},
   "source": [
    "Check for overfitting and underfitting"
   ]
  },
  {
   "cell_type": "code",
   "execution_count": 50,
   "id": "77bb133e-c0ce-4b68-890c-4f2ad1d86b86",
   "metadata": {},
   "outputs": [
    {
     "name": "stdout",
     "output_type": "stream",
     "text": [
      "Training set score: 0.8244\n",
      "Test set score: 0.8268\n"
     ]
    }
   ],
   "source": [
    "# print the scores on training and test set\n",
    "\n",
    "print('Training set score: {:.4f}'.format(gnb.score(X_train, y_train)))\n",
    "\n",
    "print('Test set score: {:.4f}'.format(gnb.score(X_test, y_test)))"
   ]
  },
  {
   "cell_type": "markdown",
   "id": "a34c9119",
   "metadata": {},
   "source": [
    "The training-set accuracy score is 0.8244 while the test-set accuracy to be 0.8268. These two values are quite comparable. So, there is no sign of overfitting."
   ]
  },
  {
   "cell_type": "markdown",
   "id": "9562a56e",
   "metadata": {},
   "source": [
    "### Compare model accuracy with null accuracy"
   ]
  },
  {
   "cell_type": "markdown",
   "id": "5e8b56e8",
   "metadata": {},
   "source": [
    "So, the model accuracy is 0.8268. But, we cannot say that our model is very good based on the above accuracy. We must compare it with the null accuracy. Null accuracy is the accuracy that could be achieved by always predicting the most frequent class."
   ]
  },
  {
   "cell_type": "code",
   "execution_count": 56,
   "id": "62a51f29",
   "metadata": {},
   "outputs": [
    {
     "data": {
      "text/plain": [
       "0    24959\n",
       "1    12641\n",
       "Name: Status, dtype: int64"
      ]
     },
     "execution_count": 56,
     "metadata": {},
     "output_type": "execute_result"
    }
   ],
   "source": [
    "# check class distribution in test set\n",
    "\n",
    "y_test.value_counts()"
   ]
  },
  {
   "cell_type": "markdown",
   "id": "1aa803bb",
   "metadata": {},
   "source": [
    "We can see that the occurences of most frequent class is 24959. So, we can calculate null accuracy by dividing 24959 by total number of occurences."
   ]
  },
  {
   "cell_type": "code",
   "execution_count": 58,
   "id": "bea9cb01",
   "metadata": {},
   "outputs": [
    {
     "name": "stdout",
     "output_type": "stream",
     "text": [
      "Null accuracy score: 0.6638\n"
     ]
    }
   ],
   "source": [
    "# check null accuracy score\n",
    "\n",
    "null_accuracy = (24959/(24959+12641))\n",
    "\n",
    "print('Null accuracy score: {0:0.4f}'. format(null_accuracy))"
   ]
  },
  {
   "cell_type": "markdown",
   "id": "66264498",
   "metadata": {},
   "source": [
    "We can see that our model accuracy score is 0.8268 but null accuracy score is 0.6638. So, we can conclude that our Gaussian Naive Bayes Classification model is doing a very good job in predicting the class labels.\n",
    "\n"
   ]
  },
  {
   "cell_type": "markdown",
   "id": "6b1e1795",
   "metadata": {},
   "source": [
    "Now, based on the above analysis we can conclude that our classification model accuracy is very good. Our model is doing a very good job in terms of predicting the class labels."
   ]
  },
  {
   "cell_type": "markdown",
   "id": "e1d7e1b2",
   "metadata": {},
   "source": [
    "But, it does not give the underlying distribution of values. Also, it does not tell anything about the type of errors our classifer is making.\n",
    "\n",
    "We have another tool called Confusion matrix that comes to our rescue.\n",
    "\n"
   ]
  },
  {
   "cell_type": "code",
   "execution_count": 59,
   "id": "096ce89a",
   "metadata": {},
   "outputs": [
    {
     "name": "stdout",
     "output_type": "stream",
     "text": [
      "Confusion matrix\n",
      "\n",
      " [[19900  5059]\n",
      " [ 1452 11189]]\n",
      "\n",
      "True Positives(TP) =  19900\n",
      "\n",
      "True Negatives(TN) =  11189\n",
      "\n",
      "False Positives(FP) =  5059\n",
      "\n",
      "False Negatives(FN) =  1452\n"
     ]
    }
   ],
   "source": [
    "# Print the Confusion Matrix and slice it into four pieces\n",
    "\n",
    "from sklearn.metrics import confusion_matrix\n",
    "\n",
    "cm = confusion_matrix(y_test, y_pred)\n",
    "\n",
    "print('Confusion matrix\\n\\n', cm)\n",
    "\n",
    "print('\\nTrue Positives(TP) = ', cm[0,0])\n",
    "\n",
    "print('\\nTrue Negatives(TN) = ', cm[1,1])\n",
    "\n",
    "print('\\nFalse Positives(FP) = ', cm[0,1])\n",
    "\n",
    "print('\\nFalse Negatives(FN) = ', cm[1,0])"
   ]
  },
  {
   "cell_type": "code",
   "execution_count": 60,
   "id": "dc4e4ba5",
   "metadata": {},
   "outputs": [
    {
     "data": {
      "text/plain": [
       "<AxesSubplot:>"
      ]
     },
     "execution_count": 60,
     "metadata": {},
     "output_type": "execute_result"
    },
    {
     "data": {
      "image/png": "[encoded data removed]",
      "text/plain": [
       "<Figure size 432x288 with 2 Axes>"
      ]
     },
     "metadata": {
      "needs_background": "light"
     },
     "output_type": "display_data"
    }
   ],
   "source": [
    "# visualize confusion matrix with seaborn heatmap\n",
    "\n",
    "cm_matrix = pd.DataFrame(data=cm, columns=['Actual Positive:1', 'Actual Negative:0'], \n",
    "                                 index=['Predict Positive:1', 'Predict Negative:0'])\n",
    "\n",
    "sns.heatmap(cm_matrix, annot=True, fmt='d', cmap='YlGnBu')"
   ]
  },
  {
   "cell_type": "markdown",
   "id": "7b5ff444",
   "metadata": {},
   "source": [
    "# Classification metrices"
   ]
  },
  {
   "cell_type": "code",
   "execution_count": 62,
   "id": "4c7a07d8",
   "metadata": {},
   "outputs": [
    {
     "name": "stdout",
     "output_type": "stream",
     "text": [
      "              precision    recall  f1-score   support\n",
      "\n",
      "           0       0.93      0.80      0.86     24959\n",
      "           1       0.69      0.89      0.77     12641\n",
      "\n",
      "    accuracy                           0.83     37600\n",
      "   macro avg       0.81      0.84      0.82     37600\n",
      "weighted avg       0.85      0.83      0.83     37600\n",
      "\n"
     ]
    }
   ],
   "source": [
    "from sklearn.metrics import classification_report\n",
    "\n",
    "print(classification_report(y_test, y_pred))\n"
   ]
  },
  {
   "cell_type": "code",
   "execution_count": null,
   "id": "56a0b640",
   "metadata": {},
   "outputs": [],
   "source": []
  }
 ],
 "metadata": {
  "kernelspec": {
   "display_name": "Python 3 (ipykernel)",
   "language": "python",
   "name": "python3"
  },
  "language_info": {
   "codemirror_mode": {
    "name": "ipython",
    "version": 3
   },
   "file_extension": ".py",
   "mimetype": "text/x-python",
   "name": "python",
   "nbconvert_exporter": "python",
   "pygments_lexer": "ipython3",
   "version": "3.9.6"
  }
 },
 "nbformat": 4,
 "nbformat_minor": 5
}
