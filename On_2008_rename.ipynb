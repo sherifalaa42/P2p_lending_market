{
 "cells": [
  {
   "cell_type": "code",
   "execution_count": 149,
   "id": "8e521b8d-4145-4123-a943-468356027877",
   "metadata": {},
   "outputs": [],
   "source": [
    "#imports\n",
    "import numpy as np\n",
    "import pandas as pd\n",
    "import matplotlib.pyplot as plt\n",
    "import seaborn as sns"
   ]
  },
  {
   "cell_type": "code",
   "execution_count": 150,
   "id": "54c0d6a4-84c8-480a-b4e8-f128e920c725",
   "metadata": {},
   "outputs": [],
   "source": [
    "data = pd.read_csv('prosperLoanData.csv')"
   ]
  },
  {
   "cell_type": "code",
   "execution_count": 151,
   "id": "278bc962-8fb3-46bb-b8db-7f63b8500e7a",
   "metadata": {},
   "outputs": [],
   "source": [
    "data.drop('ListingKey',axis=1,inplace=True)\n",
    "data.drop('MemberKey',axis=1,inplace=True)\n",
    "data.drop('LoanOriginationQuarter',axis=1,inplace=True)\n",
    "data.drop('LoanKey',axis=1,inplace=True)\n",
    "data.drop('GroupKey',axis=1,inplace=True)\n",
    "data.drop('LoanNumber',axis=1,inplace=True)"
   ]
  },
  {
   "cell_type": "markdown",
   "id": "09b4c3a3-449d-4a83-8792-d0ddde1d87b7",
   "metadata": {},
   "source": [
    "## Handling the Datetime columns"
   ]
  },
  {
   "cell_type": "code",
   "execution_count": 152,
   "id": "f725c4f8-635c-40dc-84e6-e711cc5c76fc",
   "metadata": {},
   "outputs": [],
   "source": [
    "data['LoanOriginationDate'] = pd.to_datetime(data['LoanOriginationDate'])\n",
    "data['ClosedDate'] = pd.to_datetime(data['ClosedDate'])\n",
    "data['ListingCreationDate'] = pd.to_datetime(data['ListingCreationDate'])\n",
    "data['DateCreditPulled'] = pd.to_datetime(data['DateCreditPulled'])"
   ]
  },
  {
   "cell_type": "code",
   "execution_count": 153,
   "id": "cad8c268-c21a-4f00-81a4-5720a3c4aaac",
   "metadata": {},
   "outputs": [],
   "source": [
    "data['ClosedDate_day'] = data['ClosedDate'].dt.day\n",
    "data['ClosedDate_month'] = data['ClosedDate'].dt.month\n",
    "data['ClosedDate_year'] = data['ClosedDate'].dt.year"
   ]
  },
  {
   "cell_type": "code",
   "execution_count": 154,
   "id": "c0d6cd21-5d0c-4715-b9e0-51bb3ccd645d",
   "metadata": {},
   "outputs": [],
   "source": [
    "data['LoanOriginationDate_day'] = data['LoanOriginationDate'].dt.day\n",
    "data['LoanOriginationDate_month'] = data['LoanOriginationDate'].dt.month\n",
    "data['LoanOriginationDate_year'] = data['LoanOriginationDate'].dt.year"
   ]
  },
  {
   "cell_type": "code",
   "execution_count": 155,
   "id": "6dc30eca-c118-4ec7-9b65-56b5399e58ae",
   "metadata": {},
   "outputs": [],
   "source": [
    "data['ListingCreationDate_day'] = data['ListingCreationDate'].dt.day\n",
    "data['ListingCreationDate_month'] = data['ListingCreationDate'].dt.month\n",
    "data['ListingCreationDate_year'] = data['ListingCreationDate'].dt.year"
   ]
  },
  {
   "cell_type": "code",
   "execution_count": 156,
   "id": "6cbb6456-af27-400b-ba4b-474cb8259a89",
   "metadata": {},
   "outputs": [],
   "source": [
    "data['DateCreditPulled_day'] = data['DateCreditPulled'].dt.day\n",
    "data['DateCreditPulled_month'] = data['DateCreditPulled'].dt.month\n",
    "data['DateCreditPulled_year'] = data['DateCreditPulled'].dt.year"
   ]
  },
  {
   "cell_type": "code",
   "execution_count": 157,
   "id": "7e8a63ec-12b1-4538-b359-827b2f0e384e",
   "metadata": {},
   "outputs": [],
   "source": [
    "# data.drop('FirstRecordedCreditLine',axis=1, inplace= True)\n",
    "data.drop('LoanOriginationDate',axis=1, inplace= True)\n",
    "data.drop('ListingCreationDate',axis=1, inplace= True)\n",
    "data.drop('DateCreditPulled',axis=1, inplace= True)\n",
    "data.drop('ClosedDate',axis=1, inplace= True)"
   ]
  },
  {
   "cell_type": "markdown",
   "id": "c6ba6c00-defd-4eac-bcb3-571217bcb5e5",
   "metadata": {},
   "source": [
    "#### Accessing only 2008 data"
   ]
  },
  {
   "cell_type": "code",
   "execution_count": 158,
   "id": "25df8674-26d3-40ae-bfa2-4016051e7005",
   "metadata": {},
   "outputs": [],
   "source": [
    "# data['LoanOriginationDate'] = pd.to_datetime(data['LoanOriginationDate'])"
   ]
  },
  {
   "cell_type": "code",
   "execution_count": 159,
   "id": "d135be6e-5a91-4098-966e-c4caed6b5abc",
   "metadata": {},
   "outputs": [],
   "source": [
    "data_on_2008 = pd.DataFrame(data[data['LoanOriginationDate_year'] == 2008])"
   ]
  },
  {
   "cell_type": "code",
   "execution_count": 160,
   "id": "6febd9ce-9919-41eb-a554-ddb1a8595be7",
   "metadata": {},
   "outputs": [
    {
     "data": {
      "text/plain": [
       "(11552, 83)"
      ]
     },
     "execution_count": 160,
     "metadata": {},
     "output_type": "execute_result"
    }
   ],
   "source": [
    "data_on_2008.shape"
   ]
  },
  {
   "cell_type": "markdown",
   "id": "8a5cd7f0-6be6-4612-93bb-86c782f44aef",
   "metadata": {},
   "source": [
    "### Columns have null values"
   ]
  },
  {
   "cell_type": "code",
   "execution_count": 161,
   "id": "83241dd9-a69a-4b4f-a305-38441de8bdbd",
   "metadata": {},
   "outputs": [
    {
     "name": "stdout",
     "output_type": "stream",
     "text": [
      "EstimatedEffectiveYield\n",
      "11552\n",
      "EstimatedLoss\n",
      "11552\n",
      "EstimatedReturn\n",
      "11552\n",
      "ProsperRating (numeric)\n",
      "11552\n",
      "ProsperRating (Alpha)\n",
      "11552\n",
      "ProsperScore\n",
      "11552\n",
      "BorrowerState\n",
      "31\n",
      "EmploymentStatusDuration\n",
      "4\n",
      "FirstRecordedCreditLine\n",
      "5\n",
      "TotalCreditLinespast7years\n",
      "5\n",
      "InquiriesLast6Months\n",
      "5\n",
      "CurrentDelinquencies\n",
      "5\n",
      "AmountDelinquent\n",
      "5\n",
      "DelinquenciesLast7Years\n",
      "5\n",
      "PublicRecordsLast10Years\n",
      "5\n",
      "DebtToIncomeRatio\n",
      "908\n",
      "TotalProsperLoans\n",
      "9781\n",
      "TotalProsperPaymentsBilled\n",
      "9781\n",
      "OnTimeProsperPayments\n",
      "9781\n",
      "ProsperPaymentsLessThanOneMonthLate\n",
      "9781\n",
      "ProsperPaymentsOneMonthPlusLate\n",
      "9781\n",
      "ProsperPrincipalBorrowed\n",
      "9781\n",
      "ProsperPrincipalOutstanding\n",
      "9781\n",
      "ScorexChangeAtTimeOfListing\n",
      "9781\n",
      "LoanFirstDefaultedCycleNumber\n",
      "7742\n"
     ]
    }
   ],
   "source": [
    "null = []\n",
    "for col in data_on_2008.columns :\n",
    "    if (data_on_2008[col].isnull().sum() > 0) :\n",
    "        null.append(col)\n",
    "        print(col)\n",
    "        print(data_on_2008[col].isnull().sum())\n",
    "       "
   ]
  },
  {
   "cell_type": "markdown",
   "id": "7e91a76a-31ab-4416-a7ed-7bf8acd6d999",
   "metadata": {},
   "source": [
    "#### all_null have the columns have no data and Dropping them "
   ]
  },
  {
   "cell_type": "code",
   "execution_count": 162,
   "id": "e1ad5b4a-98a6-4821-aa74-8d7c827f307b",
   "metadata": {
    "tags": []
   },
   "outputs": [],
   "source": [
    "all_null = []\n",
    "for i in null :\n",
    "    if data_on_2008[i].isnull().sum()== data_on_2008.shape[0] :\n",
    "        all_null.append(i)"
   ]
  },
  {
   "cell_type": "code",
   "execution_count": 163,
   "id": "55d29f8f-4deb-4fe4-a0f7-e43614001717",
   "metadata": {},
   "outputs": [],
   "source": [
    "data_on_2008.drop(all_null,axis=1,inplace=True)"
   ]
  },
  {
   "cell_type": "markdown",
   "id": "6ad036fe-d732-4fc0-8dda-521900e2a50f",
   "metadata": {},
   "source": [
    "#### filling the missing values"
   ]
  },
  {
   "cell_type": "code",
   "execution_count": 164,
   "id": "fbb23375-a9c8-448e-ac6f-5287ba83e718",
   "metadata": {},
   "outputs": [],
   "source": [
    "#the low_null column values with mode and the high by previous values and the rest we drop them\n",
    "low_nulls = ['BorrowerState','EmploymentStatusDuration','FirstRecordedCreditLine','TotalCreditLinespast7years','InquiriesLast6Months',\n",
    "             'CurrentDelinquencies','AmountDelinquent','DelinquenciesLast7Years','PublicRecordsLast10Years','LoanFirstDefaultedCycleNumber']\n",
    "high_nulls = ['DebtToIncomeRatio','LoanFirstDefaultedCycleNumber']\n",
    "\n",
    "undecided = null[16:24]"
   ]
  },
  {
   "cell_type": "code",
   "execution_count": 165,
   "id": "22344e4d-1402-4564-9bf5-d9ac1639ea90",
   "metadata": {},
   "outputs": [],
   "source": [
    "data_on_2008[high_nulls]=data_on_2008[high_nulls].bfill(axis='rows')"
   ]
  },
  {
   "cell_type": "code",
   "execution_count": 166,
   "id": "957dbc12-ff34-4575-afd9-768aa5de4554",
   "metadata": {},
   "outputs": [],
   "source": [
    "for i in low_nulls :\n",
    "    data_on_2008[i].fillna(data_on_2008[i].mode()[0],inplace=True)\n"
   ]
  },
  {
   "cell_type": "code",
   "execution_count": 167,
   "id": "9c5c0cf1-bd12-4547-bbd2-4ac264a66e37",
   "metadata": {},
   "outputs": [],
   "source": [
    "## with the data dropped \n",
    "data_on_2008.drop(undecided,axis=1,inplace=True)"
   ]
  },
  {
   "cell_type": "code",
   "execution_count": 168,
   "id": "8f02da26-b83c-4126-a113-5ace222ed9ec",
   "metadata": {},
   "outputs": [],
   "source": [
    "data_on_2008['FirstRecordedCreditLine'] = pd.to_datetime(data_on_2008['FirstRecordedCreditLine'])"
   ]
  },
  {
   "cell_type": "code",
   "execution_count": 169,
   "id": "79a4adef-8280-47bc-8ab5-5dd773ffc707",
   "metadata": {},
   "outputs": [],
   "source": [
    "data_on_2008['FirstRecordedCreditLine_date_day'] = data_on_2008['FirstRecordedCreditLine'].dt.day\n",
    "data_on_2008['FirstRecordedCreditLine_date_month'] = data_on_2008['FirstRecordedCreditLine'].dt.month\n",
    "data_on_2008['FirstRecordedCreditLine_date_year'] = data_on_2008['FirstRecordedCreditLine'].dt.year"
   ]
  },
  {
   "cell_type": "code",
   "execution_count": 170,
   "id": "f8612576-2e99-4d87-aec1-3325965077c8",
   "metadata": {},
   "outputs": [],
   "source": [
    "data.drop('FirstRecordedCreditLine',axis=1, inplace= True)"
   ]
  },
  {
   "cell_type": "code",
   "execution_count": 171,
   "id": "b0cfe283-04f3-4390-b426-ba7b280b1267",
   "metadata": {
    "tags": []
   },
   "outputs": [],
   "source": [
    "data_on_2008.to_csv(r'D:\\Projects\\lending_market\\data_2008.csv',index=False)"
   ]
  },
  {
   "cell_type": "markdown",
   "id": "25b787bb-371a-4e81-9c24-8eacecbda6b3",
   "metadata": {},
   "source": [
    "# u should drop the bfilled columns"
   ]
  }
 ],
 "metadata": {
  "kernelspec": {
   "display_name": "Python 3 (ipykernel)",
   "language": "python",
   "name": "python3"
  },
  "language_info": {
   "codemirror_mode": {
    "name": "ipython",
    "version": 3
   },
   "file_extension": ".py",
   "mimetype": "text/x-python",
   "name": "python",
   "nbconvert_exporter": "python",
   "pygments_lexer": "ipython3",
   "version": "3.9.6"
  }
 },
 "nbformat": 4,
 "nbformat_minor": 5
}
