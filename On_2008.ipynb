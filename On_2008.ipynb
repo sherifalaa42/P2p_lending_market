{
 "cells": [
  {
   "cell_type": "code",
   "execution_count": 12,
   "id": "8e521b8d-4145-4123-a943-468356027877",
   "metadata": {},
   "outputs": [],
   "source": [
    "#imports\n",
    "import numpy as np\n",
    "import pandas as pd\n",
    "import matplotlib.pyplot as plt\n",
    "import seaborn as sns"
   ]
  },
  {
   "cell_type": "code",
   "execution_count": 13,
   "id": "54c0d6a4-84c8-480a-b4e8-f128e920c725",
   "metadata": {},
   "outputs": [],
   "source": [
    "data = pd.read_csv('prosperLoanData.csv')"
   ]
  },
  {
   "cell_type": "code",
   "execution_count": 14,
   "id": "278bc962-8fb3-46bb-b8db-7f63b8500e7a",
   "metadata": {},
   "outputs": [],
   "source": [
    "data.drop('ListingKey',axis=1,inplace=True)\n",
    "data.drop('MemberKey',axis=1,inplace=True)\n",
    "data.drop('LoanOriginationQuarter',axis=1,inplace=True)\n",
    "data.drop('LoanKey',axis=1,inplace=True)\n",
    "data.drop('GroupKey',axis=1,inplace=True)\n",
    "data.drop('LoanNumber',axis=1,inplace=True)"
   ]
  },
  {
   "cell_type": "markdown",
   "id": "09b4c3a3-449d-4a83-8792-d0ddde1d87b7",
   "metadata": {},
   "source": [
    "## spliting the dataset (on) 2008"
   ]
  },
  {
   "cell_type": "code",
   "execution_count": 15,
   "id": "f725c4f8-635c-40dc-84e6-e711cc5c76fc",
   "metadata": {},
   "outputs": [],
   "source": [
    "data['LoanOriginationDate'] = pd.to_datetime(data['LoanOriginationDate'])"
   ]
  },
  {
   "cell_type": "code",
   "execution_count": 16,
   "id": "d135be6e-5a91-4098-966e-c4caed6b5abc",
   "metadata": {},
   "outputs": [],
   "source": [
    "data_on_2008 = pd.DataFrame(data[data['LoanOriginationDate'].dt.year == 2008])"
   ]
  },
  {
   "cell_type": "code",
   "execution_count": 17,
   "id": "6febd9ce-9919-41eb-a554-ddb1a8595be7",
   "metadata": {},
   "outputs": [
    {
     "data": {
      "text/plain": [
       "(11552, 75)"
      ]
     },
     "execution_count": 17,
     "metadata": {},
     "output_type": "execute_result"
    }
   ],
   "source": [
    "data_on_2008.shape"
   ]
  },
  {
   "cell_type": "markdown",
   "id": "8a5cd7f0-6be6-4612-93bb-86c782f44aef",
   "metadata": {},
   "source": [
    "### Columns have null values"
   ]
  },
  {
   "cell_type": "code",
   "execution_count": 18,
   "id": "83241dd9-a69a-4b4f-a305-38441de8bdbd",
   "metadata": {},
   "outputs": [
    {
     "name": "stdout",
     "output_type": "stream",
     "text": [
      "EstimatedEffectiveYield\n",
      "11552\n",
      "EstimatedLoss\n",
      "11552\n",
      "EstimatedReturn\n",
      "11552\n",
      "ProsperRating (numeric)\n",
      "11552\n",
      "ProsperRating (Alpha)\n",
      "11552\n",
      "ProsperScore\n",
      "11552\n",
      "BorrowerState\n",
      "31\n",
      "EmploymentStatusDuration\n",
      "4\n",
      "FirstRecordedCreditLine\n",
      "5\n",
      "TotalCreditLinespast7years\n",
      "5\n",
      "InquiriesLast6Months\n",
      "5\n",
      "CurrentDelinquencies\n",
      "5\n",
      "AmountDelinquent\n",
      "5\n",
      "DelinquenciesLast7Years\n",
      "5\n",
      "PublicRecordsLast10Years\n",
      "5\n",
      "DebtToIncomeRatio\n",
      "908\n",
      "TotalProsperLoans\n",
      "9781\n",
      "TotalProsperPaymentsBilled\n",
      "9781\n",
      "OnTimeProsperPayments\n",
      "9781\n",
      "ProsperPaymentsLessThanOneMonthLate\n",
      "9781\n",
      "ProsperPaymentsOneMonthPlusLate\n",
      "9781\n",
      "ProsperPrincipalBorrowed\n",
      "9781\n",
      "ProsperPrincipalOutstanding\n",
      "9781\n",
      "ScorexChangeAtTimeOfListing\n",
      "9781\n",
      "LoanFirstDefaultedCycleNumber\n",
      "7742\n"
     ]
    }
   ],
   "source": [
    "null = []\n",
    "for col in data_on_2008.columns :\n",
    "    if (data_on_2008[col].isnull().sum() > 0) :\n",
    "        null.append(col)\n",
    "        print(col)\n",
    "        print(data_on_2008[col].isnull().sum())\n",
    "       "
   ]
  },
  {
   "cell_type": "markdown",
   "id": "7e91a76a-31ab-4416-a7ed-7bf8acd6d999",
   "metadata": {},
   "source": [
    "#### all_null have the columns have no data and Dropping them "
   ]
  },
  {
   "cell_type": "code",
   "execution_count": 19,
   "id": "e1ad5b4a-98a6-4821-aa74-8d7c827f307b",
   "metadata": {
    "tags": []
   },
   "outputs": [],
   "source": [
    "all_null = []\n",
    "for i in null :\n",
    "    if data_on_2008[i].isnull().sum()== data_on_2008.shape[0] :\n",
    "        all_null.append(i)"
   ]
  },
  {
   "cell_type": "code",
   "execution_count": 20,
   "id": "55d29f8f-4deb-4fe4-a0f7-e43614001717",
   "metadata": {},
   "outputs": [
    {
     "ename": "KeyError",
     "evalue": "\"['GroupKey'] not found in axis\"",
     "output_type": "error",
     "traceback": [
      "\u001b[1;31m---------------------------------------------------------------------------\u001b[0m",
      "\u001b[1;31mKeyError\u001b[0m                                  Traceback (most recent call last)",
      "\u001b[1;32m~\\AppData\\Local\\Temp/ipykernel_3656/2371183907.py\u001b[0m in \u001b[0;36m<module>\u001b[1;34m\u001b[0m\n\u001b[0;32m      1\u001b[0m \u001b[0mdata_on_2008\u001b[0m\u001b[1;33m.\u001b[0m\u001b[0mdrop\u001b[0m\u001b[1;33m(\u001b[0m\u001b[0mall_null\u001b[0m\u001b[1;33m,\u001b[0m\u001b[0maxis\u001b[0m\u001b[1;33m=\u001b[0m\u001b[1;36m1\u001b[0m\u001b[1;33m,\u001b[0m\u001b[0minplace\u001b[0m\u001b[1;33m=\u001b[0m\u001b[1;32mTrue\u001b[0m\u001b[1;33m)\u001b[0m\u001b[1;33m\u001b[0m\u001b[1;33m\u001b[0m\u001b[0m\n\u001b[1;32m----> 2\u001b[1;33m \u001b[0mdata_on_2008\u001b[0m\u001b[1;33m.\u001b[0m\u001b[0mdrop\u001b[0m\u001b[1;33m(\u001b[0m\u001b[1;34m'GroupKey'\u001b[0m\u001b[1;33m,\u001b[0m\u001b[0maxis\u001b[0m\u001b[1;33m=\u001b[0m\u001b[1;36m1\u001b[0m\u001b[1;33m,\u001b[0m\u001b[0minplace\u001b[0m\u001b[1;33m=\u001b[0m\u001b[1;32mTrue\u001b[0m\u001b[1;33m)\u001b[0m\u001b[1;33m\u001b[0m\u001b[1;33m\u001b[0m\u001b[0m\n\u001b[0m",
      "\u001b[1;32mc:\\users\\alaa_\\appdata\\local\\programs\\python\\python39\\lib\\site-packages\\pandas\\util\\_decorators.py\u001b[0m in \u001b[0;36mwrapper\u001b[1;34m(*args, **kwargs)\u001b[0m\n\u001b[0;32m    309\u001b[0m                     \u001b[0mstacklevel\u001b[0m\u001b[1;33m=\u001b[0m\u001b[0mstacklevel\u001b[0m\u001b[1;33m,\u001b[0m\u001b[1;33m\u001b[0m\u001b[1;33m\u001b[0m\u001b[0m\n\u001b[0;32m    310\u001b[0m                 )\n\u001b[1;32m--> 311\u001b[1;33m             \u001b[1;32mreturn\u001b[0m \u001b[0mfunc\u001b[0m\u001b[1;33m(\u001b[0m\u001b[1;33m*\u001b[0m\u001b[0margs\u001b[0m\u001b[1;33m,\u001b[0m \u001b[1;33m**\u001b[0m\u001b[0mkwargs\u001b[0m\u001b[1;33m)\u001b[0m\u001b[1;33m\u001b[0m\u001b[1;33m\u001b[0m\u001b[0m\n\u001b[0m\u001b[0;32m    312\u001b[0m \u001b[1;33m\u001b[0m\u001b[0m\n\u001b[0;32m    313\u001b[0m         \u001b[1;32mreturn\u001b[0m \u001b[0mwrapper\u001b[0m\u001b[1;33m\u001b[0m\u001b[1;33m\u001b[0m\u001b[0m\n",
      "\u001b[1;32mc:\\users\\alaa_\\appdata\\local\\programs\\python\\python39\\lib\\site-packages\\pandas\\core\\frame.py\u001b[0m in \u001b[0;36mdrop\u001b[1;34m(self, labels, axis, index, columns, level, inplace, errors)\u001b[0m\n\u001b[0;32m   4904\u001b[0m                 \u001b[0mweight\u001b[0m  \u001b[1;36m1.0\u001b[0m     \u001b[1;36m0.8\u001b[0m\u001b[1;33m\u001b[0m\u001b[1;33m\u001b[0m\u001b[0m\n\u001b[0;32m   4905\u001b[0m         \"\"\"\n\u001b[1;32m-> 4906\u001b[1;33m         return super().drop(\n\u001b[0m\u001b[0;32m   4907\u001b[0m             \u001b[0mlabels\u001b[0m\u001b[1;33m=\u001b[0m\u001b[0mlabels\u001b[0m\u001b[1;33m,\u001b[0m\u001b[1;33m\u001b[0m\u001b[1;33m\u001b[0m\u001b[0m\n\u001b[0;32m   4908\u001b[0m             \u001b[0maxis\u001b[0m\u001b[1;33m=\u001b[0m\u001b[0maxis\u001b[0m\u001b[1;33m,\u001b[0m\u001b[1;33m\u001b[0m\u001b[1;33m\u001b[0m\u001b[0m\n",
      "\u001b[1;32mc:\\users\\alaa_\\appdata\\local\\programs\\python\\python39\\lib\\site-packages\\pandas\\core\\generic.py\u001b[0m in \u001b[0;36mdrop\u001b[1;34m(self, labels, axis, index, columns, level, inplace, errors)\u001b[0m\n\u001b[0;32m   4148\u001b[0m         \u001b[1;32mfor\u001b[0m \u001b[0maxis\u001b[0m\u001b[1;33m,\u001b[0m \u001b[0mlabels\u001b[0m \u001b[1;32min\u001b[0m \u001b[0maxes\u001b[0m\u001b[1;33m.\u001b[0m\u001b[0mitems\u001b[0m\u001b[1;33m(\u001b[0m\u001b[1;33m)\u001b[0m\u001b[1;33m:\u001b[0m\u001b[1;33m\u001b[0m\u001b[1;33m\u001b[0m\u001b[0m\n\u001b[0;32m   4149\u001b[0m             \u001b[1;32mif\u001b[0m \u001b[0mlabels\u001b[0m \u001b[1;32mis\u001b[0m \u001b[1;32mnot\u001b[0m \u001b[1;32mNone\u001b[0m\u001b[1;33m:\u001b[0m\u001b[1;33m\u001b[0m\u001b[1;33m\u001b[0m\u001b[0m\n\u001b[1;32m-> 4150\u001b[1;33m                 \u001b[0mobj\u001b[0m \u001b[1;33m=\u001b[0m \u001b[0mobj\u001b[0m\u001b[1;33m.\u001b[0m\u001b[0m_drop_axis\u001b[0m\u001b[1;33m(\u001b[0m\u001b[0mlabels\u001b[0m\u001b[1;33m,\u001b[0m \u001b[0maxis\u001b[0m\u001b[1;33m,\u001b[0m \u001b[0mlevel\u001b[0m\u001b[1;33m=\u001b[0m\u001b[0mlevel\u001b[0m\u001b[1;33m,\u001b[0m \u001b[0merrors\u001b[0m\u001b[1;33m=\u001b[0m\u001b[0merrors\u001b[0m\u001b[1;33m)\u001b[0m\u001b[1;33m\u001b[0m\u001b[1;33m\u001b[0m\u001b[0m\n\u001b[0m\u001b[0;32m   4151\u001b[0m \u001b[1;33m\u001b[0m\u001b[0m\n\u001b[0;32m   4152\u001b[0m         \u001b[1;32mif\u001b[0m \u001b[0minplace\u001b[0m\u001b[1;33m:\u001b[0m\u001b[1;33m\u001b[0m\u001b[1;33m\u001b[0m\u001b[0m\n",
      "\u001b[1;32mc:\\users\\alaa_\\appdata\\local\\programs\\python\\python39\\lib\\site-packages\\pandas\\core\\generic.py\u001b[0m in \u001b[0;36m_drop_axis\u001b[1;34m(self, labels, axis, level, errors)\u001b[0m\n\u001b[0;32m   4183\u001b[0m                 \u001b[0mnew_axis\u001b[0m \u001b[1;33m=\u001b[0m \u001b[0maxis\u001b[0m\u001b[1;33m.\u001b[0m\u001b[0mdrop\u001b[0m\u001b[1;33m(\u001b[0m\u001b[0mlabels\u001b[0m\u001b[1;33m,\u001b[0m \u001b[0mlevel\u001b[0m\u001b[1;33m=\u001b[0m\u001b[0mlevel\u001b[0m\u001b[1;33m,\u001b[0m \u001b[0merrors\u001b[0m\u001b[1;33m=\u001b[0m\u001b[0merrors\u001b[0m\u001b[1;33m)\u001b[0m\u001b[1;33m\u001b[0m\u001b[1;33m\u001b[0m\u001b[0m\n\u001b[0;32m   4184\u001b[0m             \u001b[1;32melse\u001b[0m\u001b[1;33m:\u001b[0m\u001b[1;33m\u001b[0m\u001b[1;33m\u001b[0m\u001b[0m\n\u001b[1;32m-> 4185\u001b[1;33m                 \u001b[0mnew_axis\u001b[0m \u001b[1;33m=\u001b[0m \u001b[0maxis\u001b[0m\u001b[1;33m.\u001b[0m\u001b[0mdrop\u001b[0m\u001b[1;33m(\u001b[0m\u001b[0mlabels\u001b[0m\u001b[1;33m,\u001b[0m \u001b[0merrors\u001b[0m\u001b[1;33m=\u001b[0m\u001b[0merrors\u001b[0m\u001b[1;33m)\u001b[0m\u001b[1;33m\u001b[0m\u001b[1;33m\u001b[0m\u001b[0m\n\u001b[0m\u001b[0;32m   4186\u001b[0m             \u001b[0mresult\u001b[0m \u001b[1;33m=\u001b[0m \u001b[0mself\u001b[0m\u001b[1;33m.\u001b[0m\u001b[0mreindex\u001b[0m\u001b[1;33m(\u001b[0m\u001b[1;33m**\u001b[0m\u001b[1;33m{\u001b[0m\u001b[0maxis_name\u001b[0m\u001b[1;33m:\u001b[0m \u001b[0mnew_axis\u001b[0m\u001b[1;33m}\u001b[0m\u001b[1;33m)\u001b[0m\u001b[1;33m\u001b[0m\u001b[1;33m\u001b[0m\u001b[0m\n\u001b[0;32m   4187\u001b[0m \u001b[1;33m\u001b[0m\u001b[0m\n",
      "\u001b[1;32mc:\\users\\alaa_\\appdata\\local\\programs\\python\\python39\\lib\\site-packages\\pandas\\core\\indexes\\base.py\u001b[0m in \u001b[0;36mdrop\u001b[1;34m(self, labels, errors)\u001b[0m\n\u001b[0;32m   6015\u001b[0m         \u001b[1;32mif\u001b[0m \u001b[0mmask\u001b[0m\u001b[1;33m.\u001b[0m\u001b[0many\u001b[0m\u001b[1;33m(\u001b[0m\u001b[1;33m)\u001b[0m\u001b[1;33m:\u001b[0m\u001b[1;33m\u001b[0m\u001b[1;33m\u001b[0m\u001b[0m\n\u001b[0;32m   6016\u001b[0m             \u001b[1;32mif\u001b[0m \u001b[0merrors\u001b[0m \u001b[1;33m!=\u001b[0m \u001b[1;34m\"ignore\"\u001b[0m\u001b[1;33m:\u001b[0m\u001b[1;33m\u001b[0m\u001b[1;33m\u001b[0m\u001b[0m\n\u001b[1;32m-> 6017\u001b[1;33m                 \u001b[1;32mraise\u001b[0m \u001b[0mKeyError\u001b[0m\u001b[1;33m(\u001b[0m\u001b[1;34mf\"{labels[mask]} not found in axis\"\u001b[0m\u001b[1;33m)\u001b[0m\u001b[1;33m\u001b[0m\u001b[1;33m\u001b[0m\u001b[0m\n\u001b[0m\u001b[0;32m   6018\u001b[0m             \u001b[0mindexer\u001b[0m \u001b[1;33m=\u001b[0m \u001b[0mindexer\u001b[0m\u001b[1;33m[\u001b[0m\u001b[1;33m~\u001b[0m\u001b[0mmask\u001b[0m\u001b[1;33m]\u001b[0m\u001b[1;33m\u001b[0m\u001b[1;33m\u001b[0m\u001b[0m\n\u001b[0;32m   6019\u001b[0m         \u001b[1;32mreturn\u001b[0m \u001b[0mself\u001b[0m\u001b[1;33m.\u001b[0m\u001b[0mdelete\u001b[0m\u001b[1;33m(\u001b[0m\u001b[0mindexer\u001b[0m\u001b[1;33m)\u001b[0m\u001b[1;33m\u001b[0m\u001b[1;33m\u001b[0m\u001b[0m\n",
      "\u001b[1;31mKeyError\u001b[0m: \"['GroupKey'] not found in axis\""
     ]
    }
   ],
   "source": [
    "data_on_2008.drop(all_null,axis=1,inplace=True)\n",
    "data_on_2008.drop('GroupKey',axis=1,inplace=True)"
   ]
  },
  {
   "cell_type": "markdown",
   "id": "6ad036fe-d732-4fc0-8dda-521900e2a50f",
   "metadata": {},
   "source": [
    "#### filling the low_null column values with mode and the high by previous values"
   ]
  },
  {
   "cell_type": "code",
   "execution_count": null,
   "id": "fbb23375-a9c8-448e-ac6f-5287ba83e718",
   "metadata": {},
   "outputs": [],
   "source": [
    "low_nulls = ['BorrowerState','EmploymentStatusDuration','FirstRecordedCreditLine','TotalCreditLinespast7years','InquiriesLast6Months',\n",
    "             'CurrentDelinquencies','AmountDelinquent','DelinquenciesLast7Years','PublicRecordsLast10Years','LoanFirstDefaultedCycleNumber']\n",
    "high_nulls = ['DebtToIncomeRatio','LoanFirstDefaultedCycleNumber']"
   ]
  },
  {
   "cell_type": "code",
   "execution_count": null,
   "id": "22344e4d-1402-4564-9bf5-d9ac1639ea90",
   "metadata": {},
   "outputs": [],
   "source": [
    "data_on_2008[high_nulls]=data_on_2008[high_nulls].bfill(axis='rows')"
   ]
  },
  {
   "cell_type": "code",
   "execution_count": null,
   "id": "957dbc12-ff34-4575-afd9-768aa5de4554",
   "metadata": {},
   "outputs": [],
   "source": [
    "for i in low_nulls :\n",
    "    data_on_2008[i].fillna(data_on_2008[i].mode()[0],inplace=True)\n"
   ]
  }
 ],
 "metadata": {
  "kernelspec": {
   "display_name": "Python 3 (ipykernel)",
   "language": "python",
   "name": "python3"
  },
  "language_info": {
   "codemirror_mode": {
    "name": "ipython",
    "version": 3
   },
   "file_extension": ".py",
   "mimetype": "text/x-python",
   "name": "python",
   "nbconvert_exporter": "python",
   "pygments_lexer": "ipython3",
   "version": "3.9.6"
  }
 },
 "nbformat": 4,
 "nbformat_minor": 5
}
