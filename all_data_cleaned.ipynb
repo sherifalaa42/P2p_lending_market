{
 "cells": [
  {
   "cell_type": "code",
   "execution_count": 60,
   "id": "c9831112-fd07-472f-82a3-a05af91acba7",
   "metadata": {},
   "outputs": [],
   "source": [
    "#imports\n",
    "import numpy as np\n",
    "import pandas as pd\n",
    "import matplotlib.pyplot as plt\n",
    "import seaborn as sns\n",
    "from sklearn.preprocessing import LabelEncoder\n",
    "from sklearn.linear_model import LogisticRegression\n",
    "from sklearn.metrics import accuracy_score\n",
    "from sklearn.model_selection import train_test_split\n",
    "from sklearn.model_selection import GridSearchCV\n",
    "from sklearn.metrics import classification_report\n",
    "from sklearn.metrics import confusion_matrix"
   ]
  },
  {
   "cell_type": "code",
   "execution_count": 2,
   "id": "1a24ea75-41c3-4e24-ba73-5b3d9b79c263",
   "metadata": {},
   "outputs": [],
   "source": [
    "data = pd.read_csv(\"prosperLoanData.csv\") # the full dataset"
   ]
  },
  {
   "cell_type": "markdown",
   "id": "dab87f32-1d4d-431d-9101-16253ddf3d3d",
   "metadata": {
    "tags": []
   },
   "source": [
    "### Dropped column names"
   ]
  },
  {
   "cell_type": "code",
   "execution_count": 3,
   "id": "61c7c067-961f-4e83-a855-9691c2b36c36",
   "metadata": {},
   "outputs": [],
   "source": [
    "dropped = ['ListingNumber', 'LoanNumber', 'GroupKey', 'LoanKey', 'MemberKey', 'ListingKey']"
   ]
  },
  {
   "cell_type": "code",
   "execution_count": 4,
   "id": "ad3f0388-1ed9-44ce-b505-3375339da17b",
   "metadata": {},
   "outputs": [],
   "source": [
    "for col in data.columns :\n",
    "    if (data[col].isnull().sum() > 0) and col not in dropped:\n",
    "        sum_null = data[col].isnull().sum()\n",
    "        percent_null = (sum_null/data.shape[0]) * 100\n",
    "        if percent_null > 70 :\n",
    "            dropped.append(col)"
   ]
  },
  {
   "cell_type": "markdown",
   "id": "1e61dc39-1697-4c2e-ade8-569c8bba7227",
   "metadata": {},
   "source": [
    "## Data Preprocessing"
   ]
  },
  {
   "cell_type": "markdown",
   "id": "0fcce564-b84b-41bb-9e75-3b5cecd597ec",
   "metadata": {},
   "source": [
    "### Imputing `CreditGrade` & `ProsperRating (Alpha)` "
   ]
  },
  {
   "cell_type": "code",
   "execution_count": 5,
   "id": "93eb00ef-402a-4452-a13a-9b9057aaeb5d",
   "metadata": {},
   "outputs": [],
   "source": [
    "data['CreditGrade'].fillna(data['ProsperRating (Alpha)'],inplace=True)"
   ]
  },
  {
   "cell_type": "code",
   "execution_count": 6,
   "id": "c06446e5-b790-493a-84dc-5375cab53bcd",
   "metadata": {},
   "outputs": [],
   "source": [
    "dropped.extend(['ProsperRating (Alpha)','ProsperRating (numeric)'])\n",
    "dropped.remove('CreditGrade')"
   ]
  },
  {
   "cell_type": "code",
   "execution_count": 7,
   "id": "0fc41cde-2cb9-4143-b21d-a65c058fdd56",
   "metadata": {},
   "outputs": [],
   "source": [
    "data.drop(dropped,axis=1,inplace=True)"
   ]
  },
  {
   "cell_type": "markdown",
   "id": "52ef46d2-27c2-47be-9a2f-116ad4180c9d",
   "metadata": {},
   "source": [
    "### Filling missing values"
   ]
  },
  {
   "cell_type": "code",
   "execution_count": 8,
   "id": "f94eb0b2-4e91-4bfc-a0f3-897c1d75c0f3",
   "metadata": {},
   "outputs": [
    {
     "data": {
      "text/plain": [
       "ClosedDate                 58848\n",
       "EstimatedReturn            29084\n",
       "ProsperScore               29084\n",
       "EstimatedEffectiveYield    29084\n",
       "EstimatedLoss              29084\n",
       "                           ...  \n",
       "LenderYield                    0\n",
       "BorrowerRate                   0\n",
       "LoanStatus                     0\n",
       "Term                           0\n",
       "Investors                      0\n",
       "Length: 64, dtype: int64"
      ]
     },
     "execution_count": 8,
     "metadata": {},
     "output_type": "execute_result"
    }
   ],
   "source": [
    "data.isnull().sum().sort_values(ascending=False)"
   ]
  },
  {
   "cell_type": "code",
   "execution_count": 9,
   "id": "b89e86b9-9907-4a0a-9b69-9d0c592b8559",
   "metadata": {},
   "outputs": [
    {
     "data": {
      "text/plain": [
       "0"
      ]
     },
     "execution_count": 9,
     "metadata": {},
     "output_type": "execute_result"
    }
   ],
   "source": [
    "for col in data.select_dtypes('float64').columns:\n",
    "    if data[col].isnull().sum() > 0: \n",
    "        data[col].fillna(data[col].median(),inplace=True)\n",
    "data.select_dtypes('float64').isnull().sum().sum()"
   ]
  },
  {
   "cell_type": "code",
   "execution_count": 10,
   "id": "492dc3cc-abcf-4f79-899c-c827a21b93eb",
   "metadata": {},
   "outputs": [
    {
     "data": {
      "text/plain": [
       "0"
      ]
     },
     "execution_count": 10,
     "metadata": {},
     "output_type": "execute_result"
    }
   ],
   "source": [
    "for col in data.select_dtypes('int64').columns: \n",
    "    if data[col].nunique() > 100:\n",
    "        data[col].fillna(data[col].median(), inplace=True)\n",
    "    else:\n",
    "        data[col].fillna(data[col].mode(), inplace=True)\n",
    "data.select_dtypes('int64').isnull().sum().sum()"
   ]
  },
  {
   "cell_type": "code",
   "execution_count": 11,
   "id": "802e41e8-afb1-493a-946e-ac53343b13f6",
   "metadata": {},
   "outputs": [
    {
     "data": {
      "text/plain": [
       "0"
      ]
     },
     "execution_count": 11,
     "metadata": {},
     "output_type": "execute_result"
    }
   ],
   "source": [
    "for col in data.columns :\n",
    "    if data[col].isnull().sum() > 0 :\n",
    "        data[col].fillna(data[col].mode()[0],inplace=True)\n",
    "data.isnull().sum().sum()"
   ]
  },
  {
   "cell_type": "markdown",
   "id": "5e631224-0e62-4e16-8b86-bdff6cd172de",
   "metadata": {},
   "source": [
    "### Imputing Dates"
   ]
  },
  {
   "cell_type": "code",
   "execution_count": 12,
   "id": "712a6227-e397-4a4b-954d-88d1f7a9a591",
   "metadata": {},
   "outputs": [],
   "source": [
    "date =['FirstRecordedCreditLine','DateCreditPulled','ListingCreationDate','ClosedDate','LoanOriginationDate']\n",
    "# convert date columns from object to datetime \n",
    "for i in date:\n",
    "    #to get ride of time convert data to datetime\n",
    "    data[i]=pd.to_datetime(data[i])\n",
    "    data[i]=data[i].dt.date  # datatype=object\n",
    "    # split each coloumn to year month day then delet it \n",
    "    data[f'{i}_year']= pd.DatetimeIndex(data[f'{i}']).year\n",
    "    data[f'{i}_month']= pd.DatetimeIndex(data[f'{i}']).month\n",
    "    data[f'{i}_day']= pd.DatetimeIndex(data[f'{i}']).day\n",
    "    del(data[f'{i}'])"
   ]
  },
  {
   "cell_type": "markdown",
   "id": "4b002f25-ca3c-4063-8e08-bf9060ae8ec3",
   "metadata": {},
   "source": [
    "### Detecting Outliers"
   ]
  },
  {
   "cell_type": "code",
   "execution_count": 13,
   "id": "64235248-e9d4-4574-addb-c2e4e7d327db",
   "metadata": {},
   "outputs": [
    {
     "name": "stderr",
     "output_type": "stream",
     "text": [
      "c:\\users\\alaa_\\appdata\\local\\programs\\python\\python39\\lib\\site-packages\\pandas\\core\\indexing.py:1732: SettingWithCopyWarning: \n",
      "A value is trying to be set on a copy of a slice from a DataFrame\n",
      "\n",
      "See the caveats in the documentation: https://pandas.pydata.org/pandas-docs/stable/user_guide/indexing.html#returning-a-view-versus-a-copy\n",
      "  self._setitem_single_block(indexer, value, name)\n"
     ]
    }
   ],
   "source": [
    "for col in data.columns:\n",
    "        if (((data[col].dtype)=='float64') | ((data[col].dtype)=='int64')):\n",
    "            percentiles = data[col].quantile([0.25,0.75]).values\n",
    "            iqr = percentiles[1] - percentiles[0]\n",
    "            lower_bound = percentiles[0] -(1.5 * iqr) \n",
    "            upper_bound = percentiles[1] +(1.5 * iqr)\n",
    "            data[col].loc[data[col] < lower_bound] = lower_bound\n",
    "            data[col].loc[data[col] > upper_bound] = upper_bound\n",
    "        else:\n",
    "            data[col]=data[col]"
   ]
  },
  {
   "cell_type": "markdown",
   "id": "c7a0a17e-c202-40ff-ae06-f5a989fb3af4",
   "metadata": {},
   "source": [
    "### Imputing Target Value"
   ]
  },
  {
   "cell_type": "code",
   "execution_count": 14,
   "id": "f22f276b-dd18-48b1-a4df-43e9afb1eef0",
   "metadata": {},
   "outputs": [],
   "source": [
    "def target_handling(row): \n",
    "    if row == 'Completed':\n",
    "        return 1\n",
    "    else:\n",
    "        return 0\n",
    "\n",
    "data['Status'] = data['LoanStatus'].apply(target_handling)\n",
    "data.drop('LoanStatus',axis=1,inplace=True)"
   ]
  },
  {
   "cell_type": "markdown",
   "id": "45b27745-d72a-4514-9b5b-8f434d1381f7",
   "metadata": {},
   "source": [
    "### Encoding "
   ]
  },
  {
   "cell_type": "code",
   "execution_count": 15,
   "id": "1b403017-8181-433a-9fca-5783cc406c86",
   "metadata": {},
   "outputs": [
    {
     "data": {
      "text/plain": [
       "CreditGrade                8\n",
       "BorrowerState             51\n",
       "Occupation                67\n",
       "EmploymentStatus           8\n",
       "IncomeRange                8\n",
       "LoanOriginationQuarter    33\n",
       "dtype: int64"
      ]
     },
     "execution_count": 15,
     "metadata": {},
     "output_type": "execute_result"
    }
   ],
   "source": [
    "obj = data.select_dtypes('object')\n",
    "obj.nunique()"
   ]
  },
  {
   "cell_type": "code",
   "execution_count": 16,
   "id": "aa4af10d-d5d7-4061-9df4-0e6a7439f52b",
   "metadata": {},
   "outputs": [],
   "source": [
    "### one hot encoding\n",
    "dummies = pd.get_dummies(data[['CreditGrade', 'EmploymentStatus', 'IncomeRange','LoanOriginationQuarter']], drop_first=True)"
   ]
  },
  {
   "cell_type": "code",
   "execution_count": 17,
   "id": "3e1dc896-eaba-46e8-bd0a-7b301eeb8889",
   "metadata": {},
   "outputs": [],
   "source": [
    "## label enc\n",
    "le = LabelEncoder()\n",
    "data[['BorrowerState','Occupation']] = data[['BorrowerState','Occupation']].apply(le.fit_transform)"
   ]
  },
  {
   "cell_type": "code",
   "execution_count": 18,
   "id": "3dba07d5-a904-48ad-bfc6-1d3d1678f6b0",
   "metadata": {},
   "outputs": [],
   "source": [
    "data = pd.concat([data.drop(obj,axis=1),dummies],axis=1)"
   ]
  },
  {
   "cell_type": "code",
   "execution_count": 19,
   "id": "32d8928f-4971-490d-92a7-3302543ee37f",
   "metadata": {},
   "outputs": [
    {
     "data": {
      "text/html": [
       "<div>\n",
       "<style scoped>\n",
       "    .dataframe tbody tr th:only-of-type {\n",
       "        vertical-align: middle;\n",
       "    }\n",
       "\n",
       "    .dataframe tbody tr th {\n",
       "        vertical-align: top;\n",
       "    }\n",
       "\n",
       "    .dataframe thead th {\n",
       "        text-align: right;\n",
       "    }\n",
       "</style>\n",
       "<table border=\"1\" class=\"dataframe\">\n",
       "  <thead>\n",
       "    <tr style=\"text-align: right;\">\n",
       "      <th></th>\n",
       "    </tr>\n",
       "  </thead>\n",
       "  <tbody>\n",
       "    <tr>\n",
       "      <th>0</th>\n",
       "    </tr>\n",
       "    <tr>\n",
       "      <th>1</th>\n",
       "    </tr>\n",
       "    <tr>\n",
       "      <th>2</th>\n",
       "    </tr>\n",
       "    <tr>\n",
       "      <th>3</th>\n",
       "    </tr>\n",
       "    <tr>\n",
       "      <th>4</th>\n",
       "    </tr>\n",
       "    <tr>\n",
       "      <th>...</th>\n",
       "    </tr>\n",
       "    <tr>\n",
       "      <th>113932</th>\n",
       "    </tr>\n",
       "    <tr>\n",
       "      <th>113933</th>\n",
       "    </tr>\n",
       "    <tr>\n",
       "      <th>113934</th>\n",
       "    </tr>\n",
       "    <tr>\n",
       "      <th>113935</th>\n",
       "    </tr>\n",
       "    <tr>\n",
       "      <th>113936</th>\n",
       "    </tr>\n",
       "  </tbody>\n",
       "</table>\n",
       "<p>113937 rows × 0 columns</p>\n",
       "</div>"
      ],
      "text/plain": [
       "Empty DataFrame\n",
       "Columns: []\n",
       "Index: [0, 1, 2, 3, 4, 5, 6, 7, 8, 9, 10, 11, 12, 13, 14, 15, 16, 17, 18, 19, 20, 21, 22, 23, 24, 25, 26, 27, 28, 29, 30, 31, 32, 33, 34, 35, 36, 37, 38, 39, 40, 41, 42, 43, 44, 45, 46, 47, 48, 49, 50, 51, 52, 53, 54, 55, 56, 57, 58, 59, 60, 61, 62, 63, 64, 65, 66, 67, 68, 69, 70, 71, 72, 73, 74, 75, 76, 77, 78, 79, 80, 81, 82, 83, 84, 85, 86, 87, 88, 89, 90, 91, 92, 93, 94, 95, 96, 97, 98, 99, ...]\n",
       "\n",
       "[113937 rows x 0 columns]"
      ]
     },
     "execution_count": 19,
     "metadata": {},
     "output_type": "execute_result"
    }
   ],
   "source": [
    "data.select_dtypes('object')"
   ]
  },
  {
   "cell_type": "code",
   "execution_count": 20,
   "id": "04b0cd8f-3352-4d55-856f-0fa306e65f87",
   "metadata": {},
   "outputs": [
    {
     "data": {
      "text/html": [
       "<div>\n",
       "<style scoped>\n",
       "    .dataframe tbody tr th:only-of-type {\n",
       "        vertical-align: middle;\n",
       "    }\n",
       "\n",
       "    .dataframe tbody tr th {\n",
       "        vertical-align: top;\n",
       "    }\n",
       "\n",
       "    .dataframe thead th {\n",
       "        text-align: right;\n",
       "    }\n",
       "</style>\n",
       "<table border=\"1\" class=\"dataframe\">\n",
       "  <thead>\n",
       "    <tr style=\"text-align: right;\">\n",
       "      <th></th>\n",
       "      <th>Term</th>\n",
       "      <th>BorrowerAPR</th>\n",
       "      <th>BorrowerRate</th>\n",
       "      <th>LenderYield</th>\n",
       "      <th>EstimatedEffectiveYield</th>\n",
       "      <th>EstimatedLoss</th>\n",
       "      <th>EstimatedReturn</th>\n",
       "      <th>ProsperScore</th>\n",
       "      <th>ListingCategory (numeric)</th>\n",
       "      <th>EmploymentStatusDuration</th>\n",
       "      <th>...</th>\n",
       "      <th>LoanOriginationQuarter_Q3 2013</th>\n",
       "      <th>LoanOriginationQuarter_Q4 2005</th>\n",
       "      <th>LoanOriginationQuarter_Q4 2006</th>\n",
       "      <th>LoanOriginationQuarter_Q4 2007</th>\n",
       "      <th>LoanOriginationQuarter_Q4 2008</th>\n",
       "      <th>LoanOriginationQuarter_Q4 2009</th>\n",
       "      <th>LoanOriginationQuarter_Q4 2010</th>\n",
       "      <th>LoanOriginationQuarter_Q4 2011</th>\n",
       "      <th>LoanOriginationQuarter_Q4 2012</th>\n",
       "      <th>LoanOriginationQuarter_Q4 2013</th>\n",
       "    </tr>\n",
       "  </thead>\n",
       "  <tbody>\n",
       "    <tr>\n",
       "      <th>0</th>\n",
       "      <td>36</td>\n",
       "      <td>0.16516</td>\n",
       "      <td>0.1580</td>\n",
       "      <td>0.1380</td>\n",
       "      <td>0.16150</td>\n",
       "      <td>0.0724</td>\n",
       "      <td>0.09170</td>\n",
       "      <td>6.0</td>\n",
       "      <td>0</td>\n",
       "      <td>2.0</td>\n",
       "      <td>...</td>\n",
       "      <td>0</td>\n",
       "      <td>0</td>\n",
       "      <td>0</td>\n",
       "      <td>0</td>\n",
       "      <td>0</td>\n",
       "      <td>0</td>\n",
       "      <td>0</td>\n",
       "      <td>0</td>\n",
       "      <td>0</td>\n",
       "      <td>0</td>\n",
       "    </tr>\n",
       "    <tr>\n",
       "      <th>1</th>\n",
       "      <td>36</td>\n",
       "      <td>0.12016</td>\n",
       "      <td>0.0920</td>\n",
       "      <td>0.0820</td>\n",
       "      <td>0.07960</td>\n",
       "      <td>0.0249</td>\n",
       "      <td>0.05470</td>\n",
       "      <td>7.0</td>\n",
       "      <td>2</td>\n",
       "      <td>44.0</td>\n",
       "      <td>...</td>\n",
       "      <td>0</td>\n",
       "      <td>0</td>\n",
       "      <td>0</td>\n",
       "      <td>0</td>\n",
       "      <td>0</td>\n",
       "      <td>0</td>\n",
       "      <td>0</td>\n",
       "      <td>0</td>\n",
       "      <td>0</td>\n",
       "      <td>0</td>\n",
       "    </tr>\n",
       "    <tr>\n",
       "      <th>2</th>\n",
       "      <td>36</td>\n",
       "      <td>0.28269</td>\n",
       "      <td>0.2750</td>\n",
       "      <td>0.2400</td>\n",
       "      <td>0.16150</td>\n",
       "      <td>0.0724</td>\n",
       "      <td>0.09170</td>\n",
       "      <td>6.0</td>\n",
       "      <td>0</td>\n",
       "      <td>67.0</td>\n",
       "      <td>...</td>\n",
       "      <td>0</td>\n",
       "      <td>0</td>\n",
       "      <td>0</td>\n",
       "      <td>0</td>\n",
       "      <td>0</td>\n",
       "      <td>0</td>\n",
       "      <td>0</td>\n",
       "      <td>0</td>\n",
       "      <td>0</td>\n",
       "      <td>0</td>\n",
       "    </tr>\n",
       "    <tr>\n",
       "      <th>3</th>\n",
       "      <td>36</td>\n",
       "      <td>0.12528</td>\n",
       "      <td>0.0974</td>\n",
       "      <td>0.0874</td>\n",
       "      <td>0.08490</td>\n",
       "      <td>0.0249</td>\n",
       "      <td>0.06000</td>\n",
       "      <td>9.0</td>\n",
       "      <td>6</td>\n",
       "      <td>113.0</td>\n",
       "      <td>...</td>\n",
       "      <td>0</td>\n",
       "      <td>0</td>\n",
       "      <td>0</td>\n",
       "      <td>0</td>\n",
       "      <td>0</td>\n",
       "      <td>0</td>\n",
       "      <td>0</td>\n",
       "      <td>0</td>\n",
       "      <td>1</td>\n",
       "      <td>0</td>\n",
       "    </tr>\n",
       "    <tr>\n",
       "      <th>4</th>\n",
       "      <td>36</td>\n",
       "      <td>0.24614</td>\n",
       "      <td>0.2085</td>\n",
       "      <td>0.1985</td>\n",
       "      <td>0.18316</td>\n",
       "      <td>0.0925</td>\n",
       "      <td>0.09066</td>\n",
       "      <td>4.0</td>\n",
       "      <td>2</td>\n",
       "      <td>44.0</td>\n",
       "      <td>...</td>\n",
       "      <td>1</td>\n",
       "      <td>0</td>\n",
       "      <td>0</td>\n",
       "      <td>0</td>\n",
       "      <td>0</td>\n",
       "      <td>0</td>\n",
       "      <td>0</td>\n",
       "      <td>0</td>\n",
       "      <td>0</td>\n",
       "      <td>0</td>\n",
       "    </tr>\n",
       "    <tr>\n",
       "      <th>...</th>\n",
       "      <td>...</td>\n",
       "      <td>...</td>\n",
       "      <td>...</td>\n",
       "      <td>...</td>\n",
       "      <td>...</td>\n",
       "      <td>...</td>\n",
       "      <td>...</td>\n",
       "      <td>...</td>\n",
       "      <td>...</td>\n",
       "      <td>...</td>\n",
       "      <td>...</td>\n",
       "      <td>...</td>\n",
       "      <td>...</td>\n",
       "      <td>...</td>\n",
       "      <td>...</td>\n",
       "      <td>...</td>\n",
       "      <td>...</td>\n",
       "      <td>...</td>\n",
       "      <td>...</td>\n",
       "      <td>...</td>\n",
       "      <td>...</td>\n",
       "    </tr>\n",
       "    <tr>\n",
       "      <th>113932</th>\n",
       "      <td>36</td>\n",
       "      <td>0.22354</td>\n",
       "      <td>0.1864</td>\n",
       "      <td>0.1764</td>\n",
       "      <td>0.16490</td>\n",
       "      <td>0.0699</td>\n",
       "      <td>0.09500</td>\n",
       "      <td>5.0</td>\n",
       "      <td>1</td>\n",
       "      <td>246.0</td>\n",
       "      <td>...</td>\n",
       "      <td>0</td>\n",
       "      <td>0</td>\n",
       "      <td>0</td>\n",
       "      <td>0</td>\n",
       "      <td>0</td>\n",
       "      <td>0</td>\n",
       "      <td>0</td>\n",
       "      <td>0</td>\n",
       "      <td>0</td>\n",
       "      <td>0</td>\n",
       "    </tr>\n",
       "    <tr>\n",
       "      <th>113933</th>\n",
       "      <td>36</td>\n",
       "      <td>0.13220</td>\n",
       "      <td>0.1110</td>\n",
       "      <td>0.1010</td>\n",
       "      <td>0.10070</td>\n",
       "      <td>0.0200</td>\n",
       "      <td>0.08070</td>\n",
       "      <td>8.0</td>\n",
       "      <td>6</td>\n",
       "      <td>21.0</td>\n",
       "      <td>...</td>\n",
       "      <td>0</td>\n",
       "      <td>0</td>\n",
       "      <td>0</td>\n",
       "      <td>0</td>\n",
       "      <td>0</td>\n",
       "      <td>0</td>\n",
       "      <td>0</td>\n",
       "      <td>1</td>\n",
       "      <td>0</td>\n",
       "      <td>0</td>\n",
       "    </tr>\n",
       "    <tr>\n",
       "      <th>113934</th>\n",
       "      <td>36</td>\n",
       "      <td>0.23984</td>\n",
       "      <td>0.2150</td>\n",
       "      <td>0.2050</td>\n",
       "      <td>0.18828</td>\n",
       "      <td>0.1025</td>\n",
       "      <td>0.08578</td>\n",
       "      <td>3.0</td>\n",
       "      <td>1</td>\n",
       "      <td>84.0</td>\n",
       "      <td>...</td>\n",
       "      <td>0</td>\n",
       "      <td>0</td>\n",
       "      <td>0</td>\n",
       "      <td>0</td>\n",
       "      <td>0</td>\n",
       "      <td>0</td>\n",
       "      <td>0</td>\n",
       "      <td>0</td>\n",
       "      <td>0</td>\n",
       "      <td>1</td>\n",
       "    </tr>\n",
       "    <tr>\n",
       "      <th>113935</th>\n",
       "      <td>36</td>\n",
       "      <td>0.28408</td>\n",
       "      <td>0.2605</td>\n",
       "      <td>0.2505</td>\n",
       "      <td>0.24450</td>\n",
       "      <td>0.0850</td>\n",
       "      <td>0.15142</td>\n",
       "      <td>5.0</td>\n",
       "      <td>2</td>\n",
       "      <td>94.0</td>\n",
       "      <td>...</td>\n",
       "      <td>0</td>\n",
       "      <td>0</td>\n",
       "      <td>0</td>\n",
       "      <td>0</td>\n",
       "      <td>0</td>\n",
       "      <td>0</td>\n",
       "      <td>0</td>\n",
       "      <td>1</td>\n",
       "      <td>0</td>\n",
       "      <td>0</td>\n",
       "    </tr>\n",
       "    <tr>\n",
       "      <th>113936</th>\n",
       "      <td>36</td>\n",
       "      <td>0.13189</td>\n",
       "      <td>0.1039</td>\n",
       "      <td>0.0939</td>\n",
       "      <td>0.09071</td>\n",
       "      <td>0.0299</td>\n",
       "      <td>0.06081</td>\n",
       "      <td>7.0</td>\n",
       "      <td>1</td>\n",
       "      <td>244.0</td>\n",
       "      <td>...</td>\n",
       "      <td>0</td>\n",
       "      <td>0</td>\n",
       "      <td>0</td>\n",
       "      <td>0</td>\n",
       "      <td>0</td>\n",
       "      <td>0</td>\n",
       "      <td>0</td>\n",
       "      <td>0</td>\n",
       "      <td>0</td>\n",
       "      <td>0</td>\n",
       "    </tr>\n",
       "  </tbody>\n",
       "</table>\n",
       "<p>113937 rows × 121 columns</p>\n",
       "</div>"
      ],
      "text/plain": [
       "        Term  BorrowerAPR  BorrowerRate  LenderYield  EstimatedEffectiveYield  \\\n",
       "0         36      0.16516        0.1580       0.1380                  0.16150   \n",
       "1         36      0.12016        0.0920       0.0820                  0.07960   \n",
       "2         36      0.28269        0.2750       0.2400                  0.16150   \n",
       "3         36      0.12528        0.0974       0.0874                  0.08490   \n",
       "4         36      0.24614        0.2085       0.1985                  0.18316   \n",
       "...      ...          ...           ...          ...                      ...   \n",
       "113932    36      0.22354        0.1864       0.1764                  0.16490   \n",
       "113933    36      0.13220        0.1110       0.1010                  0.10070   \n",
       "113934    36      0.23984        0.2150       0.2050                  0.18828   \n",
       "113935    36      0.28408        0.2605       0.2505                  0.24450   \n",
       "113936    36      0.13189        0.1039       0.0939                  0.09071   \n",
       "\n",
       "        EstimatedLoss  EstimatedReturn  ProsperScore  \\\n",
       "0              0.0724          0.09170           6.0   \n",
       "1              0.0249          0.05470           7.0   \n",
       "2              0.0724          0.09170           6.0   \n",
       "3              0.0249          0.06000           9.0   \n",
       "4              0.0925          0.09066           4.0   \n",
       "...               ...              ...           ...   \n",
       "113932         0.0699          0.09500           5.0   \n",
       "113933         0.0200          0.08070           8.0   \n",
       "113934         0.1025          0.08578           3.0   \n",
       "113935         0.0850          0.15142           5.0   \n",
       "113936         0.0299          0.06081           7.0   \n",
       "\n",
       "        ListingCategory (numeric)  EmploymentStatusDuration  ...  \\\n",
       "0                               0                       2.0  ...   \n",
       "1                               2                      44.0  ...   \n",
       "2                               0                      67.0  ...   \n",
       "3                               6                     113.0  ...   \n",
       "4                               2                      44.0  ...   \n",
       "...                           ...                       ...  ...   \n",
       "113932                          1                     246.0  ...   \n",
       "113933                          6                      21.0  ...   \n",
       "113934                          1                      84.0  ...   \n",
       "113935                          2                      94.0  ...   \n",
       "113936                          1                     244.0  ...   \n",
       "\n",
       "        LoanOriginationQuarter_Q3 2013  LoanOriginationQuarter_Q4 2005  \\\n",
       "0                                    0                               0   \n",
       "1                                    0                               0   \n",
       "2                                    0                               0   \n",
       "3                                    0                               0   \n",
       "4                                    1                               0   \n",
       "...                                ...                             ...   \n",
       "113932                               0                               0   \n",
       "113933                               0                               0   \n",
       "113934                               0                               0   \n",
       "113935                               0                               0   \n",
       "113936                               0                               0   \n",
       "\n",
       "        LoanOriginationQuarter_Q4 2006  LoanOriginationQuarter_Q4 2007  \\\n",
       "0                                    0                               0   \n",
       "1                                    0                               0   \n",
       "2                                    0                               0   \n",
       "3                                    0                               0   \n",
       "4                                    0                               0   \n",
       "...                                ...                             ...   \n",
       "113932                               0                               0   \n",
       "113933                               0                               0   \n",
       "113934                               0                               0   \n",
       "113935                               0                               0   \n",
       "113936                               0                               0   \n",
       "\n",
       "        LoanOriginationQuarter_Q4 2008  LoanOriginationQuarter_Q4 2009  \\\n",
       "0                                    0                               0   \n",
       "1                                    0                               0   \n",
       "2                                    0                               0   \n",
       "3                                    0                               0   \n",
       "4                                    0                               0   \n",
       "...                                ...                             ...   \n",
       "113932                               0                               0   \n",
       "113933                               0                               0   \n",
       "113934                               0                               0   \n",
       "113935                               0                               0   \n",
       "113936                               0                               0   \n",
       "\n",
       "        LoanOriginationQuarter_Q4 2010  LoanOriginationQuarter_Q4 2011  \\\n",
       "0                                    0                               0   \n",
       "1                                    0                               0   \n",
       "2                                    0                               0   \n",
       "3                                    0                               0   \n",
       "4                                    0                               0   \n",
       "...                                ...                             ...   \n",
       "113932                               0                               0   \n",
       "113933                               0                               1   \n",
       "113934                               0                               0   \n",
       "113935                               0                               1   \n",
       "113936                               0                               0   \n",
       "\n",
       "        LoanOriginationQuarter_Q4 2012  LoanOriginationQuarter_Q4 2013  \n",
       "0                                    0                               0  \n",
       "1                                    0                               0  \n",
       "2                                    0                               0  \n",
       "3                                    1                               0  \n",
       "4                                    0                               0  \n",
       "...                                ...                             ...  \n",
       "113932                               0                               0  \n",
       "113933                               0                               0  \n",
       "113934                               0                               1  \n",
       "113935                               0                               0  \n",
       "113936                               0                               0  \n",
       "\n",
       "[113937 rows x 121 columns]"
      ]
     },
     "execution_count": 20,
     "metadata": {},
     "output_type": "execute_result"
    }
   ],
   "source": [
    "data"
   ]
  },
  {
   "cell_type": "markdown",
   "id": "6e055145-4bef-4868-b763-cbe94c560714",
   "metadata": {},
   "source": [
    "### Feature Selection"
   ]
  },
  {
   "cell_type": "code",
   "execution_count": 21,
   "id": "eb7003a2-7edd-4305-bdf8-71047887fe1e",
   "metadata": {},
   "outputs": [],
   "source": [
    "corrlation = data.corrwith(data['Status']).sort_values(ascending = False)\n",
    "sel_col = corrlation[(corrlation > 0.2) | (corrlation < -0.2)]\n",
    "sel_col.drop('Status',inplace=True)"
   ]
  },
  {
   "cell_type": "code",
   "execution_count": 22,
   "id": "9a6f9b9c-89e6-4d0d-abf9-51bdcc4aad78",
   "metadata": {},
   "outputs": [
    {
     "data": {
      "text/plain": [
       "LP_CustomerPrincipalPayments      0.598982\n",
       "LoanMonthsSinceOrigination        0.510850\n",
       "LP_CustomerPayments               0.495638\n",
       "ClosedDate_day                    0.490288\n",
       "ClosedDate_month                  0.402958\n",
       "EmploymentStatus_Full-time        0.379045\n",
       "Investors                         0.209813\n",
       "MonthlyLoanPayment               -0.211909\n",
       "LoanOriginationQuarter_Q1 2014   -0.240852\n",
       "LoanOriginalAmount               -0.246836\n",
       "LoanOriginationQuarter_Q4 2013   -0.248185\n",
       "ClosedDate_year                  -0.465317\n",
       "DateCreditPulled_year            -0.507319\n",
       "LoanOriginationDate_year         -0.508132\n",
       "ListingCreationDate_year         -0.508645\n",
       "dtype: float64"
      ]
     },
     "execution_count": 22,
     "metadata": {},
     "output_type": "execute_result"
    }
   ],
   "source": [
    "sel_col"
   ]
  },
  {
   "cell_type": "code",
   "execution_count": 23,
   "id": "00e0958c-af85-46a3-a77b-673a7d32ecb7",
   "metadata": {},
   "outputs": [],
   "source": [
    "data_copy = data.drop(sel_col.index,axis=1)"
   ]
  },
  {
   "cell_type": "markdown",
   "id": "8b238819-a26f-4963-ac6e-1394fa516500",
   "metadata": {},
   "source": [
    "#### Feature Extraction\n",
    "\n",
    "Normalization and PCA"
   ]
  },
  {
   "cell_type": "code",
   "execution_count": 24,
   "id": "30ae8270-400e-4656-b150-a34b57a67267",
   "metadata": {},
   "outputs": [],
   "source": [
    "from sklearn.preprocessing import Normalizer\n",
    "scaler = Normalizer()\n",
    "data_copy = scaler.fit_transform(data_copy)"
   ]
  },
  {
   "cell_type": "code",
   "execution_count": 25,
   "id": "963e9383-faaa-4fc3-9735-2d7e9faf0ed8",
   "metadata": {},
   "outputs": [],
   "source": [
    "from sklearn.decomposition import PCA\n",
    "pca = PCA(n_components=5)\n",
    "data_copy_out = pca.fit_transform(data_copy)"
   ]
  },
  {
   "cell_type": "code",
   "execution_count": 26,
   "id": "4920b8b2-7b0e-4145-9f4f-3eb94819ba12",
   "metadata": {},
   "outputs": [
    {
     "data": {
      "text/plain": [
       "(113937, 5)"
      ]
     },
     "execution_count": 26,
     "metadata": {},
     "output_type": "execute_result"
    }
   ],
   "source": [
    "data_copy_out.shape"
   ]
  },
  {
   "cell_type": "code",
   "execution_count": 27,
   "id": "67248569-1280-4e5d-902c-22f911594b35",
   "metadata": {},
   "outputs": [
    {
     "data": {
      "text/plain": [
       "array([0.46135327, 0.42102229, 0.06439477, 0.0267006 , 0.02568215])"
      ]
     },
     "execution_count": 27,
     "metadata": {},
     "output_type": "execute_result"
    }
   ],
   "source": [
    "pca.explained_variance_ratio_"
   ]
  },
  {
   "cell_type": "code",
   "execution_count": 28,
   "id": "5303ee4d-202f-4a4a-9835-82ae3ac85760",
   "metadata": {},
   "outputs": [],
   "source": [
    "pca_data = pd.DataFrame(data=data_copy_out,columns=['col1','col2','col3','col4','col5'])"
   ]
  },
  {
   "cell_type": "code",
   "execution_count": 29,
   "id": "f85188af-c603-43ba-ba22-6ee7ee0e1d98",
   "metadata": {},
   "outputs": [],
   "source": [
    "new_data = pd.concat([data[sel_col.index],pca_data],axis=1)"
   ]
  },
  {
   "cell_type": "code",
   "execution_count": 30,
   "id": "ea5bd835-4df1-4e2f-8466-ffbdff100f82",
   "metadata": {},
   "outputs": [
    {
     "data": {
      "text/html": [
       "<div>\n",
       "<style scoped>\n",
       "    .dataframe tbody tr th:only-of-type {\n",
       "        vertical-align: middle;\n",
       "    }\n",
       "\n",
       "    .dataframe tbody tr th {\n",
       "        vertical-align: top;\n",
       "    }\n",
       "\n",
       "    .dataframe thead th {\n",
       "        text-align: right;\n",
       "    }\n",
       "</style>\n",
       "<table border=\"1\" class=\"dataframe\">\n",
       "  <thead>\n",
       "    <tr style=\"text-align: right;\">\n",
       "      <th></th>\n",
       "      <th>LP_CustomerPrincipalPayments</th>\n",
       "      <th>LoanMonthsSinceOrigination</th>\n",
       "      <th>LP_CustomerPayments</th>\n",
       "      <th>ClosedDate_day</th>\n",
       "      <th>ClosedDate_month</th>\n",
       "      <th>EmploymentStatus_Full-time</th>\n",
       "      <th>Investors</th>\n",
       "      <th>MonthlyLoanPayment</th>\n",
       "      <th>LoanOriginationQuarter_Q1 2014</th>\n",
       "      <th>LoanOriginalAmount</th>\n",
       "      <th>LoanOriginationQuarter_Q4 2013</th>\n",
       "      <th>ClosedDate_year</th>\n",
       "      <th>DateCreditPulled_year</th>\n",
       "      <th>LoanOriginationDate_year</th>\n",
       "      <th>ListingCreationDate_year</th>\n",
       "      <th>col1</th>\n",
       "      <th>col2</th>\n",
       "      <th>col3</th>\n",
       "      <th>col4</th>\n",
       "      <th>col5</th>\n",
       "    </tr>\n",
       "  </thead>\n",
       "  <tbody>\n",
       "    <tr>\n",
       "      <th>0</th>\n",
       "      <td>9248.665</td>\n",
       "      <td>78.0</td>\n",
       "      <td>11396.1400</td>\n",
       "      <td>14</td>\n",
       "      <td>8.0</td>\n",
       "      <td>0</td>\n",
       "      <td>258.0</td>\n",
       "      <td>330.43</td>\n",
       "      <td>0</td>\n",
       "      <td>9425</td>\n",
       "      <td>0</td>\n",
       "      <td>2009.0</td>\n",
       "      <td>2007.0</td>\n",
       "      <td>2007.0</td>\n",
       "      <td>2007.0</td>\n",
       "      <td>0.709912</td>\n",
       "      <td>-0.278916</td>\n",
       "      <td>0.192722</td>\n",
       "      <td>-0.121120</td>\n",
       "      <td>0.160290</td>\n",
       "    </tr>\n",
       "    <tr>\n",
       "      <th>1</th>\n",
       "      <td>0.000</td>\n",
       "      <td>0.0</td>\n",
       "      <td>0.0000</td>\n",
       "      <td>4</td>\n",
       "      <td>3.0</td>\n",
       "      <td>0</td>\n",
       "      <td>1.0</td>\n",
       "      <td>318.93</td>\n",
       "      <td>1</td>\n",
       "      <td>10000</td>\n",
       "      <td>0</td>\n",
       "      <td>2014.0</td>\n",
       "      <td>2014.0</td>\n",
       "      <td>2014.0</td>\n",
       "      <td>2014.0</td>\n",
       "      <td>0.388572</td>\n",
       "      <td>0.329822</td>\n",
       "      <td>-0.133688</td>\n",
       "      <td>-0.002813</td>\n",
       "      <td>-0.070494</td>\n",
       "    </tr>\n",
       "    <tr>\n",
       "      <th>2</th>\n",
       "      <td>3001.000</td>\n",
       "      <td>86.0</td>\n",
       "      <td>4186.6300</td>\n",
       "      <td>17</td>\n",
       "      <td>10.5</td>\n",
       "      <td>0</td>\n",
       "      <td>41.0</td>\n",
       "      <td>123.32</td>\n",
       "      <td>0</td>\n",
       "      <td>3001</td>\n",
       "      <td>0</td>\n",
       "      <td>2009.0</td>\n",
       "      <td>2007.0</td>\n",
       "      <td>2007.0</td>\n",
       "      <td>2007.0</td>\n",
       "      <td>-0.261381</td>\n",
       "      <td>0.099155</td>\n",
       "      <td>0.093808</td>\n",
       "      <td>-0.082823</td>\n",
       "      <td>-0.024337</td>\n",
       "    </tr>\n",
       "    <tr>\n",
       "      <th>3</th>\n",
       "      <td>4091.090</td>\n",
       "      <td>16.0</td>\n",
       "      <td>5143.2000</td>\n",
       "      <td>4</td>\n",
       "      <td>3.0</td>\n",
       "      <td>0</td>\n",
       "      <td>158.0</td>\n",
       "      <td>321.45</td>\n",
       "      <td>0</td>\n",
       "      <td>10000</td>\n",
       "      <td>0</td>\n",
       "      <td>2014.0</td>\n",
       "      <td>2012.0</td>\n",
       "      <td>2012.0</td>\n",
       "      <td>2012.0</td>\n",
       "      <td>0.500570</td>\n",
       "      <td>0.700750</td>\n",
       "      <td>0.092471</td>\n",
       "      <td>0.166378</td>\n",
       "      <td>0.098338</td>\n",
       "    </tr>\n",
       "    <tr>\n",
       "      <th>4</th>\n",
       "      <td>1563.220</td>\n",
       "      <td>6.0</td>\n",
       "      <td>2819.8500</td>\n",
       "      <td>4</td>\n",
       "      <td>3.0</td>\n",
       "      <td>0</td>\n",
       "      <td>20.0</td>\n",
       "      <td>563.97</td>\n",
       "      <td>0</td>\n",
       "      <td>15000</td>\n",
       "      <td>0</td>\n",
       "      <td>2014.0</td>\n",
       "      <td>2013.0</td>\n",
       "      <td>2013.0</td>\n",
       "      <td>2013.0</td>\n",
       "      <td>0.138780</td>\n",
       "      <td>-0.470254</td>\n",
       "      <td>-0.225306</td>\n",
       "      <td>0.012392</td>\n",
       "      <td>0.048599</td>\n",
       "    </tr>\n",
       "    <tr>\n",
       "      <th>...</th>\n",
       "      <td>...</td>\n",
       "      <td>...</td>\n",
       "      <td>...</td>\n",
       "      <td>...</td>\n",
       "      <td>...</td>\n",
       "      <td>...</td>\n",
       "      <td>...</td>\n",
       "      <td>...</td>\n",
       "      <td>...</td>\n",
       "      <td>...</td>\n",
       "      <td>...</td>\n",
       "      <td>...</td>\n",
       "      <td>...</td>\n",
       "      <td>...</td>\n",
       "      <td>...</td>\n",
       "      <td>...</td>\n",
       "      <td>...</td>\n",
       "      <td>...</td>\n",
       "      <td>...</td>\n",
       "      <td>...</td>\n",
       "    </tr>\n",
       "    <tr>\n",
       "      <th>113932</th>\n",
       "      <td>2238.380</td>\n",
       "      <td>11.0</td>\n",
       "      <td>3647.4000</td>\n",
       "      <td>4</td>\n",
       "      <td>3.0</td>\n",
       "      <td>0</td>\n",
       "      <td>1.0</td>\n",
       "      <td>364.74</td>\n",
       "      <td>0</td>\n",
       "      <td>10000</td>\n",
       "      <td>0</td>\n",
       "      <td>2014.0</td>\n",
       "      <td>2013.0</td>\n",
       "      <td>2013.0</td>\n",
       "      <td>2013.0</td>\n",
       "      <td>-0.187160</td>\n",
       "      <td>-0.204899</td>\n",
       "      <td>-0.012440</td>\n",
       "      <td>-0.094262</td>\n",
       "      <td>-0.002076</td>\n",
       "    </tr>\n",
       "    <tr>\n",
       "      <th>113933</th>\n",
       "      <td>1997.160</td>\n",
       "      <td>28.0</td>\n",
       "      <td>2330.5500</td>\n",
       "      <td>4</td>\n",
       "      <td>3.0</td>\n",
       "      <td>0</td>\n",
       "      <td>22.0</td>\n",
       "      <td>65.57</td>\n",
       "      <td>0</td>\n",
       "      <td>2000</td>\n",
       "      <td>0</td>\n",
       "      <td>2014.0</td>\n",
       "      <td>2011.0</td>\n",
       "      <td>2011.0</td>\n",
       "      <td>2011.0</td>\n",
       "      <td>-0.207164</td>\n",
       "      <td>-0.016918</td>\n",
       "      <td>-0.129987</td>\n",
       "      <td>-0.024550</td>\n",
       "      <td>-0.039392</td>\n",
       "    </tr>\n",
       "    <tr>\n",
       "      <th>113934</th>\n",
       "      <td>183.150</td>\n",
       "      <td>3.0</td>\n",
       "      <td>546.7000</td>\n",
       "      <td>4</td>\n",
       "      <td>3.0</td>\n",
       "      <td>0</td>\n",
       "      <td>119.0</td>\n",
       "      <td>273.35</td>\n",
       "      <td>0</td>\n",
       "      <td>10000</td>\n",
       "      <td>1</td>\n",
       "      <td>2014.0</td>\n",
       "      <td>2013.0</td>\n",
       "      <td>2013.0</td>\n",
       "      <td>2013.0</td>\n",
       "      <td>-0.420789</td>\n",
       "      <td>0.118902</td>\n",
       "      <td>0.048847</td>\n",
       "      <td>0.046669</td>\n",
       "      <td>0.000266</td>\n",
       "    </tr>\n",
       "    <tr>\n",
       "      <th>113935</th>\n",
       "      <td>9248.665</td>\n",
       "      <td>28.0</td>\n",
       "      <td>12362.3600</td>\n",
       "      <td>13</td>\n",
       "      <td>8.0</td>\n",
       "      <td>1</td>\n",
       "      <td>274.0</td>\n",
       "      <td>449.55</td>\n",
       "      <td>0</td>\n",
       "      <td>15000</td>\n",
       "      <td>0</td>\n",
       "      <td>2013.0</td>\n",
       "      <td>2011.0</td>\n",
       "      <td>2011.0</td>\n",
       "      <td>2011.0</td>\n",
       "      <td>-0.276763</td>\n",
       "      <td>-0.026114</td>\n",
       "      <td>0.064938</td>\n",
       "      <td>-0.131403</td>\n",
       "      <td>0.097606</td>\n",
       "    </tr>\n",
       "    <tr>\n",
       "      <th>113936</th>\n",
       "      <td>47.250</td>\n",
       "      <td>2.0</td>\n",
       "      <td>64.3307</td>\n",
       "      <td>4</td>\n",
       "      <td>3.0</td>\n",
       "      <td>0</td>\n",
       "      <td>1.0</td>\n",
       "      <td>64.90</td>\n",
       "      <td>1</td>\n",
       "      <td>2000</td>\n",
       "      <td>0</td>\n",
       "      <td>2014.0</td>\n",
       "      <td>2014.0</td>\n",
       "      <td>2014.0</td>\n",
       "      <td>2014.0</td>\n",
       "      <td>-0.140889</td>\n",
       "      <td>-0.346435</td>\n",
       "      <td>-0.081703</td>\n",
       "      <td>0.025287</td>\n",
       "      <td>-0.103754</td>\n",
       "    </tr>\n",
       "  </tbody>\n",
       "</table>\n",
       "<p>113937 rows × 20 columns</p>\n",
       "</div>"
      ],
      "text/plain": [
       "        LP_CustomerPrincipalPayments  LoanMonthsSinceOrigination  \\\n",
       "0                           9248.665                        78.0   \n",
       "1                              0.000                         0.0   \n",
       "2                           3001.000                        86.0   \n",
       "3                           4091.090                        16.0   \n",
       "4                           1563.220                         6.0   \n",
       "...                              ...                         ...   \n",
       "113932                      2238.380                        11.0   \n",
       "113933                      1997.160                        28.0   \n",
       "113934                       183.150                         3.0   \n",
       "113935                      9248.665                        28.0   \n",
       "113936                        47.250                         2.0   \n",
       "\n",
       "        LP_CustomerPayments  ClosedDate_day  ClosedDate_month  \\\n",
       "0                11396.1400              14               8.0   \n",
       "1                    0.0000               4               3.0   \n",
       "2                 4186.6300              17              10.5   \n",
       "3                 5143.2000               4               3.0   \n",
       "4                 2819.8500               4               3.0   \n",
       "...                     ...             ...               ...   \n",
       "113932            3647.4000               4               3.0   \n",
       "113933            2330.5500               4               3.0   \n",
       "113934             546.7000               4               3.0   \n",
       "113935           12362.3600              13               8.0   \n",
       "113936              64.3307               4               3.0   \n",
       "\n",
       "        EmploymentStatus_Full-time  Investors  MonthlyLoanPayment  \\\n",
       "0                                0      258.0              330.43   \n",
       "1                                0        1.0              318.93   \n",
       "2                                0       41.0              123.32   \n",
       "3                                0      158.0              321.45   \n",
       "4                                0       20.0              563.97   \n",
       "...                            ...        ...                 ...   \n",
       "113932                           0        1.0              364.74   \n",
       "113933                           0       22.0               65.57   \n",
       "113934                           0      119.0              273.35   \n",
       "113935                           1      274.0              449.55   \n",
       "113936                           0        1.0               64.90   \n",
       "\n",
       "        LoanOriginationQuarter_Q1 2014  LoanOriginalAmount  \\\n",
       "0                                    0                9425   \n",
       "1                                    1               10000   \n",
       "2                                    0                3001   \n",
       "3                                    0               10000   \n",
       "4                                    0               15000   \n",
       "...                                ...                 ...   \n",
       "113932                               0               10000   \n",
       "113933                               0                2000   \n",
       "113934                               0               10000   \n",
       "113935                               0               15000   \n",
       "113936                               1                2000   \n",
       "\n",
       "        LoanOriginationQuarter_Q4 2013  ClosedDate_year  \\\n",
       "0                                    0           2009.0   \n",
       "1                                    0           2014.0   \n",
       "2                                    0           2009.0   \n",
       "3                                    0           2014.0   \n",
       "4                                    0           2014.0   \n",
       "...                                ...              ...   \n",
       "113932                               0           2014.0   \n",
       "113933                               0           2014.0   \n",
       "113934                               1           2014.0   \n",
       "113935                               0           2013.0   \n",
       "113936                               0           2014.0   \n",
       "\n",
       "        DateCreditPulled_year  LoanOriginationDate_year  \\\n",
       "0                      2007.0                    2007.0   \n",
       "1                      2014.0                    2014.0   \n",
       "2                      2007.0                    2007.0   \n",
       "3                      2012.0                    2012.0   \n",
       "4                      2013.0                    2013.0   \n",
       "...                       ...                       ...   \n",
       "113932                 2013.0                    2013.0   \n",
       "113933                 2011.0                    2011.0   \n",
       "113934                 2013.0                    2013.0   \n",
       "113935                 2011.0                    2011.0   \n",
       "113936                 2014.0                    2014.0   \n",
       "\n",
       "        ListingCreationDate_year      col1      col2      col3      col4  \\\n",
       "0                         2007.0  0.709912 -0.278916  0.192722 -0.121120   \n",
       "1                         2014.0  0.388572  0.329822 -0.133688 -0.002813   \n",
       "2                         2007.0 -0.261381  0.099155  0.093808 -0.082823   \n",
       "3                         2012.0  0.500570  0.700750  0.092471  0.166378   \n",
       "4                         2013.0  0.138780 -0.470254 -0.225306  0.012392   \n",
       "...                          ...       ...       ...       ...       ...   \n",
       "113932                    2013.0 -0.187160 -0.204899 -0.012440 -0.094262   \n",
       "113933                    2011.0 -0.207164 -0.016918 -0.129987 -0.024550   \n",
       "113934                    2013.0 -0.420789  0.118902  0.048847  0.046669   \n",
       "113935                    2011.0 -0.276763 -0.026114  0.064938 -0.131403   \n",
       "113936                    2014.0 -0.140889 -0.346435 -0.081703  0.025287   \n",
       "\n",
       "            col5  \n",
       "0       0.160290  \n",
       "1      -0.070494  \n",
       "2      -0.024337  \n",
       "3       0.098338  \n",
       "4       0.048599  \n",
       "...          ...  \n",
       "113932 -0.002076  \n",
       "113933 -0.039392  \n",
       "113934  0.000266  \n",
       "113935  0.097606  \n",
       "113936 -0.103754  \n",
       "\n",
       "[113937 rows x 20 columns]"
      ]
     },
     "execution_count": 30,
     "metadata": {},
     "output_type": "execute_result"
    }
   ],
   "source": [
    "new_data"
   ]
  },
  {
   "cell_type": "markdown",
   "id": "28215a15-7b31-47e6-8316-5ac3bd073ae4",
   "metadata": {},
   "source": [
    "## Modeling\n",
    "\n",
    "Note : multinominal naive bayes is feeded by the dataset without PCA "
   ]
  },
  {
   "cell_type": "code",
   "execution_count": 31,
   "id": "840e17ac-ad05-4bfe-9f38-0f7969834fd9",
   "metadata": {},
   "outputs": [],
   "source": [
    "X = new_data\n",
    "y= data['Status']"
   ]
  },
  {
   "cell_type": "code",
   "execution_count": 49,
   "id": "3905e1d2-4215-4458-8ad8-fae7c0c8b1ff",
   "metadata": {},
   "outputs": [],
   "source": [
    "X_nb = data[sel_col.index]\n",
    "y_nb= data['Status']"
   ]
  },
  {
   "cell_type": "code",
   "execution_count": 50,
   "id": "206c24e1-6414-4992-bf7a-7af544923333",
   "metadata": {},
   "outputs": [],
   "source": [
    "from imblearn.over_sampling import SMOTE\n",
    "smote = SMOTE(sampling_strategy='minority')\n",
    "X_smot,y_smot = smote.fit_resample(X,y)\n",
    "X_smot2,y_smot2 = smote.fit_resample(X_nb,y_nb)"
   ]
  },
  {
   "cell_type": "code",
   "execution_count": 51,
   "id": "a9ceb929-d07f-4786-87ce-6d2ad275965f",
   "metadata": {},
   "outputs": [],
   "source": [
    "## we did multi Train_test_split since multinomial naive bayes don't accept PCA values\n",
    "X_train2, X_test2, y_train2, y_test2 = train_test_split(X_smot2, y_smot2, test_size=0.33, random_state=52)"
   ]
  },
  {
   "cell_type": "code",
   "execution_count": 33,
   "id": "097fcd88-d0af-4f7e-8a92-96682209f1f5",
   "metadata": {},
   "outputs": [],
   "source": [
    "X_train, X_test, y_train, y_test = train_test_split(X_smot, y_smot, test_size=0.33, random_state=42)"
   ]
  },
  {
   "cell_type": "code",
   "execution_count": 34,
   "id": "99fd9e36-614b-4331-8803-ccf0b9c0abd1",
   "metadata": {
    "jupyter": {
     "source_hidden": true
    },
    "tags": []
   },
   "outputs": [],
   "source": [
    "# parms = {\n",
    "#     'C':[0.01, 0.1, 1],\n",
    "#     'solver': ['lbfgs', 'liblinear', 'sag'],     \n",
    "# }\n",
    "# LR = LogisticRegression() \n",
    "# clf = GridSearchCV(LR, parms)\n",
    "# clf.fit(X_train,y_train)\n",
    "\n",
    "# clf.best_params_"
   ]
  },
  {
   "cell_type": "code",
   "execution_count": 55,
   "id": "8eda6df0-9be7-442e-9bc2-8d79b1ae40d3",
   "metadata": {},
   "outputs": [
    {
     "name": "stderr",
     "output_type": "stream",
     "text": [
      "c:\\users\\alaa_\\appdata\\local\\programs\\python\\python39\\lib\\site-packages\\sklearn\\linear_model\\_sag.py:350: ConvergenceWarning: The max_iter was reached which means the coef_ did not converge\n",
      "  warnings.warn(\n"
     ]
    },
    {
     "data": {
      "text/plain": [
       "0.9478330337527462"
      ]
     },
     "execution_count": 55,
     "metadata": {},
     "output_type": "execute_result"
    }
   ],
   "source": [
    "clf = LogisticRegression(random_state=0,C=.01,solver='sag').fit(X_train, y_train)\n",
    "pred_log = clf.predict(X_test)\n",
    "logreg_train_score = pred_log.score(X_train,y_train)\n",
    "accuracy_score(y_test,pred_log)"
   ]
  },
  {
   "cell_type": "code",
   "execution_count": 36,
   "id": "ad8052ed-1d0f-4004-b4d7-05826405c21e",
   "metadata": {
    "jupyter": {
     "source_hidden": true
    },
    "tags": []
   },
   "outputs": [],
   "source": [
    "# from sklearn.linear_model import Perceptron\n",
    "# parms = {\n",
    "#     'alpha':[.1, 0.01, 0.001, .0001],\n",
    "#     'max_iter': [100, 200,500,1000],     \n",
    "# }\n",
    "# per = Perceptron() \n",
    "# clf = GridSearchCV(per, parms)\n",
    "# clf.fit(X_train,y_train)\n",
    "# clf.best_params_"
   ]
  },
  {
   "cell_type": "code",
   "execution_count": 112,
   "id": "ed314c16-2157-4c00-b5c8-4ef17a928745",
   "metadata": {},
   "outputs": [
    {
     "data": {
      "text/plain": [
       "0.9354104254044338"
      ]
     },
     "execution_count": 112,
     "metadata": {},
     "output_type": "execute_result"
    }
   ],
   "source": [
    "from sklearn.linear_model import Perceptron\n",
    "percp = Perceptron(alpha=.1,max_iter=100).fit(X_train,y_train)\n",
    "perd_perceptron = percp.predict(X_test)\n",
    "perc_train_score = percp.score(X_train,y_train)\n",
    "accuracy_score(y_test,perd_perceptron)"
   ]
  },
  {
   "cell_type": "code",
   "execution_count": 39,
   "id": "99b50db8-84ac-4e6f-b059-7b24446f60cf",
   "metadata": {},
   "outputs": [
    {
     "data": {
      "text/plain": [
       "0.9851408028759736"
      ]
     },
     "execution_count": 39,
     "metadata": {},
     "output_type": "execute_result"
    }
   ],
   "source": [
    "from sklearn.neural_network import MLPClassifier\n",
    "percp = MLPClassifier(hidden_layer_sizes=2,solver='adam').fit(X_train,y_train)\n",
    "mlp_pred = percp.predict(X_test)\n",
    "accuracy_score(y_test,mlp_pred)"
   ]
  },
  {
   "cell_type": "code",
   "execution_count": null,
   "id": "384d7e0e-7485-483e-8806-854021daa9b8",
   "metadata": {
    "jupyter": {
     "source_hidden": true
    },
    "tags": []
   },
   "outputs": [],
   "source": [
    "# criterion = ['gini', 'entropy']\n",
    "# max_depth = [2,4,6,8,10,12]\n",
    "# parameters = dict(criterion=criterion,max_depth=max_depth)\n",
    "# clf_GS = GridSearchCV(dt_cl, parameters)\n",
    "# clf_GS.fit(X_train,y_train)\n",
    "# print('Best Criterion:', clf_GS.best_estimator_.get_params()['criterion'])\n",
    "# print('Best max_depth:', clf_GS.best_estimator_.get_params()['max_depth'])"
   ]
  },
  {
   "cell_type": "code",
   "execution_count": 119,
   "id": "2fdf3d96-9b5e-491c-9a74-54662382c54d",
   "metadata": {},
   "outputs": [
    {
     "data": {
      "text/plain": [
       "0.9914919113241462"
      ]
     },
     "execution_count": 119,
     "metadata": {},
     "output_type": "execute_result"
    }
   ],
   "source": [
    "from sklearn import tree\n",
    "dt_cl = tree.DecisionTreeClassifier(criterion=\"entropy\",max_depth =10,min_samples_split=2,min_samples_leaf=1)\n",
    "dt_cl.fit(X_train,y_train)\n",
    "dt_pred = dt_cl.predict(X_test)\n",
    "dt_train_score = dt_cl.score(X_train,y_train)\n",
    "accuracy_score(y_test,dt_pred)"
   ]
  },
  {
   "cell_type": "code",
   "execution_count": 58,
   "id": "efda5177-34a4-4c41-bbfb-f288c60b5b6c",
   "metadata": {},
   "outputs": [
    {
     "data": {
      "text/plain": [
       "0.8896345116836429"
      ]
     },
     "execution_count": 58,
     "metadata": {},
     "output_type": "execute_result"
    }
   ],
   "source": [
    "from sklearn.naive_bayes import  MultinomialNB\n",
    "clf_Multi = MultinomialNB()\n",
    "clf_Multi.fit(X_train2,y_train2)\n",
    "prediction_multi=clf_Multi.predict(X_test2)\n",
    "multi_train_score = clf_Multi.score(X_train2,y_train2)\n",
    "accuracy_score(y_test2,prediction_multi)"
   ]
  },
  {
   "cell_type": "markdown",
   "id": "f71bfc69-20ed-4d1a-89b7-24933bfcad79",
   "metadata": {
    "tags": []
   },
   "source": [
    "### Models Evaluation\n",
    "\n",
    "##### confusion matrix"
   ]
  },
  {
   "cell_type": "code",
   "execution_count": 61,
   "id": "841cf666-fb27-4435-a279-f91d582b6488",
   "metadata": {},
   "outputs": [],
   "source": [
    "logreg_cm = confusion_matrix(y_test,pred_log)\n",
    "percep_cm = confusion_matrix(y_test,pred_perceptron)\n",
    "mlp_cm = confusion_matrix(y_test,mlp_pred)\n",
    "dt_cm = confusion_matrix(y_test,dt_pred)\n",
    "nv_cm = confusion_matrix(y_test,prediction_multi)\n"
   ]
  },
  {
   "cell_type": "code",
   "execution_count": 107,
   "id": "596dc12e-3645-4c10-893c-f1c97772587b",
   "metadata": {},
   "outputs": [],
   "source": [
    "cm_list = [logreg_cm,percep_cm,mlp_cm,dt_cm,nv_cm]\n",
    "cm_title = ['logreg_cm','percep_cm','mlp_cm','dt_cm','nv_cm']"
   ]
  },
  {
   "cell_type": "code",
   "execution_count": 108,
   "id": "49ea5db1-92ad-41e6-83c5-ed4dac72961f",
   "metadata": {},
   "outputs": [
    {
     "data": {
      "image/png": "[encoded data removed]",
      "text/plain": [
       "<Figure size 1080x216 with 5 Axes>"
      ]
     },
     "metadata": {
      "needs_background": "light"
     },
     "output_type": "display_data"
    }
   ],
   "source": [
    "f,ax = plt.subplots(1,5,sharey=True,figsize=(15,3))\n",
    "for i in range(0,len(cm_list)) :\n",
    "    cm_matrix = pd.DataFrame(data=cm_list[i], columns=['Actual Positive:1', 'Actual Negative:0'], \n",
    "                                     index=['Predict Positive:1', 'Predict Negative:0'])\n",
    "    g1 = sns.heatmap(cm_matrix,annot=True, fmt='d',cmap=\"YlGnBu\",cbar=False,ax=ax[i])\n",
    "    g1.set_title(cm_title[i])"
   ]
  },
  {
   "cell_type": "markdown",
   "id": "fbd243dc-75ed-438d-b297-6b39ec2585b9",
   "metadata": {},
   "source": [
    "##### Train & Test Scores"
   ]
  },
  {
   "cell_type": "code",
   "execution_count": 114,
   "id": "4970cd82-9a52-4972-ba10-2d4e007aa7de",
   "metadata": {},
   "outputs": [
    {
     "name": "stdout",
     "output_type": "stream",
     "text": [
      "perceptron\n",
      "Train score = 0.98636578263949 Test Score =0.9478330337527462\n"
     ]
    }
   ],
   "source": [
    "print('Logistic Regression')\n",
    "print(f'Train score = {logreg_train_score} Test Score ={accuracy_score(y_test,pred_log)}')"
   ]
  },
  {
   "cell_type": "code",
   "execution_count": 115,
   "id": "b6b4ce26-58b1-4012-a421-571521043150",
   "metadata": {},
   "outputs": [
    {
     "name": "stdout",
     "output_type": "stream",
     "text": [
      "perceptron\n",
      "Train score = 0.9385378138034154 Test Score =0.9354104254044338\n"
     ]
    }
   ],
   "source": [
    "print('perceptron')\n",
    "print(f'Train score = {perc_train_score} Test Score ={accuracy_score(y_test,perd_perceptron)}')"
   ]
  },
  {
   "cell_type": "code",
   "execution_count": 120,
   "id": "ce7fd6f9-68bb-48d9-bc4f-f416fee95272",
   "metadata": {},
   "outputs": [
    {
     "name": "stdout",
     "output_type": "stream",
     "text": [
      "Decision Tree Classifer\n",
      "Train score = 0.9946584559691508 Test Score =0.9914919113241462\n"
     ]
    }
   ],
   "source": [
    "print('Decision Tree Classifer')\n",
    "print(f'Train score = {dt_train_score} Test Score ={accuracy_score(y_test,dt_pred)}')"
   ]
  },
  {
   "cell_type": "code",
   "execution_count": 122,
   "id": "7dc31c8f-db24-4ce6-8ba4-c993ab2a13c6",
   "metadata": {},
   "outputs": [
    {
     "name": "stdout",
     "output_type": "stream",
     "text": [
      "Multinomial Naive Bayes\n",
      "Train score = 0.8895982529314551 Test Score =0.8896345116836429\n"
     ]
    }
   ],
   "source": [
    "print('Multinomial Naive Bayes')\n",
    "print(f'Train score = {multi_train_score} Test Score ={accuracy_score(y_test2,prediction_multi)}')"
   ]
  },
  {
   "cell_type": "markdown",
   "id": "fd1b1142-9ebf-482f-a8f8-b18d786fb1d2",
   "metadata": {},
   "source": [
    "# Addtional"
   ]
  },
  {
   "cell_type": "markdown",
   "id": "7fb531c3-78f8-4398-842e-22f9a292d69a",
   "metadata": {},
   "source": [
    "Feature imporatnces plot for `Decision Tree` model"
   ]
  },
  {
   "cell_type": "code",
   "execution_count": 123,
   "id": "dbd6df62-ef34-417d-b7cb-db6e6da621fd",
   "metadata": {},
   "outputs": [
    {
     "data": {
      "image/png": "[encoded data removed]",
      "text/plain": [
       "<Figure size 432x288 with 1 Axes>"
      ]
     },
     "metadata": {
      "needs_background": "light"
     },
     "output_type": "display_data"
    }
   ],
   "source": [
    "def f_importances(coef, names, top=-1):\n",
    "    imp = coef\n",
    "    imp, names = zip(*sorted(list(zip(imp, names))))\n",
    "\n",
    "    if top == -1:\n",
    "        top = len(names)\n",
    "\n",
    "    plt.barh(range(top), imp[::-1][0:top], align='center')\n",
    "    plt.yticks(range(top), names[::-1][0:top])\n",
    "    plt.title('feature importances for dt')\n",
    "    plt.show()\n",
    "f_importances(abs(dt_cl.feature_importances_), data.columns , top=10)"
   ]
  },
  {
   "cell_type": "markdown",
   "id": "41b6b533-3cd2-4549-85c7-8af6c8247bda",
   "metadata": {},
   "source": [
    "`Gaussian Naive Bayes` model but not very promising"
   ]
  },
  {
   "cell_type": "code",
   "execution_count": 125,
   "id": "87e1bf5e-3329-4570-bb12-26e365545b98",
   "metadata": {},
   "outputs": [
    {
     "data": {
      "text/plain": [
       "0.8431595765927701"
      ]
     },
     "execution_count": 125,
     "metadata": {},
     "output_type": "execute_result"
    }
   ],
   "source": [
    "from sklearn.naive_bayes import GaussianNB\n",
    "gnb = GaussianNB()\n",
    "gnb.fit(X_train2, y_train2)\n",
    "y_pred = gnb.predict(X_test2)\n",
    "accuracy_score(y_test2,y_pred)"
   ]
  }
 ],
 "metadata": {
  "kernelspec": {
   "display_name": "Python 3 (ipykernel)",
   "language": "python",
   "name": "python3"
  },
  "language_info": {
   "codemirror_mode": {
    "name": "ipython",
    "version": 3
   },
   "file_extension": ".py",
   "mimetype": "text/x-python",
   "name": "python",
   "nbconvert_exporter": "python",
   "pygments_lexer": "ipython3",
   "version": "3.9.6"
  }
 },
 "nbformat": 4,
 "nbformat_minor": 5
}
