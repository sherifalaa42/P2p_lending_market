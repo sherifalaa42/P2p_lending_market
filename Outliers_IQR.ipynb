{
 "cells": [
  {
   "cell_type": "code",
   "execution_count": 1,
   "id": "44acc88c-f2b9-4d71-9444-b940076ca830",
   "metadata": {},
   "outputs": [],
   "source": [
    "#imports\n",
    "import numpy as np\n",
    "import pandas as pd\n",
    "import matplotlib.pyplot as plt\n",
    "import seaborn as sns\n",
    "from sklearn.preprocessing import OneHotEncoder"
   ]
  },
  {
   "cell_type": "code",
   "execution_count": 2,
   "id": "32d554ea-64b1-4c96-b78a-0758781b5423",
   "metadata": {},
   "outputs": [],
   "source": [
    "data = pd.read_csv('prosperLoanData.csv')"
   ]
  },
  {
   "cell_type": "code",
   "execution_count": 3,
   "id": "ed66bca9-3cbc-4ab4-968a-8088e898c3bd",
   "metadata": {},
   "outputs": [],
   "source": [
    "date = ['ListingCreationDate','ClosedDate','DateCreditPulled','FirstRecordedCreditLine','LoanOriginationDate']\n",
    "for col in date :\n",
    "    data[col] = data[col].fillna(0) \n",
    "data[date] = data[date].astype('datetime64[ns]')"
   ]
  },
  {
   "cell_type": "code",
   "execution_count": 4,
   "id": "07abae02-0a85-404f-a7e2-a5898859aecd",
   "metadata": {},
   "outputs": [],
   "source": [
    "##list of a columns with have null values\n",
    "null = []\n",
    "for col in data.columns :\n",
    "    if (data[col].isnull().sum() > 0) :\n",
    "        null.append(col)\n",
    "        \n",
    "for col in null:\n",
    "    if(data[col].dtype in ['float64','int64']) :\n",
    "        data[col] = data[col].fillna(0) "
   ]
  },
  {
   "cell_type": "code",
   "execution_count": 5,
   "id": "deb3a1a4-8a5a-4156-b292-2009efaebc22",
   "metadata": {},
   "outputs": [],
   "source": [
    "data.drop('ListingKey',axis=1,inplace=True)\n",
    "data.drop('MemberKey',axis=1,inplace=True)\n",
    "data.drop('LoanOriginationQuarter',axis=1,inplace=True)\n",
    "data.drop('LoanKey',axis=1,inplace=True)\n",
    "data.drop('GroupKey',axis=1,inplace=True)\n",
    "data.drop('LoanNumber',axis=1,inplace=True)"
   ]
  },
  {
   "cell_type": "code",
   "execution_count": 7,
   "id": "06040a0f-347d-41ec-87d3-6d1492868ad7",
   "metadata": {},
   "outputs": [
    {
     "data": {
      "text/plain": [
       "ListingNumber                          0\n",
       "Term                                   0\n",
       "BorrowerAPR                            0\n",
       "BorrowerRate                           0\n",
       "LenderYield                            0\n",
       "EstimatedEffectiveYield                0\n",
       "EstimatedLoss                          0\n",
       "EstimatedReturn                        0\n",
       "ProsperRating (numeric)                0\n",
       "ProsperScore                           0\n",
       "ListingCategory (numeric)              0\n",
       "EmploymentStatusDuration               0\n",
       "CreditScoreRangeLower                  0\n",
       "CreditScoreRangeUpper                  0\n",
       "CurrentCreditLines                     0\n",
       "OpenCreditLines                        0\n",
       "TotalCreditLinespast7years             0\n",
       "OpenRevolvingAccounts                  0\n",
       "OpenRevolvingMonthlyPayment            0\n",
       "InquiriesLast6Months                   0\n",
       "TotalInquiries                         0\n",
       "CurrentDelinquencies                   0\n",
       "AmountDelinquent                       0\n",
       "DelinquenciesLast7Years                0\n",
       "PublicRecordsLast10Years               0\n",
       "PublicRecordsLast12Months              0\n",
       "RevolvingCreditBalance                 0\n",
       "BankcardUtilization                    0\n",
       "AvailableBankcardCredit                0\n",
       "TotalTrades                            0\n",
       "TradesNeverDelinquent (percentage)     0\n",
       "TradesOpenedLast6Months                0\n",
       "DebtToIncomeRatio                      0\n",
       "StatedMonthlyIncome                    0\n",
       "TotalProsperLoans                      0\n",
       "TotalProsperPaymentsBilled             0\n",
       "OnTimeProsperPayments                  0\n",
       "ProsperPaymentsLessThanOneMonthLate    0\n",
       "ProsperPaymentsOneMonthPlusLate        0\n",
       "ProsperPrincipalBorrowed               0\n",
       "ProsperPrincipalOutstanding            0\n",
       "ScorexChangeAtTimeOfListing            0\n",
       "LoanCurrentDaysDelinquent              0\n",
       "LoanFirstDefaultedCycleNumber          0\n",
       "LoanMonthsSinceOrigination             0\n",
       "LoanOriginalAmount                     0\n",
       "MonthlyLoanPayment                     0\n",
       "LP_CustomerPayments                    0\n",
       "LP_CustomerPrincipalPayments           0\n",
       "LP_InterestandFees                     0\n",
       "LP_ServiceFees                         0\n",
       "LP_CollectionFees                      0\n",
       "LP_GrossPrincipalLoss                  0\n",
       "LP_NetPrincipalLoss                    0\n",
       "LP_NonPrincipalRecoverypayments        0\n",
       "PercentFunded                          0\n",
       "Recommendations                        0\n",
       "InvestmentFromFriendsCount             0\n",
       "InvestmentFromFriendsAmount            0\n",
       "Investors                              0\n",
       "dtype: int64"
      ]
     },
     "execution_count": 7,
     "metadata": {},
     "output_type": "execute_result"
    }
   ],
   "source": [
    "numeric = data.select_dtypes(['float64','int64'])\n",
    "numeric.isnull().sum()"
   ]
  },
  {
   "cell_type": "markdown",
   "id": "ae64ffa2-1052-4b79-99ac-0f963e216154",
   "metadata": {},
   "source": [
    "#### Trying IQR on ONE Column"
   ]
  },
  {
   "cell_type": "code",
   "execution_count": 11,
   "id": "c1a78984-60e3-43ef-a428-5522caf3528f",
   "metadata": {},
   "outputs": [
    {
     "data": {
      "text/plain": [
       "<AxesSubplot:xlabel='Investors'>"
      ]
     },
     "execution_count": 11,
     "metadata": {},
     "output_type": "execute_result"
    },
    {
     "data": {
      "image/png": "[encoded data removed]",
      "text/plain": [
       "<Figure size 432x288 with 1 Axes>"
      ]
     },
     "metadata": {
      "needs_background": "light"
     },
     "output_type": "display_data"
    }
   ],
   "source": [
    "sns.boxenplot(x='Investors',data = data)"
   ]
  },
  {
   "cell_type": "code",
   "execution_count": 14,
   "id": "b039c533-1537-4f31-a270-1f715430c1a5",
   "metadata": {},
   "outputs": [
    {
     "data": {
      "text/plain": [
       "113.0"
      ]
     },
     "execution_count": 14,
     "metadata": {},
     "output_type": "execute_result"
    }
   ],
   "source": [
    "q1 = numeric['Investors'].quantile(0.25)\n",
    "q2 = numeric['Investors'].quantile(0.75)\n",
    "\n",
    "iqr = q2-q1\n",
    "iqr"
   ]
  },
  {
   "cell_type": "code",
   "execution_count": 19,
   "id": "18995df8-6dae-4a4a-b04d-a6aefc6ac323",
   "metadata": {},
   "outputs": [
    {
     "data": {
      "text/plain": [
       "284.5"
      ]
     },
     "execution_count": 19,
     "metadata": {},
     "output_type": "execute_result"
    }
   ],
   "source": [
    "lower_ex = q1-1.5*iqr\n",
    "high_ex = q2+1.5*iqr\n",
    "\n",
    "lower_ex\n",
    "high_ex"
   ]
  },
  {
   "cell_type": "code",
   "execution_count": 25,
   "id": "a81d3c98-2cff-4029-babe-e504199881c7",
   "metadata": {},
   "outputs": [
    {
     "data": {
      "text/plain": [
       "array([[7.57359e+05, 6.00000e+01, 1.16950e-01, ..., 0.00000e+00,\n",
       "        0.00000e+00, 3.71000e+02],\n",
       "       [7.16058e+05, 3.60000e+01, 1.25280e-01, ..., 0.00000e+00,\n",
       "        0.00000e+00, 3.03000e+02],\n",
       "       [4.78891e+05, 3.60000e+01, 8.19100e-02, ..., 0.00000e+00,\n",
       "        0.00000e+00, 3.26000e+02],\n",
       "       ...,\n",
       "       [2.15516e+05, 3.60000e+01, 8.88500e-02, ..., 0.00000e+00,\n",
       "        0.00000e+00, 2.98000e+02],\n",
       "       [2.60999e+05, 3.60000e+01, 1.39150e-01, ..., 0.00000e+00,\n",
       "        0.00000e+00, 5.80000e+02],\n",
       "       [3.67938e+05, 3.60000e+01, 1.25500e-01, ..., 1.00000e+00,\n",
       "        8.36600e+01, 7.54000e+02]])"
      ]
     },
     "execution_count": 25,
     "metadata": {},
     "output_type": "execute_result"
    }
   ],
   "source": [
    "out1 = numeric[(numeric['Investors']<lower_ex)].values\n",
    "out2 = numeric[(numeric['Investors']>high_ex)].values"
   ]
  },
  {
   "cell_type": "code",
   "execution_count": 31,
   "id": "b9c57eed-5434-4684-b140-b61233ec9767",
   "metadata": {
    "collapsed": true,
    "jupyter": {
     "outputs_hidden": true,
     "source_hidden": true
    },
    "tags": []
   },
   "outputs": [
    {
     "ename": "KeyboardInterrupt",
     "evalue": "",
     "output_type": "error",
     "traceback": [
      "\u001b[1;31m---------------------------------------------------------------------------\u001b[0m",
      "\u001b[1;31mKeyboardInterrupt\u001b[0m                         Traceback (most recent call last)",
      "\u001b[1;32m~\\AppData\\Local\\Temp/ipykernel_17740/1625390367.py\u001b[0m in \u001b[0;36m<module>\u001b[1;34m\u001b[0m\n\u001b[0;32m      9\u001b[0m     \u001b[0mmean\u001b[0m \u001b[1;33m=\u001b[0m \u001b[0mnumeric\u001b[0m\u001b[1;33m[\u001b[0m\u001b[0mi\u001b[0m\u001b[1;33m]\u001b[0m\u001b[1;33m.\u001b[0m\u001b[0mmean\u001b[0m\u001b[1;33m(\u001b[0m\u001b[1;33m)\u001b[0m\u001b[1;33m\u001b[0m\u001b[1;33m\u001b[0m\u001b[0m\n\u001b[0;32m     10\u001b[0m     \u001b[0mnumeric\u001b[0m\u001b[1;33m[\u001b[0m\u001b[0mi\u001b[0m\u001b[1;33m]\u001b[0m\u001b[1;33m.\u001b[0m\u001b[0mreplace\u001b[0m\u001b[1;33m(\u001b[0m\u001b[0mout1\u001b[0m\u001b[1;33m,\u001b[0m\u001b[0mmean\u001b[0m\u001b[1;33m,\u001b[0m\u001b[0minplace\u001b[0m\u001b[1;33m=\u001b[0m\u001b[1;32mTrue\u001b[0m\u001b[1;33m)\u001b[0m\u001b[1;33m\u001b[0m\u001b[1;33m\u001b[0m\u001b[0m\n\u001b[1;32m---> 11\u001b[1;33m     \u001b[0mnumeric\u001b[0m\u001b[1;33m[\u001b[0m\u001b[0mi\u001b[0m\u001b[1;33m]\u001b[0m\u001b[1;33m.\u001b[0m\u001b[0mreplace\u001b[0m\u001b[1;33m(\u001b[0m\u001b[0mout2\u001b[0m\u001b[1;33m,\u001b[0m\u001b[0mmean\u001b[0m\u001b[1;33m,\u001b[0m\u001b[0minplace\u001b[0m\u001b[1;33m=\u001b[0m\u001b[1;32mTrue\u001b[0m\u001b[1;33m)\u001b[0m\u001b[1;33m\u001b[0m\u001b[1;33m\u001b[0m\u001b[0m\n\u001b[0m",
      "\u001b[1;32mc:\\users\\alaa_\\appdata\\local\\programs\\python\\python39\\lib\\site-packages\\pandas\\core\\series.py\u001b[0m in \u001b[0;36mreplace\u001b[1;34m(self, to_replace, value, inplace, limit, regex, method)\u001b[0m\n\u001b[0;32m   4866\u001b[0m         \u001b[0mmethod\u001b[0m\u001b[1;33m=\u001b[0m\u001b[1;34m\"pad\"\u001b[0m\u001b[1;33m,\u001b[0m\u001b[1;33m\u001b[0m\u001b[1;33m\u001b[0m\u001b[0m\n\u001b[0;32m   4867\u001b[0m     ):\n\u001b[1;32m-> 4868\u001b[1;33m         return super().replace(\n\u001b[0m\u001b[0;32m   4869\u001b[0m             \u001b[0mto_replace\u001b[0m\u001b[1;33m=\u001b[0m\u001b[0mto_replace\u001b[0m\u001b[1;33m,\u001b[0m\u001b[1;33m\u001b[0m\u001b[1;33m\u001b[0m\u001b[0m\n\u001b[0;32m   4870\u001b[0m             \u001b[0mvalue\u001b[0m\u001b[1;33m=\u001b[0m\u001b[0mvalue\u001b[0m\u001b[1;33m,\u001b[0m\u001b[1;33m\u001b[0m\u001b[1;33m\u001b[0m\u001b[0m\n",
      "\u001b[1;32mc:\\users\\alaa_\\appdata\\local\\programs\\python\\python39\\lib\\site-packages\\pandas\\core\\generic.py\u001b[0m in \u001b[0;36mreplace\u001b[1;34m(self, to_replace, value, inplace, limit, regex, method)\u001b[0m\n\u001b[0;32m   6572\u001b[0m                         \u001b[1;34mf\"Expecting {len(to_replace)} got {len(value)} \"\u001b[0m\u001b[1;33m\u001b[0m\u001b[1;33m\u001b[0m\u001b[0m\n\u001b[0;32m   6573\u001b[0m                     )\n\u001b[1;32m-> 6574\u001b[1;33m                 new_data = self._mgr.replace_list(\n\u001b[0m\u001b[0;32m   6575\u001b[0m                     \u001b[0msrc_list\u001b[0m\u001b[1;33m=\u001b[0m\u001b[0mto_replace\u001b[0m\u001b[1;33m,\u001b[0m\u001b[1;33m\u001b[0m\u001b[1;33m\u001b[0m\u001b[0m\n\u001b[0;32m   6576\u001b[0m                     \u001b[0mdest_list\u001b[0m\u001b[1;33m=\u001b[0m\u001b[0mvalue\u001b[0m\u001b[1;33m,\u001b[0m\u001b[1;33m\u001b[0m\u001b[1;33m\u001b[0m\u001b[0m\n",
      "\u001b[1;32mc:\\users\\alaa_\\appdata\\local\\programs\\python\\python39\\lib\\site-packages\\pandas\\core\\internals\\managers.py\u001b[0m in \u001b[0;36mreplace_list\u001b[1;34m(self, src_list, dest_list, inplace, regex)\u001b[0m\n\u001b[0;32m    449\u001b[0m         \u001b[0minplace\u001b[0m \u001b[1;33m=\u001b[0m \u001b[0mvalidate_bool_kwarg\u001b[0m\u001b[1;33m(\u001b[0m\u001b[0minplace\u001b[0m\u001b[1;33m,\u001b[0m \u001b[1;34m\"inplace\"\u001b[0m\u001b[1;33m)\u001b[0m\u001b[1;33m\u001b[0m\u001b[1;33m\u001b[0m\u001b[0m\n\u001b[0;32m    450\u001b[0m \u001b[1;33m\u001b[0m\u001b[0m\n\u001b[1;32m--> 451\u001b[1;33m         bm = self.apply(\n\u001b[0m\u001b[0;32m    452\u001b[0m             \u001b[1;34m\"_replace_list\"\u001b[0m\u001b[1;33m,\u001b[0m\u001b[1;33m\u001b[0m\u001b[1;33m\u001b[0m\u001b[0m\n\u001b[0;32m    453\u001b[0m             \u001b[0msrc_list\u001b[0m\u001b[1;33m=\u001b[0m\u001b[0msrc_list\u001b[0m\u001b[1;33m,\u001b[0m\u001b[1;33m\u001b[0m\u001b[1;33m\u001b[0m\u001b[0m\n",
      "\u001b[1;32mc:\\users\\alaa_\\appdata\\local\\programs\\python\\python39\\lib\\site-packages\\pandas\\core\\internals\\managers.py\u001b[0m in \u001b[0;36mapply\u001b[1;34m(self, f, align_keys, ignore_failures, **kwargs)\u001b[0m\n\u001b[0;32m    325\u001b[0m                     \u001b[0mapplied\u001b[0m \u001b[1;33m=\u001b[0m \u001b[0mb\u001b[0m\u001b[1;33m.\u001b[0m\u001b[0mapply\u001b[0m\u001b[1;33m(\u001b[0m\u001b[0mf\u001b[0m\u001b[1;33m,\u001b[0m \u001b[1;33m**\u001b[0m\u001b[0mkwargs\u001b[0m\u001b[1;33m)\u001b[0m\u001b[1;33m\u001b[0m\u001b[1;33m\u001b[0m\u001b[0m\n\u001b[0;32m    326\u001b[0m                 \u001b[1;32melse\u001b[0m\u001b[1;33m:\u001b[0m\u001b[1;33m\u001b[0m\u001b[1;33m\u001b[0m\u001b[0m\n\u001b[1;32m--> 327\u001b[1;33m                     \u001b[0mapplied\u001b[0m \u001b[1;33m=\u001b[0m \u001b[0mgetattr\u001b[0m\u001b[1;33m(\u001b[0m\u001b[0mb\u001b[0m\u001b[1;33m,\u001b[0m \u001b[0mf\u001b[0m\u001b[1;33m)\u001b[0m\u001b[1;33m(\u001b[0m\u001b[1;33m**\u001b[0m\u001b[0mkwargs\u001b[0m\u001b[1;33m)\u001b[0m\u001b[1;33m\u001b[0m\u001b[1;33m\u001b[0m\u001b[0m\n\u001b[0m\u001b[0;32m    328\u001b[0m             \u001b[1;32mexcept\u001b[0m \u001b[1;33m(\u001b[0m\u001b[0mTypeError\u001b[0m\u001b[1;33m,\u001b[0m \u001b[0mNotImplementedError\u001b[0m\u001b[1;33m)\u001b[0m\u001b[1;33m:\u001b[0m\u001b[1;33m\u001b[0m\u001b[1;33m\u001b[0m\u001b[0m\n\u001b[0;32m    329\u001b[0m                 \u001b[1;32mif\u001b[0m \u001b[1;32mnot\u001b[0m \u001b[0mignore_failures\u001b[0m\u001b[1;33m:\u001b[0m\u001b[1;33m\u001b[0m\u001b[1;33m\u001b[0m\u001b[0m\n",
      "\u001b[1;32mc:\\users\\alaa_\\appdata\\local\\programs\\python\\python39\\lib\\site-packages\\pandas\\core\\internals\\blocks.py\u001b[0m in \u001b[0;36m_replace_list\u001b[1;34m(self, src_list, dest_list, inplace, regex)\u001b[0m\n\u001b[0;32m    801\u001b[0m         \u001b[1;32melse\u001b[0m\u001b[1;33m:\u001b[0m\u001b[1;33m\u001b[0m\u001b[1;33m\u001b[0m\u001b[0m\n\u001b[0;32m    802\u001b[0m             \u001b[1;31m# GH#38086 faster if we know we dont need to check for regex\u001b[0m\u001b[1;33m\u001b[0m\u001b[1;33m\u001b[0m\u001b[1;33m\u001b[0m\u001b[0m\n\u001b[1;32m--> 803\u001b[1;33m             \u001b[0mmasks\u001b[0m \u001b[1;33m=\u001b[0m \u001b[1;33m[\u001b[0m\u001b[0mmissing\u001b[0m\u001b[1;33m.\u001b[0m\u001b[0mmask_missing\u001b[0m\u001b[1;33m(\u001b[0m\u001b[0mvalues\u001b[0m\u001b[1;33m,\u001b[0m \u001b[0ms\u001b[0m\u001b[1;33m[\u001b[0m\u001b[1;36m0\u001b[0m\u001b[1;33m]\u001b[0m\u001b[1;33m)\u001b[0m \u001b[1;32mfor\u001b[0m \u001b[0ms\u001b[0m \u001b[1;32min\u001b[0m \u001b[0mpairs\u001b[0m\u001b[1;33m]\u001b[0m\u001b[1;33m\u001b[0m\u001b[1;33m\u001b[0m\u001b[0m\n\u001b[0m\u001b[0;32m    804\u001b[0m \u001b[1;33m\u001b[0m\u001b[0m\n\u001b[0;32m    805\u001b[0m         \u001b[1;31m# error: Argument 1 to \"extract_bool_array\" has incompatible type\u001b[0m\u001b[1;33m\u001b[0m\u001b[1;33m\u001b[0m\u001b[1;33m\u001b[0m\u001b[0m\n",
      "\u001b[1;32mc:\\users\\alaa_\\appdata\\local\\programs\\python\\python39\\lib\\site-packages\\pandas\\core\\internals\\blocks.py\u001b[0m in \u001b[0;36m<listcomp>\u001b[1;34m(.0)\u001b[0m\n\u001b[0;32m    801\u001b[0m         \u001b[1;32melse\u001b[0m\u001b[1;33m:\u001b[0m\u001b[1;33m\u001b[0m\u001b[1;33m\u001b[0m\u001b[0m\n\u001b[0;32m    802\u001b[0m             \u001b[1;31m# GH#38086 faster if we know we dont need to check for regex\u001b[0m\u001b[1;33m\u001b[0m\u001b[1;33m\u001b[0m\u001b[1;33m\u001b[0m\u001b[0m\n\u001b[1;32m--> 803\u001b[1;33m             \u001b[0mmasks\u001b[0m \u001b[1;33m=\u001b[0m \u001b[1;33m[\u001b[0m\u001b[0mmissing\u001b[0m\u001b[1;33m.\u001b[0m\u001b[0mmask_missing\u001b[0m\u001b[1;33m(\u001b[0m\u001b[0mvalues\u001b[0m\u001b[1;33m,\u001b[0m \u001b[0ms\u001b[0m\u001b[1;33m[\u001b[0m\u001b[1;36m0\u001b[0m\u001b[1;33m]\u001b[0m\u001b[1;33m)\u001b[0m \u001b[1;32mfor\u001b[0m \u001b[0ms\u001b[0m \u001b[1;32min\u001b[0m \u001b[0mpairs\u001b[0m\u001b[1;33m]\u001b[0m\u001b[1;33m\u001b[0m\u001b[1;33m\u001b[0m\u001b[0m\n\u001b[0m\u001b[0;32m    804\u001b[0m \u001b[1;33m\u001b[0m\u001b[0m\n\u001b[0;32m    805\u001b[0m         \u001b[1;31m# error: Argument 1 to \"extract_bool_array\" has incompatible type\u001b[0m\u001b[1;33m\u001b[0m\u001b[1;33m\u001b[0m\u001b[1;33m\u001b[0m\u001b[0m\n",
      "\u001b[1;32mc:\\users\\alaa_\\appdata\\local\\programs\\python\\python39\\lib\\site-packages\\pandas\\core\\missing.py\u001b[0m in \u001b[0;36mmask_missing\u001b[1;34m(arr, values_to_mask)\u001b[0m\n\u001b[0;32m     92\u001b[0m             \u001b[1;32mpass\u001b[0m\u001b[1;33m\u001b[0m\u001b[1;33m\u001b[0m\u001b[0m\n\u001b[0;32m     93\u001b[0m         \u001b[1;32melse\u001b[0m\u001b[1;33m:\u001b[0m\u001b[1;33m\u001b[0m\u001b[1;33m\u001b[0m\u001b[0m\n\u001b[1;32m---> 94\u001b[1;33m             \u001b[0mmask\u001b[0m \u001b[1;33m|=\u001b[0m \u001b[0marr\u001b[0m \u001b[1;33m==\u001b[0m \u001b[0mx\u001b[0m\u001b[1;33m\u001b[0m\u001b[1;33m\u001b[0m\u001b[0m\n\u001b[0m\u001b[0;32m     95\u001b[0m \u001b[1;33m\u001b[0m\u001b[0m\n\u001b[0;32m     96\u001b[0m     \u001b[1;32mif\u001b[0m \u001b[0mna_mask\u001b[0m\u001b[1;33m.\u001b[0m\u001b[0many\u001b[0m\u001b[1;33m(\u001b[0m\u001b[1;33m)\u001b[0m\u001b[1;33m:\u001b[0m\u001b[1;33m\u001b[0m\u001b[1;33m\u001b[0m\u001b[0m\n",
      "\u001b[1;31mKeyboardInterrupt\u001b[0m: "
     ]
    }
   ],
   "source": [
    "for i in numeric :\n",
    "    q1 = numeric[i].quantile(0.25)\n",
    "    q2 = numeric[i].quantile(0.75)\n",
    "    iqr = q2-q1\n",
    "    lower_ex = q1-1.5*iqr\n",
    "    high_ex = q2+1.5*iqr\n",
    "    out1 = numeric[(numeric[i]<lower_ex)].values\n",
    "    out2 = numeric[(numeric[i]>high_ex)].values\n",
    "    mean = numeric[i].mean()\n",
    "    numeric[i].replace(out1,mean,inplace=True)\n",
    "    numeric[i].replace(out2,mean,inplace=True)"
   ]
  },
  {
   "cell_type": "code",
   "execution_count": 35,
   "id": "99a54008-b74e-4921-8dd5-da17ad0ffbc9",
   "metadata": {
    "collapsed": true,
    "jupyter": {
     "outputs_hidden": true,
     "source_hidden": true
    },
    "tags": []
   },
   "outputs": [
    {
     "data": {
      "text/plain": [
       "ListingNumber                          491715.000000\n",
       "Term                                        0.000000\n",
       "BorrowerAPR                                 0.127410\n",
       "BorrowerRate                                0.116000\n",
       "LenderYield                                 0.115600\n",
       "EstimatedEffectiveYield                     0.195200\n",
       "EstimatedLoss                               0.025093\n",
       "EstimatedReturn                             0.036754\n",
       "ProsperRating (numeric)                     5.000000\n",
       "ProsperScore                                7.000000\n",
       "ListingCategory (numeric)                   2.000000\n",
       "EmploymentStatusDuration                    0.000000\n",
       "CreditScoreRangeLower                       0.000000\n",
       "CreditScoreRangeUpper                       0.000000\n",
       "CurrentCreditLines                          0.000000\n",
       "OpenCreditLines                             0.000000\n",
       "TotalCreditLinespast7years                  0.000000\n",
       "OpenRevolvingAccounts                       5.000000\n",
       "OpenRevolvingMonthlyPayment                 0.000000\n",
       "InquiriesLast6Months                        0.000000\n",
       "TotalInquiries                              0.000000\n",
       "CurrentDelinquencies                        0.000000\n",
       "AmountDelinquent                            0.000000\n",
       "DelinquenciesLast7Years                     3.000000\n",
       "PublicRecordsLast10Years                    0.000000\n",
       "PublicRecordsLast12Months                   0.000000\n",
       "RevolvingCreditBalance                  16163.000000\n",
       "BankcardUtilization                         0.590000\n",
       "AvailableBankcardCredit                 11547.000000\n",
       "TotalTrades                                16.000000\n",
       "TradesNeverDelinquent (percentage)          0.220000\n",
       "TradesOpenedLast6Months                     1.000000\n",
       "DebtToIncomeRatio                           0.180000\n",
       "StatedMonthlyIncome                      3624.666667\n",
       "TotalProsperLoans                           0.000000\n",
       "TotalProsperPaymentsBilled                  0.000000\n",
       "OnTimeProsperPayments                       0.000000\n",
       "ProsperPaymentsLessThanOneMonthLate         0.000000\n",
       "ProsperPaymentsOneMonthPlusLate             0.000000\n",
       "ProsperPrincipalBorrowed                    0.000000\n",
       "ProsperPrincipalOutstanding                 0.000000\n",
       "ScorexChangeAtTimeOfListing                 0.000000\n",
       "LoanCurrentDaysDelinquent                   0.000000\n",
       "LoanFirstDefaultedCycleNumber               0.000000\n",
       "LoanMonthsSinceOrigination                 59.000000\n",
       "LoanOriginalAmount                       8000.000000\n",
       "MonthlyLoanPayment                        239.960000\n",
       "LP_CustomerPayments                      4542.640000\n",
       "LP_CustomerPrincipalPayments             3499.110000\n",
       "LP_InterestandFees                       1183.670000\n",
       "LP_ServiceFees                             59.260000\n",
       "LP_CollectionFees                           0.000000\n",
       "LP_GrossPrincipalLoss                       0.000000\n",
       "LP_NetPrincipalLoss                         0.000000\n",
       "LP_NonPrincipalRecoverypayments             0.000000\n",
       "PercentFunded                               0.000000\n",
       "Recommendations                             0.000000\n",
       "InvestmentFromFriendsCount                  0.000000\n",
       "InvestmentFromFriendsAmount                 0.000000\n",
       "Investors                                 113.000000\n",
       "dtype: float64"
      ]
     },
     "execution_count": 35,
     "metadata": {},
     "output_type": "execute_result"
    }
   ],
   "source": [
    "##filling with 3 options >>> mean , drop , lower and higher ex\n",
    "def find_iqr(x):\n",
    "  return np.subtract(*np.percentile(x, [75, 25]))\n",
    "\n",
    "x= numeric.apply(find_iqr)\n"
   ]
  },
  {
   "cell_type": "code",
   "execution_count": 59,
   "id": "438047b9-9a34-404a-96b6-617b25da8635",
   "metadata": {
    "jupyter": {
     "source_hidden": true
    },
    "tags": []
   },
   "outputs": [],
   "source": [
    "for i in x.index :\n",
    "    lower_ex = q1-1.5*iqr\n",
    "    high_ex = q2+1.5*iqr\n",
    "    out1 = numeric[(numeric[i]<lower_ex)].values\n",
    "    out2 = numeric[(numeric[i]>high_ex)].values\n",
    "    mean = numeric[i].mean()\n",
    "    # numeric[i].replace(out1,mean,inplace=True)\n",
    "    # numeric[i].replace(out2,mean,inplace=True)"
   ]
  },
  {
   "cell_type": "markdown",
   "id": "d2878c2a-21be-479b-8e3c-413b91086705",
   "metadata": {},
   "source": [
    "# IQR working code "
   ]
  },
  {
   "cell_type": "code",
   "execution_count": 67,
   "id": "dde3d2cb-73fa-468f-855c-a071d0563406",
   "metadata": {},
   "outputs": [
    {
     "name": "stderr",
     "output_type": "stream",
     "text": [
      "C:\\Users\\alaa_\\AppData\\Local\\Temp/ipykernel_17740/1384281924.py:12: SettingWithCopyWarning: \n",
      "A value is trying to be set on a copy of a slice from a DataFrame\n",
      "\n",
      "See the caveats in the documentation: https://pandas.pydata.org/pandas-docs/stable/user_guide/indexing.html#returning-a-view-versus-a-copy\n",
      "  numeric[col][i] = upper_bound[col]\n",
      "C:\\Users\\alaa_\\AppData\\Local\\Temp/ipykernel_17740/1384281924.py:9: SettingWithCopyWarning: \n",
      "A value is trying to be set on a copy of a slice from a DataFrame\n",
      "\n",
      "See the caveats in the documentation: https://pandas.pydata.org/pandas-docs/stable/user_guide/indexing.html#returning-a-view-versus-a-copy\n",
      "  numeric[col][i] = lower_bound[col]\n"
     ]
    }
   ],
   "source": [
    "q1 = numeric.quantile(0.25)\n",
    "q3 = numeric.quantile(0.75)\n",
    "iqr = q3 - q1\n",
    "lower_bound = q1 -(1.5 * iqr) \n",
    "upper_bound = q3 +(1.5 * iqr)\n",
    "for col in numeric.columns:\n",
    "            for i in range(0,len(numeric[col])):\n",
    "                if numeric[col][i] < lower_bound[col]:            \n",
    "                    numeric[col][i] = lower_bound[col]\n",
    "\n",
    "                if numeric[col][i] > upper_bound[col]:            \n",
    "                    numeric[col][i] = upper_bound[col]"
   ]
  },
  {
   "cell_type": "code",
   "execution_count": 69,
   "id": "f11981ec-cd76-4b6e-943d-6fd2b579d500",
   "metadata": {},
   "outputs": [
    {
     "data": {
      "text/plain": [
       "<AxesSubplot:xlabel='Investors'>"
      ]
     },
     "execution_count": 69,
     "metadata": {},
     "output_type": "execute_result"
    },
    {
     "data": {
      "image/png": "[encoded data removed]",
      "text/plain": [
       "<Figure size 432x288 with 1 Axes>"
      ]
     },
     "metadata": {
      "needs_background": "light"
     },
     "output_type": "display_data"
    }
   ],
   "source": [
    "sns.boxenplot(x='Investors',data = numeric)"
   ]
  }
 ],
 "metadata": {
  "kernelspec": {
   "display_name": "Python 3 (ipykernel)",
   "language": "python",
   "name": "python3"
  },
  "language_info": {
   "codemirror_mode": {
    "name": "ipython",
    "version": 3
   },
   "file_extension": ".py",
   "mimetype": "text/x-python",
   "name": "python",
   "nbconvert_exporter": "python",
   "pygments_lexer": "ipython3",
   "version": "3.9.6"
  }
 },
 "nbformat": 4,
 "nbformat_minor": 5
}
