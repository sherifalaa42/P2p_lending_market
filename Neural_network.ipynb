{
 "cells": [
  {
   "cell_type": "code",
   "execution_count": 1,
   "id": "70b439e3",
   "metadata": {},
   "outputs": [],
   "source": [
    "#imports\n",
    "import numpy as np\n",
    "import pandas as pd\n",
    "import matplotlib.pyplot as plt\n",
    "import seaborn as sns\n",
    "from sklearn.preprocessing import LabelEncoder\n",
    "from sklearn.linear_model import LogisticRegression\n",
    "from sklearn.metrics import accuracy_score\n",
    "from sklearn.model_selection import train_test_split\n",
    "from sklearn.model_selection import GridSearchCV\n",
    "from sklearn.metrics import classification_report"
   ]
  },
  {
   "cell_type": "code",
   "execution_count": 2,
   "id": "a4c84e68",
   "metadata": {},
   "outputs": [],
   "source": [
    "data = pd.read_csv(\"prosperLoanData.csv\") # the full datasetb"
   ]
  },
  {
   "cell_type": "code",
   "execution_count": 3,
   "id": "fedb7ab0",
   "metadata": {},
   "outputs": [
    {
     "data": {
      "text/plain": [
       "ListingKey                         0\n",
       "ListingNumber                      0\n",
       "ListingCreationDate                0\n",
       "CreditGrade                    84984\n",
       "Term                               0\n",
       "                               ...  \n",
       "PercentFunded                      0\n",
       "Recommendations                    0\n",
       "InvestmentFromFriendsCount         0\n",
       "InvestmentFromFriendsAmount        0\n",
       "Investors                          0\n",
       "Length: 81, dtype: int64"
      ]
     },
     "execution_count": 3,
     "metadata": {},
     "output_type": "execute_result"
    }
   ],
   "source": [
    "data.isnull().sum()"
   ]
  },
  {
   "cell_type": "code",
   "execution_count": 4,
   "id": "bf7b37dc",
   "metadata": {},
   "outputs": [],
   "source": [
    "dropped = ['ListingNumber', 'LoanNumber', 'GroupKey', 'LoanKey', 'MemberKey', 'ListingKey']"
   ]
  },
  {
   "cell_type": "code",
   "execution_count": 5,
   "id": "a65636b2",
   "metadata": {},
   "outputs": [
    {
     "data": {
      "text/plain": [
       "array(['C', nan, 'HR', ..., nan, nan, nan], dtype=object)"
      ]
     },
     "execution_count": 5,
     "metadata": {},
     "output_type": "execute_result"
    }
   ],
   "source": [
    "data['CreditGrade'].values"
   ]
  },
  {
   "cell_type": "code",
   "execution_count": 6,
   "id": "9dad0199",
   "metadata": {},
   "outputs": [],
   "source": [
    "dropped.extend(['ProsperRating (Alpha)','ProsperRating (numeric)'])\n"
   ]
  },
  {
   "cell_type": "code",
   "execution_count": 7,
   "id": "f4327bda",
   "metadata": {},
   "outputs": [],
   "source": [
    "data.drop(dropped,axis=1,inplace=True)"
   ]
  },
  {
   "cell_type": "markdown",
   "id": "41f0e7aa",
   "metadata": {},
   "source": [
    "\n",
    "# Filling missing values\n"
   ]
  },
  {
   "cell_type": "code",
   "execution_count": 8,
   "id": "912918aa",
   "metadata": {},
   "outputs": [
    {
     "data": {
      "text/plain": [
       "LoanFirstDefaultedCycleNumber      96985\n",
       "ScorexChangeAtTimeOfListing        95009\n",
       "ProsperPrincipalOutstanding        91852\n",
       "ProsperPrincipalBorrowed           91852\n",
       "ProsperPaymentsOneMonthPlusLate    91852\n",
       "                                   ...  \n",
       "LenderYield                            0\n",
       "BorrowerRate                           0\n",
       "LoanStatus                             0\n",
       "Term                                   0\n",
       "Investors                              0\n",
       "Length: 73, dtype: int64"
      ]
     },
     "execution_count": 8,
     "metadata": {},
     "output_type": "execute_result"
    }
   ],
   "source": [
    "data.isnull().sum().sort_values(ascending=False)"
   ]
  },
  {
   "cell_type": "code",
   "execution_count": 9,
   "id": "34d9a592",
   "metadata": {},
   "outputs": [
    {
     "data": {
      "text/plain": [
       "0"
      ]
     },
     "execution_count": 9,
     "metadata": {},
     "output_type": "execute_result"
    }
   ],
   "source": [
    "for col in data.select_dtypes('float64').columns:\n",
    "    if data[col].isnull().sum() > 0: \n",
    "        data[col]=data[col].fillna(data[col].median())\n",
    "data.select_dtypes('float64').isnull().sum().sum()\n"
   ]
  },
  {
   "cell_type": "code",
   "execution_count": 10,
   "id": "b41d1bc8",
   "metadata": {},
   "outputs": [
    {
     "data": {
      "text/plain": [
       "155887"
      ]
     },
     "execution_count": 10,
     "metadata": {},
     "output_type": "execute_result"
    }
   ],
   "source": [
    "data.isnull().sum().sum()"
   ]
  },
  {
   "cell_type": "code",
   "execution_count": 11,
   "id": "2ffb532e",
   "metadata": {},
   "outputs": [
    {
     "data": {
      "text/plain": [
       "0"
      ]
     },
     "execution_count": 11,
     "metadata": {},
     "output_type": "execute_result"
    }
   ],
   "source": [
    "for col in data.select_dtypes('int64').columns: \n",
    "    if data[col].nunique() > 100:\n",
    "        data[col].fillna(data[col].median(), inplace=True)\n",
    "    else:\n",
    "        data[col].fillna(data[col].mode(), inplace=True)\n",
    "data.select_dtypes('int64').isnull().sum().sum()\n"
   ]
  },
  {
   "cell_type": "markdown",
   "id": "370ce428",
   "metadata": {},
   "source": [
    "# Imputing Dates"
   ]
  },
  {
   "cell_type": "code",
   "execution_count": 12,
   "id": "835b474a",
   "metadata": {},
   "outputs": [],
   "source": [
    "date =['FirstRecordedCreditLine','DateCreditPulled','ListingCreationDate','ClosedDate','LoanOriginationDate']\n",
    "# convert date columns from object to datetime \n",
    "for i in date:\n",
    "    #to get ride of time convert data to datetime\n",
    "    data[i]=pd.to_datetime(data[i])\n",
    "    data[i]=data[i].dt.date  # datatype=object\n",
    "    # split each coloumn to year month day then delet it \n",
    "    data[f'{i}_year']= pd.DatetimeIndex(data[f'{i}']).year\n",
    "    data[f'{i}_month']= pd.DatetimeIndex(data[f'{i}']).month\n",
    "    data[f'{i}_day']= pd.DatetimeIndex(data[f'{i}']).day\n",
    "    del(data[f'{i}'])"
   ]
  },
  {
   "cell_type": "markdown",
   "id": "ccd5d339",
   "metadata": {},
   "source": [
    "\n",
    "# Detecting Outliers\n",
    "\n"
   ]
  },
  {
   "cell_type": "code",
   "execution_count": 13,
   "id": "c385973b",
   "metadata": {},
   "outputs": [
    {
     "name": "stderr",
     "output_type": "stream",
     "text": [
      "/tmp/ipykernel_12166/109602084.py:7: SettingWithCopyWarning: \n",
      "A value is trying to be set on a copy of a slice from a DataFrame\n",
      "\n",
      "See the caveats in the documentation: https://pandas.pydata.org/pandas-docs/stable/user_guide/indexing.html#returning-a-view-versus-a-copy\n",
      "  data[col].loc[data[col] < lower_bound] = lower_bound\n",
      "/tmp/ipykernel_12166/109602084.py:8: SettingWithCopyWarning: \n",
      "A value is trying to be set on a copy of a slice from a DataFrame\n",
      "\n",
      "See the caveats in the documentation: https://pandas.pydata.org/pandas-docs/stable/user_guide/indexing.html#returning-a-view-versus-a-copy\n",
      "  data[col].loc[data[col] > upper_bound] = upper_bound\n"
     ]
    }
   ],
   "source": [
    "for col in data.columns:\n",
    "        if (((data[col].dtype)=='float64') | ((data[col].dtype)=='int64')):\n",
    "            percentiles = data[col].quantile([0.25,0.75]).values\n",
    "            iqr = percentiles[1] - percentiles[0]\n",
    "            lower_bound = percentiles[0] -(1.5 * iqr) \n",
    "            upper_bound = percentiles[1] +(1.5 * iqr)\n",
    "            data[col].loc[data[col] < lower_bound] = lower_bound\n",
    "            data[col].loc[data[col] > upper_bound] = upper_bound\n",
    "        else:\n",
    "            data[col]=data[col]"
   ]
  },
  {
   "cell_type": "markdown",
   "id": "6f1a8f12",
   "metadata": {},
   "source": [
    "# Imputing Target Value\n"
   ]
  },
  {
   "cell_type": "code",
   "execution_count": 14,
   "id": "a16b4560",
   "metadata": {},
   "outputs": [],
   "source": [
    "def target_handling(row): \n",
    "    if row == 'Completed':\n",
    "        return 1\n",
    "    else:\n",
    "        return 0\n",
    "\n",
    "data['Status'] = data['LoanStatus'].apply(target_handling)\n",
    "data.drop('LoanStatus',axis=1,inplace=True)\n"
   ]
  },
  {
   "cell_type": "markdown",
   "id": "401cb62f",
   "metadata": {},
   "source": [
    "# Encoding"
   ]
  },
  {
   "cell_type": "code",
   "execution_count": 15,
   "id": "62c190e2",
   "metadata": {},
   "outputs": [
    {
     "data": {
      "text/plain": [
       "CreditGrade                8\n",
       "BorrowerState             51\n",
       "Occupation                67\n",
       "EmploymentStatus           8\n",
       "IncomeRange                8\n",
       "LoanOriginationQuarter    33\n",
       "dtype: int64"
      ]
     },
     "execution_count": 15,
     "metadata": {},
     "output_type": "execute_result"
    }
   ],
   "source": [
    "obj = data.select_dtypes('object')\n",
    "obj.nunique()"
   ]
  },
  {
   "cell_type": "code",
   "execution_count": 16,
   "id": "eaea752c",
   "metadata": {},
   "outputs": [],
   "source": [
    "### one hot encoding\n",
    "dummies = pd.get_dummies(data[['CreditGrade', 'EmploymentStatus', 'IncomeRange','LoanOriginationQuarter']], drop_first=True)\n"
   ]
  },
  {
   "cell_type": "code",
   "execution_count": 17,
   "id": "43a8b610",
   "metadata": {},
   "outputs": [],
   "source": [
    "## label enc\n",
    "le = LabelEncoder()\n",
    "data[['BorrowerState','Occupation']] = data[['BorrowerState','Occupation']].apply(le.fit_transform)\n"
   ]
  },
  {
   "cell_type": "code",
   "execution_count": 18,
   "id": "f66dc2c0",
   "metadata": {},
   "outputs": [],
   "source": [
    "data = pd.concat([data.drop(obj,axis=1),dummies],axis=1)"
   ]
  },
  {
   "cell_type": "code",
   "execution_count": 19,
   "id": "4c7d79ed",
   "metadata": {},
   "outputs": [
    {
     "data": {
      "text/html": [
       "<div>\n",
       "<style scoped>\n",
       "    .dataframe tbody tr th:only-of-type {\n",
       "        vertical-align: middle;\n",
       "    }\n",
       "\n",
       "    .dataframe tbody tr th {\n",
       "        vertical-align: top;\n",
       "    }\n",
       "\n",
       "    .dataframe thead th {\n",
       "        text-align: right;\n",
       "    }\n",
       "</style>\n",
       "<table border=\"1\" class=\"dataframe\">\n",
       "  <thead>\n",
       "    <tr style=\"text-align: right;\">\n",
       "      <th></th>\n",
       "    </tr>\n",
       "  </thead>\n",
       "  <tbody>\n",
       "    <tr>\n",
       "      <th>0</th>\n",
       "    </tr>\n",
       "    <tr>\n",
       "      <th>1</th>\n",
       "    </tr>\n",
       "    <tr>\n",
       "      <th>2</th>\n",
       "    </tr>\n",
       "    <tr>\n",
       "      <th>3</th>\n",
       "    </tr>\n",
       "    <tr>\n",
       "      <th>4</th>\n",
       "    </tr>\n",
       "    <tr>\n",
       "      <th>...</th>\n",
       "    </tr>\n",
       "    <tr>\n",
       "      <th>113932</th>\n",
       "    </tr>\n",
       "    <tr>\n",
       "      <th>113933</th>\n",
       "    </tr>\n",
       "    <tr>\n",
       "      <th>113934</th>\n",
       "    </tr>\n",
       "    <tr>\n",
       "      <th>113935</th>\n",
       "    </tr>\n",
       "    <tr>\n",
       "      <th>113936</th>\n",
       "    </tr>\n",
       "  </tbody>\n",
       "</table>\n",
       "<p>113937 rows × 0 columns</p>\n",
       "</div>"
      ],
      "text/plain": [
       "Empty DataFrame\n",
       "Columns: []\n",
       "Index: [0, 1, 2, 3, 4, 5, 6, 7, 8, 9, 10, 11, 12, 13, 14, 15, 16, 17, 18, 19, 20, 21, 22, 23, 24, 25, 26, 27, 28, 29, 30, 31, 32, 33, 34, 35, 36, 37, 38, 39, 40, 41, 42, 43, 44, 45, 46, 47, 48, 49, 50, 51, 52, 53, 54, 55, 56, 57, 58, 59, 60, 61, 62, 63, 64, 65, 66, 67, 68, 69, 70, 71, 72, 73, 74, 75, 76, 77, 78, 79, 80, 81, 82, 83, 84, 85, 86, 87, 88, 89, 90, 91, 92, 93, 94, 95, 96, 97, 98, 99, ...]\n",
       "\n",
       "[113937 rows x 0 columns]"
      ]
     },
     "execution_count": 19,
     "metadata": {},
     "output_type": "execute_result"
    }
   ],
   "source": [
    "data.select_dtypes('object')"
   ]
  },
  {
   "cell_type": "code",
   "execution_count": 20,
   "id": "cbaf39e0",
   "metadata": {
    "scrolled": false
   },
   "outputs": [
    {
     "data": {
      "text/html": [
       "<div>\n",
       "<style scoped>\n",
       "    .dataframe tbody tr th:only-of-type {\n",
       "        vertical-align: middle;\n",
       "    }\n",
       "\n",
       "    .dataframe tbody tr th {\n",
       "        vertical-align: top;\n",
       "    }\n",
       "\n",
       "    .dataframe thead th {\n",
       "        text-align: right;\n",
       "    }\n",
       "</style>\n",
       "<table border=\"1\" class=\"dataframe\">\n",
       "  <thead>\n",
       "    <tr style=\"text-align: right;\">\n",
       "      <th></th>\n",
       "      <th>Term</th>\n",
       "      <th>BorrowerAPR</th>\n",
       "      <th>BorrowerRate</th>\n",
       "      <th>LenderYield</th>\n",
       "      <th>EstimatedEffectiveYield</th>\n",
       "      <th>EstimatedLoss</th>\n",
       "      <th>EstimatedReturn</th>\n",
       "      <th>ProsperScore</th>\n",
       "      <th>ListingCategory (numeric)</th>\n",
       "      <th>EmploymentStatusDuration</th>\n",
       "      <th>...</th>\n",
       "      <th>LoanOriginationQuarter_Q3 2013</th>\n",
       "      <th>LoanOriginationQuarter_Q4 2005</th>\n",
       "      <th>LoanOriginationQuarter_Q4 2006</th>\n",
       "      <th>LoanOriginationQuarter_Q4 2007</th>\n",
       "      <th>LoanOriginationQuarter_Q4 2008</th>\n",
       "      <th>LoanOriginationQuarter_Q4 2009</th>\n",
       "      <th>LoanOriginationQuarter_Q4 2010</th>\n",
       "      <th>LoanOriginationQuarter_Q4 2011</th>\n",
       "      <th>LoanOriginationQuarter_Q4 2012</th>\n",
       "      <th>LoanOriginationQuarter_Q4 2013</th>\n",
       "    </tr>\n",
       "  </thead>\n",
       "  <tbody>\n",
       "    <tr>\n",
       "      <th>0</th>\n",
       "      <td>36</td>\n",
       "      <td>0.16516</td>\n",
       "      <td>0.1580</td>\n",
       "      <td>0.1380</td>\n",
       "      <td>0.16150</td>\n",
       "      <td>0.0724</td>\n",
       "      <td>0.09170</td>\n",
       "      <td>6.0</td>\n",
       "      <td>0</td>\n",
       "      <td>2.0</td>\n",
       "      <td>...</td>\n",
       "      <td>0</td>\n",
       "      <td>0</td>\n",
       "      <td>0</td>\n",
       "      <td>0</td>\n",
       "      <td>0</td>\n",
       "      <td>0</td>\n",
       "      <td>0</td>\n",
       "      <td>0</td>\n",
       "      <td>0</td>\n",
       "      <td>0</td>\n",
       "    </tr>\n",
       "    <tr>\n",
       "      <th>1</th>\n",
       "      <td>36</td>\n",
       "      <td>0.12016</td>\n",
       "      <td>0.0920</td>\n",
       "      <td>0.0820</td>\n",
       "      <td>0.07960</td>\n",
       "      <td>0.0249</td>\n",
       "      <td>0.05470</td>\n",
       "      <td>7.0</td>\n",
       "      <td>2</td>\n",
       "      <td>44.0</td>\n",
       "      <td>...</td>\n",
       "      <td>0</td>\n",
       "      <td>0</td>\n",
       "      <td>0</td>\n",
       "      <td>0</td>\n",
       "      <td>0</td>\n",
       "      <td>0</td>\n",
       "      <td>0</td>\n",
       "      <td>0</td>\n",
       "      <td>0</td>\n",
       "      <td>0</td>\n",
       "    </tr>\n",
       "    <tr>\n",
       "      <th>2</th>\n",
       "      <td>36</td>\n",
       "      <td>0.28269</td>\n",
       "      <td>0.2750</td>\n",
       "      <td>0.2400</td>\n",
       "      <td>0.16150</td>\n",
       "      <td>0.0724</td>\n",
       "      <td>0.09170</td>\n",
       "      <td>6.0</td>\n",
       "      <td>0</td>\n",
       "      <td>67.0</td>\n",
       "      <td>...</td>\n",
       "      <td>0</td>\n",
       "      <td>0</td>\n",
       "      <td>0</td>\n",
       "      <td>0</td>\n",
       "      <td>0</td>\n",
       "      <td>0</td>\n",
       "      <td>0</td>\n",
       "      <td>0</td>\n",
       "      <td>0</td>\n",
       "      <td>0</td>\n",
       "    </tr>\n",
       "    <tr>\n",
       "      <th>3</th>\n",
       "      <td>36</td>\n",
       "      <td>0.12528</td>\n",
       "      <td>0.0974</td>\n",
       "      <td>0.0874</td>\n",
       "      <td>0.08490</td>\n",
       "      <td>0.0249</td>\n",
       "      <td>0.06000</td>\n",
       "      <td>9.0</td>\n",
       "      <td>6</td>\n",
       "      <td>113.0</td>\n",
       "      <td>...</td>\n",
       "      <td>0</td>\n",
       "      <td>0</td>\n",
       "      <td>0</td>\n",
       "      <td>0</td>\n",
       "      <td>0</td>\n",
       "      <td>0</td>\n",
       "      <td>0</td>\n",
       "      <td>0</td>\n",
       "      <td>1</td>\n",
       "      <td>0</td>\n",
       "    </tr>\n",
       "    <tr>\n",
       "      <th>4</th>\n",
       "      <td>36</td>\n",
       "      <td>0.24614</td>\n",
       "      <td>0.2085</td>\n",
       "      <td>0.1985</td>\n",
       "      <td>0.18316</td>\n",
       "      <td>0.0925</td>\n",
       "      <td>0.09066</td>\n",
       "      <td>4.0</td>\n",
       "      <td>2</td>\n",
       "      <td>44.0</td>\n",
       "      <td>...</td>\n",
       "      <td>1</td>\n",
       "      <td>0</td>\n",
       "      <td>0</td>\n",
       "      <td>0</td>\n",
       "      <td>0</td>\n",
       "      <td>0</td>\n",
       "      <td>0</td>\n",
       "      <td>0</td>\n",
       "      <td>0</td>\n",
       "      <td>0</td>\n",
       "    </tr>\n",
       "    <tr>\n",
       "      <th>...</th>\n",
       "      <td>...</td>\n",
       "      <td>...</td>\n",
       "      <td>...</td>\n",
       "      <td>...</td>\n",
       "      <td>...</td>\n",
       "      <td>...</td>\n",
       "      <td>...</td>\n",
       "      <td>...</td>\n",
       "      <td>...</td>\n",
       "      <td>...</td>\n",
       "      <td>...</td>\n",
       "      <td>...</td>\n",
       "      <td>...</td>\n",
       "      <td>...</td>\n",
       "      <td>...</td>\n",
       "      <td>...</td>\n",
       "      <td>...</td>\n",
       "      <td>...</td>\n",
       "      <td>...</td>\n",
       "      <td>...</td>\n",
       "      <td>...</td>\n",
       "    </tr>\n",
       "    <tr>\n",
       "      <th>113932</th>\n",
       "      <td>36</td>\n",
       "      <td>0.22354</td>\n",
       "      <td>0.1864</td>\n",
       "      <td>0.1764</td>\n",
       "      <td>0.16490</td>\n",
       "      <td>0.0699</td>\n",
       "      <td>0.09500</td>\n",
       "      <td>5.0</td>\n",
       "      <td>1</td>\n",
       "      <td>246.0</td>\n",
       "      <td>...</td>\n",
       "      <td>0</td>\n",
       "      <td>0</td>\n",
       "      <td>0</td>\n",
       "      <td>0</td>\n",
       "      <td>0</td>\n",
       "      <td>0</td>\n",
       "      <td>0</td>\n",
       "      <td>0</td>\n",
       "      <td>0</td>\n",
       "      <td>0</td>\n",
       "    </tr>\n",
       "    <tr>\n",
       "      <th>113933</th>\n",
       "      <td>36</td>\n",
       "      <td>0.13220</td>\n",
       "      <td>0.1110</td>\n",
       "      <td>0.1010</td>\n",
       "      <td>0.10070</td>\n",
       "      <td>0.0200</td>\n",
       "      <td>0.08070</td>\n",
       "      <td>8.0</td>\n",
       "      <td>6</td>\n",
       "      <td>21.0</td>\n",
       "      <td>...</td>\n",
       "      <td>0</td>\n",
       "      <td>0</td>\n",
       "      <td>0</td>\n",
       "      <td>0</td>\n",
       "      <td>0</td>\n",
       "      <td>0</td>\n",
       "      <td>0</td>\n",
       "      <td>1</td>\n",
       "      <td>0</td>\n",
       "      <td>0</td>\n",
       "    </tr>\n",
       "    <tr>\n",
       "      <th>113934</th>\n",
       "      <td>36</td>\n",
       "      <td>0.23984</td>\n",
       "      <td>0.2150</td>\n",
       "      <td>0.2050</td>\n",
       "      <td>0.18828</td>\n",
       "      <td>0.1025</td>\n",
       "      <td>0.08578</td>\n",
       "      <td>3.0</td>\n",
       "      <td>1</td>\n",
       "      <td>84.0</td>\n",
       "      <td>...</td>\n",
       "      <td>0</td>\n",
       "      <td>0</td>\n",
       "      <td>0</td>\n",
       "      <td>0</td>\n",
       "      <td>0</td>\n",
       "      <td>0</td>\n",
       "      <td>0</td>\n",
       "      <td>0</td>\n",
       "      <td>0</td>\n",
       "      <td>1</td>\n",
       "    </tr>\n",
       "    <tr>\n",
       "      <th>113935</th>\n",
       "      <td>36</td>\n",
       "      <td>0.28408</td>\n",
       "      <td>0.2605</td>\n",
       "      <td>0.2505</td>\n",
       "      <td>0.24450</td>\n",
       "      <td>0.0850</td>\n",
       "      <td>0.15142</td>\n",
       "      <td>5.0</td>\n",
       "      <td>2</td>\n",
       "      <td>94.0</td>\n",
       "      <td>...</td>\n",
       "      <td>0</td>\n",
       "      <td>0</td>\n",
       "      <td>0</td>\n",
       "      <td>0</td>\n",
       "      <td>0</td>\n",
       "      <td>0</td>\n",
       "      <td>0</td>\n",
       "      <td>1</td>\n",
       "      <td>0</td>\n",
       "      <td>0</td>\n",
       "    </tr>\n",
       "    <tr>\n",
       "      <th>113936</th>\n",
       "      <td>36</td>\n",
       "      <td>0.13189</td>\n",
       "      <td>0.1039</td>\n",
       "      <td>0.0939</td>\n",
       "      <td>0.09071</td>\n",
       "      <td>0.0299</td>\n",
       "      <td>0.06081</td>\n",
       "      <td>7.0</td>\n",
       "      <td>1</td>\n",
       "      <td>244.0</td>\n",
       "      <td>...</td>\n",
       "      <td>0</td>\n",
       "      <td>0</td>\n",
       "      <td>0</td>\n",
       "      <td>0</td>\n",
       "      <td>0</td>\n",
       "      <td>0</td>\n",
       "      <td>0</td>\n",
       "      <td>0</td>\n",
       "      <td>0</td>\n",
       "      <td>0</td>\n",
       "    </tr>\n",
       "  </tbody>\n",
       "</table>\n",
       "<p>113937 rows × 130 columns</p>\n",
       "</div>"
      ],
      "text/plain": [
       "        Term  BorrowerAPR  BorrowerRate  LenderYield  EstimatedEffectiveYield  \\\n",
       "0         36      0.16516        0.1580       0.1380                  0.16150   \n",
       "1         36      0.12016        0.0920       0.0820                  0.07960   \n",
       "2         36      0.28269        0.2750       0.2400                  0.16150   \n",
       "3         36      0.12528        0.0974       0.0874                  0.08490   \n",
       "4         36      0.24614        0.2085       0.1985                  0.18316   \n",
       "...      ...          ...           ...          ...                      ...   \n",
       "113932    36      0.22354        0.1864       0.1764                  0.16490   \n",
       "113933    36      0.13220        0.1110       0.1010                  0.10070   \n",
       "113934    36      0.23984        0.2150       0.2050                  0.18828   \n",
       "113935    36      0.28408        0.2605       0.2505                  0.24450   \n",
       "113936    36      0.13189        0.1039       0.0939                  0.09071   \n",
       "\n",
       "        EstimatedLoss  EstimatedReturn  ProsperScore  \\\n",
       "0              0.0724          0.09170           6.0   \n",
       "1              0.0249          0.05470           7.0   \n",
       "2              0.0724          0.09170           6.0   \n",
       "3              0.0249          0.06000           9.0   \n",
       "4              0.0925          0.09066           4.0   \n",
       "...               ...              ...           ...   \n",
       "113932         0.0699          0.09500           5.0   \n",
       "113933         0.0200          0.08070           8.0   \n",
       "113934         0.1025          0.08578           3.0   \n",
       "113935         0.0850          0.15142           5.0   \n",
       "113936         0.0299          0.06081           7.0   \n",
       "\n",
       "        ListingCategory (numeric)  EmploymentStatusDuration  ...  \\\n",
       "0                               0                       2.0  ...   \n",
       "1                               2                      44.0  ...   \n",
       "2                               0                      67.0  ...   \n",
       "3                               6                     113.0  ...   \n",
       "4                               2                      44.0  ...   \n",
       "...                           ...                       ...  ...   \n",
       "113932                          1                     246.0  ...   \n",
       "113933                          6                      21.0  ...   \n",
       "113934                          1                      84.0  ...   \n",
       "113935                          2                      94.0  ...   \n",
       "113936                          1                     244.0  ...   \n",
       "\n",
       "        LoanOriginationQuarter_Q3 2013  LoanOriginationQuarter_Q4 2005  \\\n",
       "0                                    0                               0   \n",
       "1                                    0                               0   \n",
       "2                                    0                               0   \n",
       "3                                    0                               0   \n",
       "4                                    1                               0   \n",
       "...                                ...                             ...   \n",
       "113932                               0                               0   \n",
       "113933                               0                               0   \n",
       "113934                               0                               0   \n",
       "113935                               0                               0   \n",
       "113936                               0                               0   \n",
       "\n",
       "        LoanOriginationQuarter_Q4 2006  LoanOriginationQuarter_Q4 2007  \\\n",
       "0                                    0                               0   \n",
       "1                                    0                               0   \n",
       "2                                    0                               0   \n",
       "3                                    0                               0   \n",
       "4                                    0                               0   \n",
       "...                                ...                             ...   \n",
       "113932                               0                               0   \n",
       "113933                               0                               0   \n",
       "113934                               0                               0   \n",
       "113935                               0                               0   \n",
       "113936                               0                               0   \n",
       "\n",
       "        LoanOriginationQuarter_Q4 2008  LoanOriginationQuarter_Q4 2009  \\\n",
       "0                                    0                               0   \n",
       "1                                    0                               0   \n",
       "2                                    0                               0   \n",
       "3                                    0                               0   \n",
       "4                                    0                               0   \n",
       "...                                ...                             ...   \n",
       "113932                               0                               0   \n",
       "113933                               0                               0   \n",
       "113934                               0                               0   \n",
       "113935                               0                               0   \n",
       "113936                               0                               0   \n",
       "\n",
       "        LoanOriginationQuarter_Q4 2010  LoanOriginationQuarter_Q4 2011  \\\n",
       "0                                    0                               0   \n",
       "1                                    0                               0   \n",
       "2                                    0                               0   \n",
       "3                                    0                               0   \n",
       "4                                    0                               0   \n",
       "...                                ...                             ...   \n",
       "113932                               0                               0   \n",
       "113933                               0                               1   \n",
       "113934                               0                               0   \n",
       "113935                               0                               1   \n",
       "113936                               0                               0   \n",
       "\n",
       "        LoanOriginationQuarter_Q4 2012  LoanOriginationQuarter_Q4 2013  \n",
       "0                                    0                               0  \n",
       "1                                    0                               0  \n",
       "2                                    0                               0  \n",
       "3                                    1                               0  \n",
       "4                                    0                               0  \n",
       "...                                ...                             ...  \n",
       "113932                               0                               0  \n",
       "113933                               0                               0  \n",
       "113934                               0                               1  \n",
       "113935                               0                               0  \n",
       "113936                               0                               0  \n",
       "\n",
       "[113937 rows x 130 columns]"
      ]
     },
     "execution_count": 20,
     "metadata": {},
     "output_type": "execute_result"
    }
   ],
   "source": [
    "data"
   ]
  },
  {
   "cell_type": "code",
   "execution_count": 21,
   "id": "67ade84d",
   "metadata": {},
   "outputs": [
    {
     "data": {
      "text/plain": [
       "178635"
      ]
     },
     "execution_count": 21,
     "metadata": {},
     "output_type": "execute_result"
    }
   ],
   "source": [
    "data.isnull().sum().sum()"
   ]
  },
  {
   "cell_type": "code",
   "execution_count": 25,
   "id": "c3ccac46",
   "metadata": {},
   "outputs": [
    {
     "data": {
      "text/plain": [
       "76"
      ]
     },
     "execution_count": 25,
     "metadata": {},
     "output_type": "execute_result"
    }
   ],
   "source": [
    "data.columns.get_loc('Status')"
   ]
  },
  {
   "cell_type": "markdown",
   "id": "029ffae3",
   "metadata": {},
   "source": [
    "# Spliting the data"
   ]
  },
  {
   "cell_type": "code",
   "execution_count": 27,
   "id": "d3645e18",
   "metadata": {},
   "outputs": [],
   "source": [
    "data = data.dropna(how='any',axis=0) "
   ]
  },
  {
   "cell_type": "code",
   "execution_count": 28,
   "id": "67500e4a",
   "metadata": {
    "scrolled": true
   },
   "outputs": [
    {
     "data": {
      "text/html": [
       "<div>\n",
       "<style scoped>\n",
       "    .dataframe tbody tr th:only-of-type {\n",
       "        vertical-align: middle;\n",
       "    }\n",
       "\n",
       "    .dataframe tbody tr th {\n",
       "        vertical-align: top;\n",
       "    }\n",
       "\n",
       "    .dataframe thead th {\n",
       "        text-align: right;\n",
       "    }\n",
       "</style>\n",
       "<table border=\"1\" class=\"dataframe\">\n",
       "  <thead>\n",
       "    <tr style=\"text-align: right;\">\n",
       "      <th></th>\n",
       "      <th>Term</th>\n",
       "      <th>BorrowerAPR</th>\n",
       "      <th>BorrowerRate</th>\n",
       "      <th>LenderYield</th>\n",
       "      <th>EstimatedEffectiveYield</th>\n",
       "      <th>EstimatedLoss</th>\n",
       "      <th>EstimatedReturn</th>\n",
       "      <th>ProsperScore</th>\n",
       "      <th>ListingCategory (numeric)</th>\n",
       "      <th>EmploymentStatusDuration</th>\n",
       "      <th>...</th>\n",
       "      <th>LoanOriginationQuarter_Q4 2005</th>\n",
       "      <th>LoanOriginationQuarter_Q4 2006</th>\n",
       "      <th>LoanOriginationQuarter_Q4 2007</th>\n",
       "      <th>LoanOriginationQuarter_Q4 2008</th>\n",
       "      <th>LoanOriginationQuarter_Q4 2009</th>\n",
       "      <th>LoanOriginationQuarter_Q4 2010</th>\n",
       "      <th>LoanOriginationQuarter_Q4 2011</th>\n",
       "      <th>LoanOriginationQuarter_Q4 2012</th>\n",
       "      <th>LoanOriginationQuarter_Q4 2013</th>\n",
       "      <th>Status</th>\n",
       "    </tr>\n",
       "  </thead>\n",
       "  <tbody>\n",
       "    <tr>\n",
       "      <th>0</th>\n",
       "      <td>36</td>\n",
       "      <td>0.16516</td>\n",
       "      <td>0.1580</td>\n",
       "      <td>0.1380</td>\n",
       "      <td>0.1615</td>\n",
       "      <td>0.0724</td>\n",
       "      <td>0.09170</td>\n",
       "      <td>6.0</td>\n",
       "      <td>0</td>\n",
       "      <td>2.0</td>\n",
       "      <td>...</td>\n",
       "      <td>0</td>\n",
       "      <td>0</td>\n",
       "      <td>0</td>\n",
       "      <td>0</td>\n",
       "      <td>0</td>\n",
       "      <td>0</td>\n",
       "      <td>0</td>\n",
       "      <td>0</td>\n",
       "      <td>0</td>\n",
       "      <td>1</td>\n",
       "    </tr>\n",
       "    <tr>\n",
       "      <th>2</th>\n",
       "      <td>36</td>\n",
       "      <td>0.28269</td>\n",
       "      <td>0.2750</td>\n",
       "      <td>0.2400</td>\n",
       "      <td>0.1615</td>\n",
       "      <td>0.0724</td>\n",
       "      <td>0.09170</td>\n",
       "      <td>6.0</td>\n",
       "      <td>0</td>\n",
       "      <td>67.0</td>\n",
       "      <td>...</td>\n",
       "      <td>0</td>\n",
       "      <td>0</td>\n",
       "      <td>0</td>\n",
       "      <td>0</td>\n",
       "      <td>0</td>\n",
       "      <td>0</td>\n",
       "      <td>0</td>\n",
       "      <td>0</td>\n",
       "      <td>0</td>\n",
       "      <td>1</td>\n",
       "    </tr>\n",
       "    <tr>\n",
       "      <th>11</th>\n",
       "      <td>36</td>\n",
       "      <td>0.15033</td>\n",
       "      <td>0.1325</td>\n",
       "      <td>0.1225</td>\n",
       "      <td>0.1615</td>\n",
       "      <td>0.0724</td>\n",
       "      <td>0.09170</td>\n",
       "      <td>6.0</td>\n",
       "      <td>0</td>\n",
       "      <td>19.0</td>\n",
       "      <td>...</td>\n",
       "      <td>0</td>\n",
       "      <td>0</td>\n",
       "      <td>1</td>\n",
       "      <td>0</td>\n",
       "      <td>0</td>\n",
       "      <td>0</td>\n",
       "      <td>0</td>\n",
       "      <td>0</td>\n",
       "      <td>0</td>\n",
       "      <td>1</td>\n",
       "    </tr>\n",
       "    <tr>\n",
       "      <th>15</th>\n",
       "      <td>36</td>\n",
       "      <td>0.35797</td>\n",
       "      <td>0.3177</td>\n",
       "      <td>0.3077</td>\n",
       "      <td>0.2891</td>\n",
       "      <td>0.1614</td>\n",
       "      <td>0.12460</td>\n",
       "      <td>5.0</td>\n",
       "      <td>6</td>\n",
       "      <td>121.0</td>\n",
       "      <td>...</td>\n",
       "      <td>0</td>\n",
       "      <td>0</td>\n",
       "      <td>0</td>\n",
       "      <td>0</td>\n",
       "      <td>0</td>\n",
       "      <td>0</td>\n",
       "      <td>0</td>\n",
       "      <td>0</td>\n",
       "      <td>0</td>\n",
       "      <td>0</td>\n",
       "    </tr>\n",
       "    <tr>\n",
       "      <th>17</th>\n",
       "      <td>36</td>\n",
       "      <td>0.13202</td>\n",
       "      <td>0.1250</td>\n",
       "      <td>0.1175</td>\n",
       "      <td>0.1615</td>\n",
       "      <td>0.0724</td>\n",
       "      <td>0.09170</td>\n",
       "      <td>6.0</td>\n",
       "      <td>0</td>\n",
       "      <td>67.0</td>\n",
       "      <td>...</td>\n",
       "      <td>0</td>\n",
       "      <td>0</td>\n",
       "      <td>0</td>\n",
       "      <td>0</td>\n",
       "      <td>0</td>\n",
       "      <td>0</td>\n",
       "      <td>0</td>\n",
       "      <td>0</td>\n",
       "      <td>0</td>\n",
       "      <td>0</td>\n",
       "    </tr>\n",
       "    <tr>\n",
       "      <th>...</th>\n",
       "      <td>...</td>\n",
       "      <td>...</td>\n",
       "      <td>...</td>\n",
       "      <td>...</td>\n",
       "      <td>...</td>\n",
       "      <td>...</td>\n",
       "      <td>...</td>\n",
       "      <td>...</td>\n",
       "      <td>...</td>\n",
       "      <td>...</td>\n",
       "      <td>...</td>\n",
       "      <td>...</td>\n",
       "      <td>...</td>\n",
       "      <td>...</td>\n",
       "      <td>...</td>\n",
       "      <td>...</td>\n",
       "      <td>...</td>\n",
       "      <td>...</td>\n",
       "      <td>...</td>\n",
       "      <td>...</td>\n",
       "      <td>...</td>\n",
       "    </tr>\n",
       "    <tr>\n",
       "      <th>113926</th>\n",
       "      <td>36</td>\n",
       "      <td>0.29776</td>\n",
       "      <td>0.2900</td>\n",
       "      <td>0.2850</td>\n",
       "      <td>0.1615</td>\n",
       "      <td>0.0724</td>\n",
       "      <td>0.09170</td>\n",
       "      <td>6.0</td>\n",
       "      <td>0</td>\n",
       "      <td>67.0</td>\n",
       "      <td>...</td>\n",
       "      <td>0</td>\n",
       "      <td>0</td>\n",
       "      <td>0</td>\n",
       "      <td>0</td>\n",
       "      <td>0</td>\n",
       "      <td>0</td>\n",
       "      <td>0</td>\n",
       "      <td>0</td>\n",
       "      <td>0</td>\n",
       "      <td>0</td>\n",
       "    </tr>\n",
       "    <tr>\n",
       "      <th>113927</th>\n",
       "      <td>36</td>\n",
       "      <td>0.07469</td>\n",
       "      <td>0.0679</td>\n",
       "      <td>0.0579</td>\n",
       "      <td>0.1615</td>\n",
       "      <td>0.0724</td>\n",
       "      <td>0.09170</td>\n",
       "      <td>6.0</td>\n",
       "      <td>4</td>\n",
       "      <td>69.0</td>\n",
       "      <td>...</td>\n",
       "      <td>0</td>\n",
       "      <td>0</td>\n",
       "      <td>0</td>\n",
       "      <td>0</td>\n",
       "      <td>0</td>\n",
       "      <td>0</td>\n",
       "      <td>0</td>\n",
       "      <td>0</td>\n",
       "      <td>0</td>\n",
       "      <td>1</td>\n",
       "    </tr>\n",
       "    <tr>\n",
       "      <th>113928</th>\n",
       "      <td>36</td>\n",
       "      <td>0.22362</td>\n",
       "      <td>0.1899</td>\n",
       "      <td>0.1799</td>\n",
       "      <td>0.1757</td>\n",
       "      <td>0.0610</td>\n",
       "      <td>0.11470</td>\n",
       "      <td>6.0</td>\n",
       "      <td>3</td>\n",
       "      <td>22.0</td>\n",
       "      <td>...</td>\n",
       "      <td>0</td>\n",
       "      <td>0</td>\n",
       "      <td>0</td>\n",
       "      <td>0</td>\n",
       "      <td>0</td>\n",
       "      <td>0</td>\n",
       "      <td>0</td>\n",
       "      <td>0</td>\n",
       "      <td>0</td>\n",
       "      <td>1</td>\n",
       "    </tr>\n",
       "    <tr>\n",
       "      <th>113929</th>\n",
       "      <td>36</td>\n",
       "      <td>0.30285</td>\n",
       "      <td>0.2639</td>\n",
       "      <td>0.2539</td>\n",
       "      <td>0.2318</td>\n",
       "      <td>0.1225</td>\n",
       "      <td>0.10930</td>\n",
       "      <td>3.0</td>\n",
       "      <td>2</td>\n",
       "      <td>25.0</td>\n",
       "      <td>...</td>\n",
       "      <td>0</td>\n",
       "      <td>0</td>\n",
       "      <td>0</td>\n",
       "      <td>0</td>\n",
       "      <td>0</td>\n",
       "      <td>0</td>\n",
       "      <td>0</td>\n",
       "      <td>0</td>\n",
       "      <td>0</td>\n",
       "      <td>1</td>\n",
       "    </tr>\n",
       "    <tr>\n",
       "      <th>113935</th>\n",
       "      <td>36</td>\n",
       "      <td>0.28408</td>\n",
       "      <td>0.2605</td>\n",
       "      <td>0.2505</td>\n",
       "      <td>0.2445</td>\n",
       "      <td>0.0850</td>\n",
       "      <td>0.15142</td>\n",
       "      <td>5.0</td>\n",
       "      <td>2</td>\n",
       "      <td>94.0</td>\n",
       "      <td>...</td>\n",
       "      <td>0</td>\n",
       "      <td>0</td>\n",
       "      <td>0</td>\n",
       "      <td>0</td>\n",
       "      <td>0</td>\n",
       "      <td>0</td>\n",
       "      <td>1</td>\n",
       "      <td>0</td>\n",
       "      <td>0</td>\n",
       "      <td>1</td>\n",
       "    </tr>\n",
       "  </tbody>\n",
       "</table>\n",
       "<p>54392 rows × 130 columns</p>\n",
       "</div>"
      ],
      "text/plain": [
       "        Term  BorrowerAPR  BorrowerRate  LenderYield  EstimatedEffectiveYield  \\\n",
       "0         36      0.16516        0.1580       0.1380                   0.1615   \n",
       "2         36      0.28269        0.2750       0.2400                   0.1615   \n",
       "11        36      0.15033        0.1325       0.1225                   0.1615   \n",
       "15        36      0.35797        0.3177       0.3077                   0.2891   \n",
       "17        36      0.13202        0.1250       0.1175                   0.1615   \n",
       "...      ...          ...           ...          ...                      ...   \n",
       "113926    36      0.29776        0.2900       0.2850                   0.1615   \n",
       "113927    36      0.07469        0.0679       0.0579                   0.1615   \n",
       "113928    36      0.22362        0.1899       0.1799                   0.1757   \n",
       "113929    36      0.30285        0.2639       0.2539                   0.2318   \n",
       "113935    36      0.28408        0.2605       0.2505                   0.2445   \n",
       "\n",
       "        EstimatedLoss  EstimatedReturn  ProsperScore  \\\n",
       "0              0.0724          0.09170           6.0   \n",
       "2              0.0724          0.09170           6.0   \n",
       "11             0.0724          0.09170           6.0   \n",
       "15             0.1614          0.12460           5.0   \n",
       "17             0.0724          0.09170           6.0   \n",
       "...               ...              ...           ...   \n",
       "113926         0.0724          0.09170           6.0   \n",
       "113927         0.0724          0.09170           6.0   \n",
       "113928         0.0610          0.11470           6.0   \n",
       "113929         0.1225          0.10930           3.0   \n",
       "113935         0.0850          0.15142           5.0   \n",
       "\n",
       "        ListingCategory (numeric)  EmploymentStatusDuration  ...  \\\n",
       "0                               0                       2.0  ...   \n",
       "2                               0                      67.0  ...   \n",
       "11                              0                      19.0  ...   \n",
       "15                              6                     121.0  ...   \n",
       "17                              0                      67.0  ...   \n",
       "...                           ...                       ...  ...   \n",
       "113926                          0                      67.0  ...   \n",
       "113927                          4                      69.0  ...   \n",
       "113928                          3                      22.0  ...   \n",
       "113929                          2                      25.0  ...   \n",
       "113935                          2                      94.0  ...   \n",
       "\n",
       "        LoanOriginationQuarter_Q4 2005  LoanOriginationQuarter_Q4 2006  \\\n",
       "0                                    0                               0   \n",
       "2                                    0                               0   \n",
       "11                                   0                               0   \n",
       "15                                   0                               0   \n",
       "17                                   0                               0   \n",
       "...                                ...                             ...   \n",
       "113926                               0                               0   \n",
       "113927                               0                               0   \n",
       "113928                               0                               0   \n",
       "113929                               0                               0   \n",
       "113935                               0                               0   \n",
       "\n",
       "        LoanOriginationQuarter_Q4 2007  LoanOriginationQuarter_Q4 2008  \\\n",
       "0                                    0                               0   \n",
       "2                                    0                               0   \n",
       "11                                   1                               0   \n",
       "15                                   0                               0   \n",
       "17                                   0                               0   \n",
       "...                                ...                             ...   \n",
       "113926                               0                               0   \n",
       "113927                               0                               0   \n",
       "113928                               0                               0   \n",
       "113929                               0                               0   \n",
       "113935                               0                               0   \n",
       "\n",
       "        LoanOriginationQuarter_Q4 2009  LoanOriginationQuarter_Q4 2010  \\\n",
       "0                                    0                               0   \n",
       "2                                    0                               0   \n",
       "11                                   0                               0   \n",
       "15                                   0                               0   \n",
       "17                                   0                               0   \n",
       "...                                ...                             ...   \n",
       "113926                               0                               0   \n",
       "113927                               0                               0   \n",
       "113928                               0                               0   \n",
       "113929                               0                               0   \n",
       "113935                               0                               0   \n",
       "\n",
       "        LoanOriginationQuarter_Q4 2011  LoanOriginationQuarter_Q4 2012  \\\n",
       "0                                    0                               0   \n",
       "2                                    0                               0   \n",
       "11                                   0                               0   \n",
       "15                                   0                               0   \n",
       "17                                   0                               0   \n",
       "...                                ...                             ...   \n",
       "113926                               0                               0   \n",
       "113927                               0                               0   \n",
       "113928                               0                               0   \n",
       "113929                               0                               0   \n",
       "113935                               1                               0   \n",
       "\n",
       "        LoanOriginationQuarter_Q4 2013  Status  \n",
       "0                                    0       1  \n",
       "2                                    0       1  \n",
       "11                                   0       1  \n",
       "15                                   0       0  \n",
       "17                                   0       0  \n",
       "...                                ...     ...  \n",
       "113926                               0       0  \n",
       "113927                               0       1  \n",
       "113928                               0       1  \n",
       "113929                               0       1  \n",
       "113935                               0       1  \n",
       "\n",
       "[54392 rows x 130 columns]"
      ]
     },
     "execution_count": 28,
     "metadata": {},
     "output_type": "execute_result"
    }
   ],
   "source": [
    "dataset =data.iloc[:,np.r_[0:76,77:130,76]]\n",
    "dataset"
   ]
  },
  {
   "cell_type": "code",
   "execution_count": 30,
   "id": "cc782565",
   "metadata": {},
   "outputs": [],
   "source": [
    "dataset = dataset.values"
   ]
  },
  {
   "cell_type": "code",
   "execution_count": 31,
   "id": "9948b7cd",
   "metadata": {},
   "outputs": [],
   "source": [
    "X= dataset[:,0:129]"
   ]
  },
  {
   "cell_type": "code",
   "execution_count": 43,
   "id": "6c49e122",
   "metadata": {},
   "outputs": [
    {
     "data": {
      "text/plain": [
       "array([[36, 0.16516, 0.158, ..., 0, 0, 0],\n",
       "       [36, 0.28269, 0.275, ..., 0, 0, 0],\n",
       "       [36, 0.15033, 0.1325, ..., 0, 0, 0],\n",
       "       ...,\n",
       "       [36, 0.22362, 0.1899, ..., 0, 0, 0],\n",
       "       [36, 0.30285, 0.2639, ..., 0, 0, 0],\n",
       "       [36, 0.28408, 0.2605, ..., 1, 0, 0]], dtype=object)"
      ]
     },
     "execution_count": 43,
     "metadata": {},
     "output_type": "execute_result"
    }
   ],
   "source": [
    "X"
   ]
  },
  {
   "cell_type": "code",
   "execution_count": 49,
   "id": "280071a3",
   "metadata": {},
   "outputs": [],
   "source": [
    "y = dataset[:,129]\n",
    "y =np.array(y, dtype='float')"
   ]
  },
  {
   "cell_type": "markdown",
   "id": "a9999d1d",
   "metadata": {},
   "source": [
    "# Preprocessing "
   ]
  },
  {
   "cell_type": "code",
   "execution_count": 50,
   "id": "30a77c04",
   "metadata": {},
   "outputs": [],
   "source": [
    "from sklearn import preprocessing\n",
    "min_max_scaler = preprocessing.MinMaxScaler()\n",
    "X_scale = min_max_scaler.fit_transform(X)"
   ]
  },
  {
   "cell_type": "code",
   "execution_count": 51,
   "id": "a924650e",
   "metadata": {},
   "outputs": [
    {
     "data": {
      "text/plain": [
       "array([[0.        , 0.38002491, 0.43888889, ..., 0.        , 0.        ,\n",
       "        0.        ],\n",
       "       [0.        , 0.66158785, 0.76388889, ..., 0.        , 0.        ,\n",
       "        0.        ],\n",
       "       [0.        , 0.34449715, 0.36805556, ..., 0.        , 0.        ,\n",
       "        0.        ],\n",
       "       ...,\n",
       "       [0.        , 0.5200757 , 0.5275    , ..., 0.        , 0.        ,\n",
       "        0.        ],\n",
       "       [0.        , 0.70988453, 0.73305556, ..., 0.        , 0.        ,\n",
       "        0.        ],\n",
       "       [0.        , 0.66491783, 0.72361111, ..., 1.        , 0.        ,\n",
       "        0.        ]])"
      ]
     },
     "execution_count": 51,
     "metadata": {},
     "output_type": "execute_result"
    }
   ],
   "source": [
    "X_scale"
   ]
  },
  {
   "cell_type": "code",
   "execution_count": 52,
   "id": "2d34e6cd",
   "metadata": {},
   "outputs": [],
   "source": [
    "from sklearn.model_selection import train_test_split\n",
    "X_train, X_val_and_test, y_train, y_val_and_test = train_test_split(X_scale, y, test_size=0.3)"
   ]
  },
  {
   "cell_type": "code",
   "execution_count": 53,
   "id": "6451aa7b",
   "metadata": {},
   "outputs": [],
   "source": [
    "X_val, X_test, y_val, y_test = train_test_split(X_val_and_test, y_val_and_test, test_size=0.5)"
   ]
  },
  {
   "cell_type": "markdown",
   "id": "97bb2f69",
   "metadata": {},
   "source": [
    "# Neural Nets "
   ]
  },
  {
   "cell_type": "code",
   "execution_count": 38,
   "id": "ee317524",
   "metadata": {
    "scrolled": false
   },
   "outputs": [
    {
     "name": "stderr",
     "output_type": "stream",
     "text": [
      "2022-07-28 10:54:16.061429: W tensorflow/stream_executor/platform/default/dso_loader.cc:64] Could not load dynamic library 'libcudart.so.11.0'; dlerror: libcudart.so.11.0: cannot open shared object file: No such file or directory\n",
      "2022-07-28 10:54:16.061463: I tensorflow/stream_executor/cuda/cudart_stub.cc:29] Ignore above cudart dlerror if you do not have a GPU set up on your machine.\n"
     ]
    }
   ],
   "source": [
    "from keras.models import Sequential\n",
    "from keras.layers import Dense"
   ]
  },
  {
   "cell_type": "markdown",
   "id": "745d9341",
   "metadata": {},
   "source": [
    "# Model1\n"
   ]
  },
  {
   "cell_type": "code",
   "execution_count": null,
   "id": "ff5e0830",
   "metadata": {},
   "outputs": [],
   "source": [
    "\n",
    "model = Sequential([\n",
    "    Dense(1000, activation='relu', input_shape=(129,)),\n",
    "    Dense(1000, activation='relu'),\n",
    "    Dense(1000, activation='relu'),\n",
    "    Dense(1000, activation='relu'),\n",
    "    Dense(1, activation='sigmoid'),\n",
    "])"
   ]
  },
  {
   "cell_type": "code",
   "execution_count": 57,
   "id": "22863a1b",
   "metadata": {},
   "outputs": [],
   "source": [
    "model.compile(optimizer='adam',\n",
    "              loss='binary_crossentropy',\n",
    "              metrics=['accuracy'])"
   ]
  },
  {
   "cell_type": "code",
   "execution_count": 58,
   "id": "b335ad90",
   "metadata": {
    "scrolled": true
   },
   "outputs": [
    {
     "name": "stdout",
     "output_type": "stream",
     "text": [
      "Epoch 1/50\n",
      "1190/1190 [==============================] - 31s 25ms/step - loss: 0.1807 - accuracy: 0.9304 - val_loss: 0.1403 - val_accuracy: 0.9543\n",
      "Epoch 2/50\n",
      "1190/1190 [==============================] - 40s 34ms/step - loss: 0.1145 - accuracy: 0.9607 - val_loss: 0.1177 - val_accuracy: 0.9588\n",
      "Epoch 3/50\n",
      "1190/1190 [==============================] - 39s 32ms/step - loss: 0.1003 - accuracy: 0.9663 - val_loss: 0.0999 - val_accuracy: 0.9657\n",
      "Epoch 4/50\n",
      "1190/1190 [==============================] - 38s 32ms/step - loss: 0.0912 - accuracy: 0.9696 - val_loss: 0.1137 - val_accuracy: 0.9648\n",
      "Epoch 5/50\n",
      "1190/1190 [==============================] - 35s 29ms/step - loss: 0.0828 - accuracy: 0.9732 - val_loss: 0.0933 - val_accuracy: 0.9711\n",
      "Epoch 6/50\n",
      "1190/1190 [==============================] - 37s 31ms/step - loss: 0.0787 - accuracy: 0.9739 - val_loss: 0.0876 - val_accuracy: 0.9745\n",
      "Epoch 7/50\n",
      "1190/1190 [==============================] - 38s 32ms/step - loss: 0.0732 - accuracy: 0.9763 - val_loss: 0.0778 - val_accuracy: 0.9766\n",
      "Epoch 8/50\n",
      "1190/1190 [==============================] - 37s 31ms/step - loss: 0.0706 - accuracy: 0.9767 - val_loss: 0.0812 - val_accuracy: 0.9736\n",
      "Epoch 9/50\n",
      "1190/1190 [==============================] - 35s 29ms/step - loss: 0.0664 - accuracy: 0.9782 - val_loss: 0.0940 - val_accuracy: 0.9723\n",
      "Epoch 10/50\n",
      "1190/1190 [==============================] - 36s 30ms/step - loss: 0.0631 - accuracy: 0.9784 - val_loss: 0.0721 - val_accuracy: 0.9782\n",
      "Epoch 11/50\n",
      "1190/1190 [==============================] - 36s 30ms/step - loss: 0.0577 - accuracy: 0.9804 - val_loss: 0.0821 - val_accuracy: 0.9786\n",
      "Epoch 12/50\n",
      "1190/1190 [==============================] - 37s 31ms/step - loss: 0.0574 - accuracy: 0.9806 - val_loss: 0.0912 - val_accuracy: 0.9741\n",
      "Epoch 13/50\n",
      "1190/1190 [==============================] - 38s 32ms/step - loss: 0.0539 - accuracy: 0.9811 - val_loss: 0.0778 - val_accuracy: 0.9763\n",
      "Epoch 14/50\n",
      "1190/1190 [==============================] - 37s 31ms/step - loss: 0.0533 - accuracy: 0.9813 - val_loss: 0.1417 - val_accuracy: 0.9635\n",
      "Epoch 15/50\n",
      "1190/1190 [==============================] - 40s 34ms/step - loss: 0.0512 - accuracy: 0.9822 - val_loss: 0.0783 - val_accuracy: 0.9786\n",
      "Epoch 16/50\n",
      "1190/1190 [==============================] - 43s 36ms/step - loss: 0.0491 - accuracy: 0.9818 - val_loss: 0.0788 - val_accuracy: 0.9745\n",
      "Epoch 17/50\n",
      "1190/1190 [==============================] - 42s 35ms/step - loss: 0.0446 - accuracy: 0.9835 - val_loss: 0.0925 - val_accuracy: 0.9771\n",
      "Epoch 18/50\n",
      "1190/1190 [==============================] - 40s 33ms/step - loss: 0.0435 - accuracy: 0.9839 - val_loss: 0.1114 - val_accuracy: 0.9750\n",
      "Epoch 19/50\n",
      "1190/1190 [==============================] - 46s 39ms/step - loss: 0.0436 - accuracy: 0.9846 - val_loss: 0.1122 - val_accuracy: 0.9705\n",
      "Epoch 20/50\n",
      "1190/1190 [==============================] - 41s 35ms/step - loss: 0.0414 - accuracy: 0.9842 - val_loss: 0.0910 - val_accuracy: 0.9691\n",
      "Epoch 21/50\n",
      "1190/1190 [==============================] - 44s 37ms/step - loss: 0.0377 - accuracy: 0.9861 - val_loss: 0.1159 - val_accuracy: 0.9773\n",
      "Epoch 22/50\n",
      "1190/1190 [==============================] - 47s 39ms/step - loss: 0.0384 - accuracy: 0.9861 - val_loss: 0.0958 - val_accuracy: 0.9748\n",
      "Epoch 23/50\n",
      "1190/1190 [==============================] - 54s 46ms/step - loss: 0.0349 - accuracy: 0.9866 - val_loss: 0.1109 - val_accuracy: 0.9755\n",
      "Epoch 24/50\n",
      "1190/1190 [==============================] - 55s 46ms/step - loss: 0.0344 - accuracy: 0.9881 - val_loss: 0.0776 - val_accuracy: 0.9790\n",
      "Epoch 25/50\n",
      "1190/1190 [==============================] - 47s 40ms/step - loss: 0.0312 - accuracy: 0.9885 - val_loss: 0.0773 - val_accuracy: 0.9784\n",
      "Epoch 26/50\n",
      "1190/1190 [==============================] - 43s 36ms/step - loss: 0.0312 - accuracy: 0.9885 - val_loss: 0.1034 - val_accuracy: 0.9783\n",
      "Epoch 27/50\n",
      "1190/1190 [==============================] - 42s 35ms/step - loss: 0.0329 - accuracy: 0.9876 - val_loss: 0.0869 - val_accuracy: 0.9794\n",
      "Epoch 28/50\n",
      "1190/1190 [==============================] - 39s 33ms/step - loss: 0.0292 - accuracy: 0.9890 - val_loss: 0.1051 - val_accuracy: 0.9683\n",
      "Epoch 29/50\n",
      "1190/1190 [==============================] - 40s 33ms/step - loss: 0.0285 - accuracy: 0.9891 - val_loss: 0.0866 - val_accuracy: 0.9759\n",
      "Epoch 30/50\n",
      "1190/1190 [==============================] - 40s 33ms/step - loss: 0.0280 - accuracy: 0.9895 - val_loss: 0.1165 - val_accuracy: 0.9755\n",
      "Epoch 31/50\n",
      "1190/1190 [==============================] - 39s 33ms/step - loss: 0.0259 - accuracy: 0.9906 - val_loss: 0.1079 - val_accuracy: 0.9786\n",
      "Epoch 32/50\n",
      "1190/1190 [==============================] - 42s 36ms/step - loss: 0.0284 - accuracy: 0.9897 - val_loss: 0.1074 - val_accuracy: 0.9771\n",
      "Epoch 33/50\n",
      "1190/1190 [==============================] - 44s 37ms/step - loss: 0.0260 - accuracy: 0.9907 - val_loss: 0.1219 - val_accuracy: 0.9770\n",
      "Epoch 34/50\n",
      "1190/1190 [==============================] - 41s 35ms/step - loss: 0.0228 - accuracy: 0.9915 - val_loss: 0.1211 - val_accuracy: 0.9773\n",
      "Epoch 35/50\n",
      "1190/1190 [==============================] - 42s 35ms/step - loss: 0.0227 - accuracy: 0.9918 - val_loss: 0.1059 - val_accuracy: 0.9789\n",
      "Epoch 36/50\n",
      "1190/1190 [==============================] - 46s 39ms/step - loss: 0.0216 - accuracy: 0.9923 - val_loss: 0.0930 - val_accuracy: 0.9805\n",
      "Epoch 37/50\n",
      "1190/1190 [==============================] - 53s 44ms/step - loss: 0.0250 - accuracy: 0.9911 - val_loss: 0.0987 - val_accuracy: 0.9754\n",
      "Epoch 38/50\n",
      "1190/1190 [==============================] - 47s 40ms/step - loss: 0.0211 - accuracy: 0.9924 - val_loss: 0.1289 - val_accuracy: 0.9786\n",
      "Epoch 39/50\n",
      "1190/1190 [==============================] - 48s 41ms/step - loss: 0.0210 - accuracy: 0.9923 - val_loss: 0.1202 - val_accuracy: 0.9740\n",
      "Epoch 40/50\n",
      "1190/1190 [==============================] - 53s 44ms/step - loss: 0.0204 - accuracy: 0.9924 - val_loss: 0.1228 - val_accuracy: 0.9770\n",
      "Epoch 41/50\n",
      "1190/1190 [==============================] - 53s 44ms/step - loss: 0.0251 - accuracy: 0.9922 - val_loss: 0.1076 - val_accuracy: 0.9756\n",
      "Epoch 42/50\n",
      "1190/1190 [==============================] - 52s 44ms/step - loss: 0.0201 - accuracy: 0.9927 - val_loss: 0.1010 - val_accuracy: 0.9777\n",
      "Epoch 43/50\n",
      "1190/1190 [==============================] - 52s 43ms/step - loss: 0.0189 - accuracy: 0.9935 - val_loss: 0.1073 - val_accuracy: 0.9781\n",
      "Epoch 44/50\n",
      "1190/1190 [==============================] - 51s 43ms/step - loss: 0.0179 - accuracy: 0.9937 - val_loss: 0.1412 - val_accuracy: 0.9755\n",
      "Epoch 45/50\n",
      "1190/1190 [==============================] - 49s 41ms/step - loss: 0.0187 - accuracy: 0.9940 - val_loss: 0.1214 - val_accuracy: 0.9792\n",
      "Epoch 46/50\n",
      "1190/1190 [==============================] - 46s 39ms/step - loss: 0.0150 - accuracy: 0.9950 - val_loss: 0.1754 - val_accuracy: 0.9736\n",
      "Epoch 47/50\n",
      "1190/1190 [==============================] - 54s 45ms/step - loss: 0.0175 - accuracy: 0.9938 - val_loss: 0.1117 - val_accuracy: 0.9768\n",
      "Epoch 48/50\n",
      "1190/1190 [==============================] - 53s 45ms/step - loss: 0.0150 - accuracy: 0.9940 - val_loss: 0.1319 - val_accuracy: 0.9745\n",
      "Epoch 49/50\n",
      "1190/1190 [==============================] - 57s 48ms/step - loss: 0.0170 - accuracy: 0.9941 - val_loss: 0.1259 - val_accuracy: 0.9744\n",
      "Epoch 50/50\n",
      "1190/1190 [==============================] - 48s 40ms/step - loss: 0.0145 - accuracy: 0.9946 - val_loss: 0.1564 - val_accuracy: 0.9756\n"
     ]
    }
   ],
   "source": [
    "hist = model.fit(X_train, y_train,\n",
    "          batch_size=32, epochs=50,\n",
    "          validation_data=(X_val, y_val))"
   ]
  },
  {
   "cell_type": "code",
   "execution_count": 68,
   "id": "b997e9be",
   "metadata": {},
   "outputs": [
    {
     "name": "stdout",
     "output_type": "stream",
     "text": [
      "255/255 [==============================] - 2s 6ms/step - loss: 0.1410 - accuracy: 0.9759\n"
     ]
    },
    {
     "data": {
      "text/plain": [
       "0.9758548736572266"
      ]
     },
     "execution_count": 68,
     "metadata": {},
     "output_type": "execute_result"
    }
   ],
   "source": [
    "model.evaluate(X_test, y_test)[1]"
   ]
  },
  {
   "cell_type": "code",
   "execution_count": 62,
   "id": "777e6f6a",
   "metadata": {},
   "outputs": [
    {
     "data": {
      "image/png": "[encoded data removed]",
      "text/plain": [
       "<Figure size 432x288 with 1 Axes>"
      ]
     },
     "metadata": {
      "needs_background": "light"
     },
     "output_type": "display_data"
    }
   ],
   "source": [
    "plt.plot(hist.history['accuracy'])\n",
    "plt.plot(hist.history['val_accuracy'])\n",
    "plt.title('Model accuracy')\n",
    "plt.ylabel('Accuracy')\n",
    "plt.xlabel('Epoch')\n",
    "plt.legend(['Train', 'Val'], loc='lower right')\n",
    "plt.show()"
   ]
  },
  {
   "cell_type": "markdown",
   "id": "5ee27627",
   "metadata": {},
   "source": [
    "### The Graph is showing that our model is overfitting\n",
    "### Let's  add some dropout layeres to solve this problem"
   ]
  },
  {
   "cell_type": "markdown",
   "id": "d9ff34b0",
   "metadata": {},
   "source": [
    "# Model2"
   ]
  },
  {
   "cell_type": "code",
   "execution_count": 65,
   "id": "a7ff0064",
   "metadata": {},
   "outputs": [],
   "source": [
    "from keras.layers import Dropout\n",
    "model2 = Sequential([\n",
    "    Dense(1000, activation='relu', input_shape=(129,)),\n",
    "    Dropout(0.3),\n",
    "    Dense(1000, activation='relu'),\n",
    "    Dropout(0.3),\n",
    "    Dense(1000, activation='relu'),\n",
    "    Dropout(0.3),\n",
    "    Dense(1000, activation='relu'),\n",
    "    Dropout(0.3),\n",
    "    Dense(1, activation='sigmoid'),\n",
    "])"
   ]
  },
  {
   "cell_type": "code",
   "execution_count": 66,
   "id": "58c468c3",
   "metadata": {},
   "outputs": [],
   "source": [
    "model2.compile(optimizer='adam',\n",
    "              loss='binary_crossentropy',\n",
    "              metrics=['accuracy'])"
   ]
  },
  {
   "cell_type": "code",
   "execution_count": 67,
   "id": "779cc824",
   "metadata": {
    "scrolled": true
   },
   "outputs": [
    {
     "name": "stdout",
     "output_type": "stream",
     "text": [
      "Epoch 1/50\n",
      "1190/1190 [==============================] - 41s 34ms/step - loss: 0.2124 - accuracy: 0.9173 - val_loss: 0.1707 - val_accuracy: 0.9484\n",
      "Epoch 2/50\n",
      "1190/1190 [==============================] - 38s 32ms/step - loss: 0.1358 - accuracy: 0.9530 - val_loss: 0.1061 - val_accuracy: 0.9643\n",
      "Epoch 3/50\n",
      "1190/1190 [==============================] - 44s 37ms/step - loss: 0.1229 - accuracy: 0.9579 - val_loss: 0.1974 - val_accuracy: 0.9381\n",
      "Epoch 4/50\n",
      "1190/1190 [==============================] - 40s 33ms/step - loss: 0.1110 - accuracy: 0.9645 - val_loss: 0.0903 - val_accuracy: 0.9716\n",
      "Epoch 5/50\n",
      "1190/1190 [==============================] - 44s 37ms/step - loss: 0.1016 - accuracy: 0.9675 - val_loss: 0.0902 - val_accuracy: 0.9696\n",
      "Epoch 6/50\n",
      "1190/1190 [==============================] - 42s 35ms/step - loss: 0.0999 - accuracy: 0.9685 - val_loss: 0.1485 - val_accuracy: 0.9402\n",
      "Epoch 7/50\n",
      "1190/1190 [==============================] - 42s 35ms/step - loss: 0.0962 - accuracy: 0.9692 - val_loss: 0.1038 - val_accuracy: 0.9668\n",
      "Epoch 8/50\n",
      "1190/1190 [==============================] - 42s 35ms/step - loss: 0.0957 - accuracy: 0.9701 - val_loss: 0.0947 - val_accuracy: 0.9724\n",
      "Epoch 9/50\n",
      "1190/1190 [==============================] - 43s 36ms/step - loss: 0.0894 - accuracy: 0.9711 - val_loss: 0.0820 - val_accuracy: 0.9772\n",
      "Epoch 10/50\n",
      "1190/1190 [==============================] - 47s 40ms/step - loss: 0.0889 - accuracy: 0.9723 - val_loss: 0.0793 - val_accuracy: 0.9752\n",
      "Epoch 11/50\n",
      "1190/1190 [==============================] - 39s 33ms/step - loss: 0.0867 - accuracy: 0.9727 - val_loss: 0.0859 - val_accuracy: 0.9739\n",
      "Epoch 12/50\n",
      "1190/1190 [==============================] - 37s 31ms/step - loss: 0.0839 - accuracy: 0.9735 - val_loss: 0.1009 - val_accuracy: 0.9696\n",
      "Epoch 13/50\n",
      "1190/1190 [==============================] - 41s 34ms/step - loss: 0.0837 - accuracy: 0.9736 - val_loss: 0.0887 - val_accuracy: 0.9740\n",
      "Epoch 14/50\n",
      "1190/1190 [==============================] - 43s 37ms/step - loss: 0.0819 - accuracy: 0.9739 - val_loss: 0.0759 - val_accuracy: 0.9784\n",
      "Epoch 15/50\n",
      "1190/1190 [==============================] - 44s 37ms/step - loss: 0.0808 - accuracy: 0.9739 - val_loss: 0.0813 - val_accuracy: 0.9768\n",
      "Epoch 16/50\n",
      "1190/1190 [==============================] - 44s 37ms/step - loss: 0.0790 - accuracy: 0.9739 - val_loss: 0.0887 - val_accuracy: 0.9717\n",
      "Epoch 17/50\n",
      "1190/1190 [==============================] - 44s 37ms/step - loss: 0.0780 - accuracy: 0.9748 - val_loss: 0.0785 - val_accuracy: 0.9776\n",
      "Epoch 18/50\n",
      "1190/1190 [==============================] - 52s 44ms/step - loss: 0.0782 - accuracy: 0.9747 - val_loss: 0.0770 - val_accuracy: 0.9792\n",
      "Epoch 19/50\n",
      "1190/1190 [==============================] - 58s 49ms/step - loss: 0.0762 - accuracy: 0.9749 - val_loss: 0.0774 - val_accuracy: 0.9714\n",
      "Epoch 20/50\n",
      "1190/1190 [==============================] - 55s 46ms/step - loss: 0.0746 - accuracy: 0.9762 - val_loss: 0.0840 - val_accuracy: 0.9754\n",
      "Epoch 21/50\n",
      "1190/1190 [==============================] - 54s 46ms/step - loss: 0.0723 - accuracy: 0.9767 - val_loss: 0.0746 - val_accuracy: 0.9778\n",
      "Epoch 22/50\n",
      "1190/1190 [==============================] - 46s 39ms/step - loss: 0.0750 - accuracy: 0.9757 - val_loss: 0.0735 - val_accuracy: 0.9786\n",
      "Epoch 23/50\n",
      "1190/1190 [==============================] - 47s 40ms/step - loss: 0.0702 - accuracy: 0.9773 - val_loss: 0.0782 - val_accuracy: 0.9743\n",
      "Epoch 24/50\n",
      "1190/1190 [==============================] - 44s 37ms/step - loss: 0.0701 - accuracy: 0.9771 - val_loss: 0.1055 - val_accuracy: 0.9690\n",
      "Epoch 25/50\n",
      "1190/1190 [==============================] - 44s 37ms/step - loss: 0.0703 - accuracy: 0.9773 - val_loss: 0.0770 - val_accuracy: 0.9766\n",
      "Epoch 26/50\n",
      "1190/1190 [==============================] - 44s 37ms/step - loss: 0.0715 - accuracy: 0.9773 - val_loss: 0.0768 - val_accuracy: 0.9779\n",
      "Epoch 27/50\n",
      "1190/1190 [==============================] - 40s 33ms/step - loss: 0.0675 - accuracy: 0.9777 - val_loss: 0.0692 - val_accuracy: 0.9810\n",
      "Epoch 28/50\n",
      "1190/1190 [==============================] - 36s 30ms/step - loss: 0.0666 - accuracy: 0.9786 - val_loss: 0.0846 - val_accuracy: 0.9708\n",
      "Epoch 29/50\n",
      "1190/1190 [==============================] - 48s 40ms/step - loss: 0.0681 - accuracy: 0.9773 - val_loss: 0.0784 - val_accuracy: 0.9767\n",
      "Epoch 30/50\n",
      "1190/1190 [==============================] - 53s 45ms/step - loss: 0.0677 - accuracy: 0.9784 - val_loss: 0.0768 - val_accuracy: 0.9774\n",
      "Epoch 31/50\n",
      "1190/1190 [==============================] - 53s 45ms/step - loss: 0.0653 - accuracy: 0.9790 - val_loss: 0.0738 - val_accuracy: 0.9755\n",
      "Epoch 32/50\n",
      "1190/1190 [==============================] - 45s 37ms/step - loss: 0.0653 - accuracy: 0.9785 - val_loss: 0.0855 - val_accuracy: 0.9733\n",
      "Epoch 33/50\n",
      "1190/1190 [==============================] - 53s 44ms/step - loss: 0.0622 - accuracy: 0.9796 - val_loss: 0.0752 - val_accuracy: 0.9770\n",
      "Epoch 34/50\n",
      "1190/1190 [==============================] - 46s 39ms/step - loss: 0.0646 - accuracy: 0.9795 - val_loss: 0.0733 - val_accuracy: 0.9811\n",
      "Epoch 35/50\n",
      "1190/1190 [==============================] - 39s 33ms/step - loss: 0.0660 - accuracy: 0.9793 - val_loss: 0.0863 - val_accuracy: 0.9735\n",
      "Epoch 36/50\n",
      "1190/1190 [==============================] - 48s 40ms/step - loss: 0.0643 - accuracy: 0.9796 - val_loss: 0.0984 - val_accuracy: 0.9698\n",
      "Epoch 37/50\n",
      "1190/1190 [==============================] - 50s 42ms/step - loss: 0.0661 - accuracy: 0.9776 - val_loss: 0.1089 - val_accuracy: 0.9702\n",
      "Epoch 38/50\n",
      "1190/1190 [==============================] - 39s 33ms/step - loss: 0.0644 - accuracy: 0.9789 - val_loss: 0.0729 - val_accuracy: 0.9797\n",
      "Epoch 39/50\n",
      "1190/1190 [==============================] - 46s 38ms/step - loss: 0.0643 - accuracy: 0.9795 - val_loss: 0.0749 - val_accuracy: 0.9784\n",
      "Epoch 40/50\n",
      "1190/1190 [==============================] - 47s 40ms/step - loss: 0.0662 - accuracy: 0.9783 - val_loss: 0.0805 - val_accuracy: 0.9770\n",
      "Epoch 41/50\n",
      "1190/1190 [==============================] - 49s 41ms/step - loss: 0.0652 - accuracy: 0.9787 - val_loss: 0.0780 - val_accuracy: 0.9760\n",
      "Epoch 42/50\n",
      "1190/1190 [==============================] - 47s 39ms/step - loss: 0.0609 - accuracy: 0.9800 - val_loss: 0.0795 - val_accuracy: 0.9761\n",
      "Epoch 43/50\n",
      "1190/1190 [==============================] - 48s 40ms/step - loss: 0.0604 - accuracy: 0.9805 - val_loss: 0.0816 - val_accuracy: 0.9723\n",
      "Epoch 44/50\n",
      "1190/1190 [==============================] - 49s 41ms/step - loss: 0.0588 - accuracy: 0.9811 - val_loss: 0.0809 - val_accuracy: 0.9759\n",
      "Epoch 45/50\n",
      "1190/1190 [==============================] - 58s 48ms/step - loss: 0.0579 - accuracy: 0.9815 - val_loss: 0.1049 - val_accuracy: 0.9667\n",
      "Epoch 46/50\n",
      "1190/1190 [==============================] - 54s 45ms/step - loss: 0.0592 - accuracy: 0.9799 - val_loss: 0.0904 - val_accuracy: 0.9776\n",
      "Epoch 47/50\n",
      "1190/1190 [==============================] - 46s 39ms/step - loss: 0.0557 - accuracy: 0.9809 - val_loss: 0.0860 - val_accuracy: 0.9748\n",
      "Epoch 48/50\n",
      "1190/1190 [==============================] - 51s 43ms/step - loss: 0.0586 - accuracy: 0.9807 - val_loss: 0.0757 - val_accuracy: 0.9782\n",
      "Epoch 49/50\n",
      "1190/1190 [==============================] - 53s 44ms/step - loss: 0.0597 - accuracy: 0.9809 - val_loss: 0.0752 - val_accuracy: 0.9751\n",
      "Epoch 50/50\n",
      "1190/1190 [==============================] - 52s 44ms/step - loss: 0.0554 - accuracy: 0.9822 - val_loss: 0.0873 - val_accuracy: 0.9759\n"
     ]
    }
   ],
   "source": [
    "hist2 = model2.fit(X_train, y_train,\n",
    "          batch_size=32, epochs=50,\n",
    "          validation_data=(X_val, y_val))"
   ]
  },
  {
   "cell_type": "markdown",
   "id": "5f5a3384",
   "metadata": {},
   "source": [
    "# evaluation of model2"
   ]
  },
  {
   "cell_type": "code",
   "execution_count": 69,
   "id": "59fa002a",
   "metadata": {},
   "outputs": [
    {
     "name": "stdout",
     "output_type": "stream",
     "text": [
      "255/255 [==============================] - 2s 6ms/step - loss: 0.0824 - accuracy: 0.9774\n"
     ]
    },
    {
     "data": {
      "text/plain": [
       "0.9774482250213623"
      ]
     },
     "execution_count": 69,
     "metadata": {},
     "output_type": "execute_result"
    }
   ],
   "source": [
    "model2.evaluate(X_test, y_test)[1]"
   ]
  },
  {
   "cell_type": "code",
   "execution_count": 70,
   "id": "1078d05a",
   "metadata": {},
   "outputs": [
    {
     "data": {
      "image/png": "[encoded data removed]",
      "text/plain": [
       "<Figure size 432x288 with 1 Axes>"
      ]
     },
     "metadata": {
      "needs_background": "light"
     },
     "output_type": "display_data"
    }
   ],
   "source": [
    "plt.plot(hist2.history['accuracy'])\n",
    "plt.plot(hist2.history['val_accuracy'])\n",
    "plt.title('Model accuracy')\n",
    "plt.ylabel('Accuracy')\n",
    "plt.xlabel('Epoch')\n",
    "plt.legend(['Train', 'Val'], loc='lower right')\n",
    "plt.show()"
   ]
  },
  {
   "cell_type": "markdown",
   "id": "cfee4868",
   "metadata": {},
   "source": [
    "### we’ve reduced overfitting substantially! And that’s how we apply our regularization techniques to reduce overfitting to the training set and we obtained an accuracy of 97% on the testdataset"
   ]
  }
 ],
 "metadata": {
  "kernelspec": {
   "display_name": "Python 3 (ipykernel)",
   "language": "python",
   "name": "python3"
  },
  "language_info": {
   "codemirror_mode": {
    "name": "ipython",
    "version": 3
   },
   "file_extension": ".py",
   "mimetype": "text/x-python",
   "name": "python",
   "nbconvert_exporter": "python",
   "pygments_lexer": "ipython3",
   "version": "3.8.10"
  }
 },
 "nbformat": 4,
 "nbformat_minor": 5
}
